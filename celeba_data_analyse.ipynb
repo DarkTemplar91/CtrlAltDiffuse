{
 "cells": [
  {
   "cell_type": "markdown",
   "metadata": {},
   "source": [
    "# Interactive Clustering of CelebA/Flowers102 Images with PyTorch and Plotly\n",
    "\n",
    "In this notebook, we will:\n",
    "\n",
    "- Use **PyTorch** to extract features from the CelebA dataset using a pre-trained VGG16 model.\n",
    "- Perform dimensionality reduction using **PCA**.\n",
    "- Apply **K-Means** clustering to group similar images.\n",
    "- Use **t-SNE** for visualization.\n",
    "- Create an interactive plot within the Jupyter Notebook where clicking on a point displays the corresponding image."
   ],
   "id": "3641ce0b1abf2495"
  },
  {
   "cell_type": "markdown",
   "metadata": {},
   "source": [
    "## Prerequisites\n",
    "\n",
    "Ensure you have the following libraries installed:\n",
    "\n",
    "```bash\n",
    "pip install numpy pandas tqdm pillow torch torchvision scikit-learn plotly ipywidgets\n",
    "```"
   ],
   "id": "463c438a3ea53f18"
  },
  {
   "cell_type": "markdown",
   "metadata": {},
   "source": [
    "## 1. Import Necessary Libraries\n",
    "\n",
    "First, we import all the necessary libraries.\n"
   ],
   "id": "cbff38ac035bebce"
  },
  {
   "cell_type": "code",
   "metadata": {
    "ExecuteTime": {
     "end_time": "2024-12-08T17:40:26.944865Z",
     "start_time": "2024-12-08T17:40:26.940496Z"
    }
   },
   "source": [
    "# Import necessary libraries\n",
    "import os\n",
    "import numpy as np\n",
    "import pandas as pd\n",
    "import plotly.graph_objects as go\n",
    "from PIL import Image\n",
    "from tqdm import tqdm\n",
    "\n",
    "# PyTorch libraries\n",
    "import torch\n",
    "from torchvision import models, transforms\n",
    "from torchvision.models import VGG16_Weights\n",
    "\n",
    "# Dimensionality reduction and clustering\n",
    "from sklearn.decomposition import PCA\n",
    "from sklearn.cluster import KMeans\n",
    "from sklearn.manifold import TSNE\n",
    "\n",
    "# Widgets for interactive display\n",
    "import ipywidgets as widgets\n",
    "from IPython.display import display"
   ],
   "id": "d99f4d27e4caeb16",
   "outputs": [],
   "execution_count": 31
  },
  {
   "cell_type": "markdown",
   "metadata": {},
   "source": [
    "## 2. Check for GPU Availability\n",
    "\n",
    "We check if a GPU is available and set the device accordingly. "
   ],
   "id": "8553a9715c31c285"
  },
  {
   "cell_type": "code",
   "metadata": {
    "ExecuteTime": {
     "end_time": "2024-12-08T17:40:26.960896Z",
     "start_time": "2024-12-08T17:40:26.955618Z"
    }
   },
   "source": [
    "# Check if GPU is available\n",
    "device = torch.device(\"cuda\" if torch.cuda.is_available() else \"cpu\")\n",
    "print(\"Using device:\", device)"
   ],
   "id": "f84d52a422f2d8ad",
   "outputs": [
    {
     "name": "stdout",
     "output_type": "stream",
     "text": [
      "Using device: cuda\n"
     ]
    }
   ],
   "execution_count": 32
  },
  {
   "cell_type": "markdown",
   "metadata": {},
   "source": [
    "## 3. Set Up Image Path and Variables\n",
    "\n",
    "We set the path to the CelebA dataset and list the image files. "
   ],
   "id": "2586db42ca04f753"
  },
  {
   "cell_type": "code",
   "metadata": {
    "ExecuteTime": {
     "end_time": "2024-12-08T17:40:27.175163Z",
     "start_time": "2024-12-08T17:40:27.021656Z"
    }
   },
   "source": [
    "# Set the path to the CelebA or Flowers dataset directory\n",
    "current_dir = os.getcwd()\n",
    "image_folder = os.path.join(current_dir, 'datasets', 'celeba', 'img_align_celeba')\n",
    "\n",
    "print(f\"Image folder path: {image_folder}\")\n",
    "\n",
    "# List image files\n",
    "image_files = [f for f in os.listdir(image_folder) if f.endswith('.jpg')]\n",
    "\n",
    "# Limit the number of images to manage memory usage\n",
    "max_images = 1000  # Set to desired limit\n",
    "image_files = np.random.choice(image_files, max_images, replace=False)\n",
    "\n",
    "# Number of n_clusters=20\n",
    "clusters=20\n",
    "\n",
    "# Display the number of images\n",
    "print(f\"Number of images: {len(image_files)}\")"
   ],
   "id": "48789d5eeed3ce70",
   "outputs": [
    {
     "name": "stdout",
     "output_type": "stream",
     "text": [
      "Image folder path: /home/user/CtrlAltDiffuse/datasets/celeba/img_align_celeba\n",
      "Number of images: 1000\n"
     ]
    }
   ],
   "execution_count": 33
  },
  {
   "cell_type": "markdown",
   "metadata": {},
   "source": "> **Note**: Ensure that the `image_folder` path points to the correct location of your CelebA or Flowers dataset. ",
   "id": "c882cca8acdbfb0d"
  },
  {
   "cell_type": "markdown",
   "metadata": {},
   "source": [
    "## 4. Define Image Transformations\n",
    "\n",
    "We define the image transformations to preprocess the images. Since not all images are size 256x256, we resize them."
   ],
   "id": "77f538c5d66fae97"
  },
  {
   "cell_type": "code",
   "metadata": {
    "ExecuteTime": {
     "end_time": "2024-12-08T17:40:27.269460Z",
     "start_time": "2024-12-08T17:40:27.264886Z"
    }
   },
   "source": [
    "# Define image transformations (no resizing)\n",
    "transform = transforms.Compose([\n",
    "    transforms.Resize((256, 256), antialias=True),\n",
    "    transforms.ToTensor(),\n",
    "    transforms.Normalize(mean=0.5, std=0.5)\n",
    "])"
   ],
   "id": "911d9c94f3e5aabd",
   "outputs": [],
   "execution_count": 34
  },
  {
   "cell_type": "markdown",
   "metadata": {},
   "source": [
    "## 5. Load Pre-trained VGG16 Model\n",
    "\n",
    "We load the pre-trained VGG16 model from PyTorch, setting it to evaluation mode. "
   ],
   "id": "a0bdbfd93c873f8c"
  },
  {
   "cell_type": "code",
   "metadata": {
    "ExecuteTime": {
     "end_time": "2024-12-08T17:40:29.041889Z",
     "start_time": "2024-12-08T17:40:27.317810Z"
    }
   },
   "source": [
    "# Load the pre-trained VGG16 model\n",
    "model = models.vgg16(weights=VGG16_Weights.DEFAULT)\n",
    "model = model.to(device)\n",
    "model.eval()  # Set model to evaluation mode\n",
    "print(\"Model loaded.\")"
   ],
   "id": "9044cbcdd18a7078",
   "outputs": [
    {
     "name": "stdout",
     "output_type": "stream",
     "text": [
      "Model loaded.\n"
     ]
    }
   ],
   "execution_count": 35
  },
  {
   "cell_type": "markdown",
   "metadata": {},
   "source": [
    "## 6. Create Feature Extractor\n",
    "\n",
    "We create a feature extractor by removing the classification layers from the VGG16 model. "
   ],
   "id": "b474815e3fbaa026"
  },
  {
   "cell_type": "code",
   "metadata": {
    "ExecuteTime": {
     "end_time": "2024-12-08T17:40:29.117296Z",
     "start_time": "2024-12-08T17:40:29.110864Z"
    }
   },
   "source": [
    "# Create a feature extractor by removing the classification layers\n",
    "class FeatureExtractor(torch.nn.Module):\n",
    "    def __init__(self, model):\n",
    "        super(FeatureExtractor, self).__init__()\n",
    "        # Use all layers except the last classifier layers\n",
    "        self.features = model.features\n",
    "        # Add adaptive pooling to ensure consistent output size\n",
    "        self.avgpool = torch.nn.AdaptiveAvgPool2d((7, 7))\n",
    "\n",
    "    def forward(self, x):\n",
    "        x = self.features(x)\n",
    "        x = self.avgpool(x)\n",
    "        x = torch.flatten(x, 1)\n",
    "        return x\n",
    "\n",
    "feature_extractor = FeatureExtractor(model).to(device)"
   ],
   "id": "adb6aec6a3d0c1f2",
   "outputs": [],
   "execution_count": 36
  },
  {
   "cell_type": "markdown",
   "metadata": {},
   "source": [
    "## 7. Extract Features from Images\n",
    "\n",
    "We loop through the images, preprocess them, and extract features using the feature extractor. "
   ],
   "id": "5d95082c9076e9f2"
  },
  {
   "cell_type": "code",
   "metadata": {
    "ExecuteTime": {
     "end_time": "2024-12-08T17:40:39.480715Z",
     "start_time": "2024-12-08T17:40:29.205246Z"
    }
   },
   "source": [
    "# Extract features from images\n",
    "print(\"Extracting features...\")\n",
    "features_list = []\n",
    "\n",
    "for image_file in tqdm(image_files):\n",
    "    img_path = os.path.join(image_folder, image_file)\n",
    "    image = Image.open(img_path).convert('RGB')\n",
    "    image = transform(image)\n",
    "    image = image.unsqueeze(0).to(device)\n",
    "\n",
    "    with torch.no_grad():\n",
    "        feature = feature_extractor(image)\n",
    "    feature = feature.cpu().numpy().flatten()\n",
    "    features_list.append(feature)\n",
    "\n",
    "features_array = np.array(features_list)\n",
    "print(f\"Shape of extracted features: {features_array.shape}\")"
   ],
   "id": "19dfbcf09ba9a7dd",
   "outputs": [
    {
     "name": "stdout",
     "output_type": "stream",
     "text": [
      "Extracting features...\n"
     ]
    },
    {
     "name": "stderr",
     "output_type": "stream",
     "text": [
      "100%|██████████| 1000/1000 [00:10<00:00, 98.50it/s]\n"
     ]
    },
    {
     "name": "stdout",
     "output_type": "stream",
     "text": [
      "Shape of extracted features: (1000, 25088)\n"
     ]
    }
   ],
   "execution_count": 37
  },
  {
   "cell_type": "markdown",
   "metadata": {},
   "source": "> **Note**: This step may take some time depending on the number of images and your hardware. ",
   "id": "16a5327870e252f1"
  },
  {
   "cell_type": "markdown",
   "metadata": {},
   "source": [
    "## 8. Apply PCA for Dimensionality Reduction\n",
    "\n",
    "We reduce the dimensionality of the features using PCA. "
   ],
   "id": "716ab5265f8a5044"
  },
  {
   "cell_type": "code",
   "metadata": {
    "ExecuteTime": {
     "end_time": "2024-12-08T17:40:42.101389Z",
     "start_time": "2024-12-08T17:40:39.521939Z"
    }
   },
   "source": [
    "# Apply PCA for dimensionality reduction\n",
    "pca = PCA(n_components=100)\n",
    "features_pca = pca.fit_transform(features_array)\n",
    "print(f\"Shape after PCA: {features_pca.shape}\")"
   ],
   "id": "56776079770b5ede",
   "outputs": [
    {
     "name": "stdout",
     "output_type": "stream",
     "text": [
      "Shape after PCA: (1000, 100)\n"
     ]
    }
   ],
   "execution_count": 38
  },
  {
   "cell_type": "markdown",
   "metadata": {},
   "source": [
    "## 9. Perform K-Means Clustering\n",
    " \n",
    "We cluster the images using K-Means clustering."
   ],
   "id": "5eb36cc1a1072e3c"
  },
  {
   "cell_type": "code",
   "metadata": {
    "ExecuteTime": {
     "end_time": "2024-12-08T17:40:42.169271Z",
     "start_time": "2024-12-08T17:40:42.149893Z"
    }
   },
   "source": [
    "# Perform K-Means clustering\n",
    "kmeans = KMeans(n_clusters=clusters, random_state=42)\n",
    "kmeans_labels = kmeans.fit_predict(features_pca)\n",
    "print(\"Clustering completed.\")"
   ],
   "id": "82e61bb6ba873490",
   "outputs": [
    {
     "name": "stdout",
     "output_type": "stream",
     "text": [
      "Clustering completed.\n"
     ]
    }
   ],
   "execution_count": 39
  },
  {
   "cell_type": "markdown",
   "metadata": {},
   "source": [
    "## 10. Use t-SNE for Visualization\n",
    "\n",
    "We use t-SNE to reduce the data to two dimensions for visualization. "
   ],
   "id": "78e4a7654e800ede"
  },
  {
   "cell_type": "code",
   "metadata": {
    "ExecuteTime": {
     "end_time": "2024-12-08T17:40:44.377081Z",
     "start_time": "2024-12-08T17:40:42.225046Z"
    }
   },
   "source": [
    "# Use t-SNE for visualization\n",
    "tsne = TSNE(n_components=2, random_state=42, perplexity=30, max_iter=1000)\n",
    "features_tsne = tsne.fit_transform(features_pca)\n",
    "print(\"t-SNE transformation completed.\")"
   ],
   "id": "5bdec71708485e7d",
   "outputs": [
    {
     "name": "stdout",
     "output_type": "stream",
     "text": [
      "t-SNE transformation completed.\n"
     ]
    }
   ],
   "execution_count": 40
  },
  {
   "cell_type": "markdown",
   "metadata": {},
   "source": [
    "## 11. Prepare DataFrame for Visualization \n",
    "\n",
    "We create a DataFrame containing the t-SNE results and other relevant data."
   ],
   "id": "6f5d2f1a713f11fb"
  },
  {
   "cell_type": "code",
   "metadata": {
    "ExecuteTime": {
     "end_time": "2024-12-08T17:40:44.430784Z",
     "start_time": "2024-12-08T17:40:44.424607Z"
    }
   },
   "source": [
    "# Prepare DataFrame for visualization\n",
    "tsne_df = pd.DataFrame({\n",
    "    'TSNE1': features_tsne[:, 0],\n",
    "    'TSNE2': features_tsne[:, 1],\n",
    "    'Cluster': kmeans_labels.astype(str),\n",
    "    'Image File': image_files\n",
    "})"
   ],
   "id": "14c0a3c46edcb351",
   "outputs": [],
   "execution_count": 41
  },
  {
   "cell_type": "markdown",
   "metadata": {},
   "source": [
    "## 12. Create Interactive Plot and Image Display\n",
    "\n",
    "We create an interactive plot using Plotly's `FigureWidget` and display the image corresponding to the selected point. "
   ],
   "id": "259076b40ac16e3b"
  },
  {
   "cell_type": "code",
   "metadata": {
    "ExecuteTime": {
     "end_time": "2024-12-08T17:40:44.549542Z",
     "start_time": "2024-12-08T17:40:44.481334Z"
    }
   },
   "source": [
    "# Create a FigureWidget\n",
    "scatter = go.FigureWidget(\n",
    "    data=go.Scattergl(\n",
    "        x=tsne_df['TSNE1'],\n",
    "        y=tsne_df['TSNE2'],\n",
    "        mode='markers',\n",
    "        marker=dict(\n",
    "            color=tsne_df['Cluster'].astype(int),\n",
    "            colorscale='Viridis',\n",
    "            showscale=True,\n",
    "            size=5\n",
    "        ),\n",
    "        customdata=tsne_df['Image File'],\n",
    "        hovertemplate='<b>Image File:</b> %{customdata}<br>' +\n",
    "                      '<b>Cluster:</b> %{marker.color}<br>' +\n",
    "                      '<extra></extra>'\n",
    "    )\n",
    ")\n",
    "\n",
    "scatter.update_layout(\n",
    "    title='t-SNE Visualization of CelebA Images',\n",
    "    xaxis_title='t-SNE Dimension 1',\n",
    "    yaxis_title='t-SNE Dimension 2',\n",
    "    width=800,\n",
    "    height=600\n",
    ")\n",
    "\n",
    "# Create an Image widget to display the selected image\n",
    "image_widget = widgets.Image(\n",
    "    format='jpg',\n",
    "    width=256,\n",
    "    height=256\n",
    ")\n",
    "\n",
    "# Create a function to handle click events\n",
    "def update_image(trace, points, selector):\n",
    "    if points.point_inds:\n",
    "        ind = points.point_inds[0]\n",
    "        image_file = tsne_df.iloc[ind]['Image File']\n",
    "        img_path = os.path.join(image_folder, image_file)\n",
    "        with open(img_path, 'rb') as f:\n",
    "            img_data = f.read()\n",
    "            image_widget.value = img_data\n",
    "\n",
    "# Attach the click event handler\n",
    "scatter.data[0].on_click(update_image)\n",
    "\n",
    "# Display the plot and the image widget\n",
    "container = widgets.VBox([scatter, image_widget])\n",
    "display(container)"
   ],
   "id": "1a126fcf928525bc",
   "outputs": [
    {
     "data": {
      "text/plain": [
       "VBox(children=(FigureWidget({\n",
       "    'data': [{'customdata': array(['116420.jpg', '039540.jpg', '039709.jpg', ...…"
      ],
      "application/vnd.jupyter.widget-view+json": {
       "version_major": 2,
       "version_minor": 0,
       "model_id": "e133c465d2604ef794637691789bd2db"
      }
     },
     "metadata": {},
     "output_type": "display_data"
    }
   ],
   "execution_count": 42
  },
  {
   "metadata": {},
   "cell_type": "markdown",
   "source": [
    "![Cluster12](plots/celeba_cluster_distribution.png \"Static version of an interactive chart\")\n",
    "*The following chart was originally created as an interactive diagram. However, due to GitHub's current limitations, it is displayed here as a static PNG.*\n"
   ],
   "id": "41aaa6377f605106"
  },
  {
   "metadata": {},
   "cell_type": "markdown",
   "source": [
    "![Cluster12](plots/celeba_cluster_distribution2.png \"Static version of an interactive chart\")\n",
    "*The following chart was originally created as an interactive diagram. However, due to GitHub's current limitations, it is displayed here as a static PNG.*\n"
   ],
   "id": "4916e6210fff7833"
  },
  {
   "metadata": {},
   "cell_type": "markdown",
   "source": [
    "### Clustering Results\n",
    "\n",
    "The t-SNE model effectively clustered the images, demonstrating its ability to separate the data into meaningful groups. For example:\n",
    "\n",
    "- **CelebA Dataset**: Individuals wearing sunglasses were grouped into a specific cluster, highlighting the model's capacity to capture visual attributes. (Cluster 16)\n",
    "This clear separation illustrates the t-SNE model's strength in visualizing high-dimensional data in two-dimensional space.\n",
    "- We found 19 clusters,\n"
   ],
   "id": "7c33faf584f5878c"
  },
  {
   "metadata": {},
   "cell_type": "markdown",
   "source": "## 13. Color analysis ",
   "id": "9bf411b36a7b4b7c"
  },
  {
   "metadata": {
    "ExecuteTime": {
     "end_time": "2024-12-08T17:40:46.983131Z",
     "start_time": "2024-12-08T17:40:44.578997Z"
    }
   },
   "cell_type": "code",
   "source": [
    "rgb_sum = torch.zeros(3)\n",
    "pixel_count = 0\n",
    "\n",
    "transform_image = transforms.ToTensor()\n",
    "\n",
    "# Initialize histograms for RGB channels (256 bins for pixel intensities 0-255)\n",
    "hist_r = np.zeros(256)\n",
    "hist_g = np.zeros(256)\n",
    "hist_b = np.zeros(256)\n",
    "\n",
    "for image_file in image_files:\n",
    "    image_path = os.path.join(image_folder, image_file)\n",
    "    image = Image.open(image_path)\n",
    "    \n",
    "    image_tensor = transform_image(image)\n",
    "    rgb_sum += image_tensor.sum(dim=[1, 2])\n",
    "    \n",
    "    # Count the number of pixels (height * width)\n",
    "    pixel_count += image_tensor.size(1) * image_tensor.size(2)\n",
    "    \n",
    "    # Convert tensor to numpy array and rescale to 0-255 range\n",
    "    image_np = image_tensor.numpy() * 255\n",
    "    \n",
    "    # Flatten the image for each channel\n",
    "    red_channel = image_np[0, :, :].flatten()\n",
    "    green_channel = image_np[1, :, :].flatten()\n",
    "    blue_channel = image_np[2, :, :].flatten()\n",
    "    \n",
    "    # Update histograms for each color channel\n",
    "    hist_r += np.histogram(red_channel, bins=256, range=(0, 256))[0]\n",
    "    hist_g += np.histogram(green_channel, bins=256, range=(0, 256))[0]\n",
    "    hist_b += np.histogram(blue_channel, bins=256, range=(0, 256))[0]\n",
    "\n",
    "mean_rgb = rgb_sum / pixel_count\n",
    "mean_rgb_np = mean_rgb.numpy()\n"
   ],
   "id": "ad8f1da6b147343d",
   "outputs": [],
   "execution_count": 43
  },
  {
   "metadata": {
    "ExecuteTime": {
     "end_time": "2024-12-08T17:40:47.025211Z",
     "start_time": "2024-12-08T17:40:47.012004Z"
    }
   },
   "cell_type": "code",
   "source": [
    "# Plotly Bar Chart for Mean RGB\n",
    "fig_rgb = go.Figure()\n",
    "\n",
    "fig_rgb.add_trace(go.Bar(\n",
    "    x=['Red', 'Green', 'Blue'],\n",
    "    y=mean_rgb_np,\n",
    "    marker=dict(color=['red', 'green', 'blue']),\n",
    "    name='Mean Color Intensity'\n",
    "))\n",
    "\n",
    "fig_rgb.update_layout(\n",
    "    title=\"Average Color Distribution in Training Set\",\n",
    "    xaxis_title=\"Color Channels\",\n",
    "    yaxis_title=\"Mean Pixel Intensity\",\n",
    "    showlegend=False\n",
    ")\n",
    "\n",
    "fig_rgb.show()"
   ],
   "id": "e498e57a88401ca3",
   "outputs": [
    {
     "data": {
      "application/vnd.plotly.v1+json": {
       "data": [
        {
         "marker": {
          "color": [
           "red",
           "green",
           "blue"
          ]
         },
         "name": "Mean Color Intensity",
         "x": [
          "Red",
          "Green",
          "Blue"
         ],
         "y": [
          0.49749839305877686,
          0.4167778193950653,
          0.37514886260032654
         ],
         "type": "bar"
        }
       ],
       "layout": {
        "template": {
         "data": {
          "histogram2dcontour": [
           {
            "type": "histogram2dcontour",
            "colorbar": {
             "outlinewidth": 0,
             "ticks": ""
            },
            "colorscale": [
             [
              0.0,
              "#0d0887"
             ],
             [
              0.1111111111111111,
              "#46039f"
             ],
             [
              0.2222222222222222,
              "#7201a8"
             ],
             [
              0.3333333333333333,
              "#9c179e"
             ],
             [
              0.4444444444444444,
              "#bd3786"
             ],
             [
              0.5555555555555556,
              "#d8576b"
             ],
             [
              0.6666666666666666,
              "#ed7953"
             ],
             [
              0.7777777777777778,
              "#fb9f3a"
             ],
             [
              0.8888888888888888,
              "#fdca26"
             ],
             [
              1.0,
              "#f0f921"
             ]
            ]
           }
          ],
          "choropleth": [
           {
            "type": "choropleth",
            "colorbar": {
             "outlinewidth": 0,
             "ticks": ""
            }
           }
          ],
          "histogram2d": [
           {
            "type": "histogram2d",
            "colorbar": {
             "outlinewidth": 0,
             "ticks": ""
            },
            "colorscale": [
             [
              0.0,
              "#0d0887"
             ],
             [
              0.1111111111111111,
              "#46039f"
             ],
             [
              0.2222222222222222,
              "#7201a8"
             ],
             [
              0.3333333333333333,
              "#9c179e"
             ],
             [
              0.4444444444444444,
              "#bd3786"
             ],
             [
              0.5555555555555556,
              "#d8576b"
             ],
             [
              0.6666666666666666,
              "#ed7953"
             ],
             [
              0.7777777777777778,
              "#fb9f3a"
             ],
             [
              0.8888888888888888,
              "#fdca26"
             ],
             [
              1.0,
              "#f0f921"
             ]
            ]
           }
          ],
          "heatmap": [
           {
            "type": "heatmap",
            "colorbar": {
             "outlinewidth": 0,
             "ticks": ""
            },
            "colorscale": [
             [
              0.0,
              "#0d0887"
             ],
             [
              0.1111111111111111,
              "#46039f"
             ],
             [
              0.2222222222222222,
              "#7201a8"
             ],
             [
              0.3333333333333333,
              "#9c179e"
             ],
             [
              0.4444444444444444,
              "#bd3786"
             ],
             [
              0.5555555555555556,
              "#d8576b"
             ],
             [
              0.6666666666666666,
              "#ed7953"
             ],
             [
              0.7777777777777778,
              "#fb9f3a"
             ],
             [
              0.8888888888888888,
              "#fdca26"
             ],
             [
              1.0,
              "#f0f921"
             ]
            ]
           }
          ],
          "heatmapgl": [
           {
            "type": "heatmapgl",
            "colorbar": {
             "outlinewidth": 0,
             "ticks": ""
            },
            "colorscale": [
             [
              0.0,
              "#0d0887"
             ],
             [
              0.1111111111111111,
              "#46039f"
             ],
             [
              0.2222222222222222,
              "#7201a8"
             ],
             [
              0.3333333333333333,
              "#9c179e"
             ],
             [
              0.4444444444444444,
              "#bd3786"
             ],
             [
              0.5555555555555556,
              "#d8576b"
             ],
             [
              0.6666666666666666,
              "#ed7953"
             ],
             [
              0.7777777777777778,
              "#fb9f3a"
             ],
             [
              0.8888888888888888,
              "#fdca26"
             ],
             [
              1.0,
              "#f0f921"
             ]
            ]
           }
          ],
          "contourcarpet": [
           {
            "type": "contourcarpet",
            "colorbar": {
             "outlinewidth": 0,
             "ticks": ""
            }
           }
          ],
          "contour": [
           {
            "type": "contour",
            "colorbar": {
             "outlinewidth": 0,
             "ticks": ""
            },
            "colorscale": [
             [
              0.0,
              "#0d0887"
             ],
             [
              0.1111111111111111,
              "#46039f"
             ],
             [
              0.2222222222222222,
              "#7201a8"
             ],
             [
              0.3333333333333333,
              "#9c179e"
             ],
             [
              0.4444444444444444,
              "#bd3786"
             ],
             [
              0.5555555555555556,
              "#d8576b"
             ],
             [
              0.6666666666666666,
              "#ed7953"
             ],
             [
              0.7777777777777778,
              "#fb9f3a"
             ],
             [
              0.8888888888888888,
              "#fdca26"
             ],
             [
              1.0,
              "#f0f921"
             ]
            ]
           }
          ],
          "surface": [
           {
            "type": "surface",
            "colorbar": {
             "outlinewidth": 0,
             "ticks": ""
            },
            "colorscale": [
             [
              0.0,
              "#0d0887"
             ],
             [
              0.1111111111111111,
              "#46039f"
             ],
             [
              0.2222222222222222,
              "#7201a8"
             ],
             [
              0.3333333333333333,
              "#9c179e"
             ],
             [
              0.4444444444444444,
              "#bd3786"
             ],
             [
              0.5555555555555556,
              "#d8576b"
             ],
             [
              0.6666666666666666,
              "#ed7953"
             ],
             [
              0.7777777777777778,
              "#fb9f3a"
             ],
             [
              0.8888888888888888,
              "#fdca26"
             ],
             [
              1.0,
              "#f0f921"
             ]
            ]
           }
          ],
          "mesh3d": [
           {
            "type": "mesh3d",
            "colorbar": {
             "outlinewidth": 0,
             "ticks": ""
            }
           }
          ],
          "scatter": [
           {
            "marker": {
             "line": {
              "color": "#283442"
             }
            },
            "type": "scatter"
           }
          ],
          "parcoords": [
           {
            "type": "parcoords",
            "line": {
             "colorbar": {
              "outlinewidth": 0,
              "ticks": ""
             }
            }
           }
          ],
          "scatterpolargl": [
           {
            "type": "scatterpolargl",
            "marker": {
             "colorbar": {
              "outlinewidth": 0,
              "ticks": ""
             }
            }
           }
          ],
          "bar": [
           {
            "error_x": {
             "color": "#f2f5fa"
            },
            "error_y": {
             "color": "#f2f5fa"
            },
            "marker": {
             "line": {
              "color": "rgb(17,17,17)",
              "width": 0.5
             },
             "pattern": {
              "fillmode": "overlay",
              "size": 10,
              "solidity": 0.2
             }
            },
            "type": "bar"
           }
          ],
          "scattergeo": [
           {
            "type": "scattergeo",
            "marker": {
             "colorbar": {
              "outlinewidth": 0,
              "ticks": ""
             }
            }
           }
          ],
          "scatterpolar": [
           {
            "type": "scatterpolar",
            "marker": {
             "colorbar": {
              "outlinewidth": 0,
              "ticks": ""
             }
            }
           }
          ],
          "histogram": [
           {
            "marker": {
             "pattern": {
              "fillmode": "overlay",
              "size": 10,
              "solidity": 0.2
             }
            },
            "type": "histogram"
           }
          ],
          "scattergl": [
           {
            "marker": {
             "line": {
              "color": "#283442"
             }
            },
            "type": "scattergl"
           }
          ],
          "scatter3d": [
           {
            "type": "scatter3d",
            "line": {
             "colorbar": {
              "outlinewidth": 0,
              "ticks": ""
             }
            },
            "marker": {
             "colorbar": {
              "outlinewidth": 0,
              "ticks": ""
             }
            }
           }
          ],
          "scattermapbox": [
           {
            "type": "scattermapbox",
            "marker": {
             "colorbar": {
              "outlinewidth": 0,
              "ticks": ""
             }
            }
           }
          ],
          "scatterternary": [
           {
            "type": "scatterternary",
            "marker": {
             "colorbar": {
              "outlinewidth": 0,
              "ticks": ""
             }
            }
           }
          ],
          "scattercarpet": [
           {
            "type": "scattercarpet",
            "marker": {
             "colorbar": {
              "outlinewidth": 0,
              "ticks": ""
             }
            }
           }
          ],
          "carpet": [
           {
            "aaxis": {
             "endlinecolor": "#A2B1C6",
             "gridcolor": "#506784",
             "linecolor": "#506784",
             "minorgridcolor": "#506784",
             "startlinecolor": "#A2B1C6"
            },
            "baxis": {
             "endlinecolor": "#A2B1C6",
             "gridcolor": "#506784",
             "linecolor": "#506784",
             "minorgridcolor": "#506784",
             "startlinecolor": "#A2B1C6"
            },
            "type": "carpet"
           }
          ],
          "table": [
           {
            "cells": {
             "fill": {
              "color": "#506784"
             },
             "line": {
              "color": "rgb(17,17,17)"
             }
            },
            "header": {
             "fill": {
              "color": "#2a3f5f"
             },
             "line": {
              "color": "rgb(17,17,17)"
             }
            },
            "type": "table"
           }
          ],
          "barpolar": [
           {
            "marker": {
             "line": {
              "color": "rgb(17,17,17)",
              "width": 0.5
             },
             "pattern": {
              "fillmode": "overlay",
              "size": 10,
              "solidity": 0.2
             }
            },
            "type": "barpolar"
           }
          ],
          "pie": [
           {
            "automargin": true,
            "type": "pie"
           }
          ]
         },
         "layout": {
          "autotypenumbers": "strict",
          "colorway": [
           "#636efa",
           "#EF553B",
           "#00cc96",
           "#ab63fa",
           "#FFA15A",
           "#19d3f3",
           "#FF6692",
           "#B6E880",
           "#FF97FF",
           "#FECB52"
          ],
          "font": {
           "color": "#f2f5fa"
          },
          "hovermode": "closest",
          "hoverlabel": {
           "align": "left"
          },
          "paper_bgcolor": "rgb(17,17,17)",
          "plot_bgcolor": "rgb(17,17,17)",
          "polar": {
           "bgcolor": "rgb(17,17,17)",
           "angularaxis": {
            "gridcolor": "#506784",
            "linecolor": "#506784",
            "ticks": ""
           },
           "radialaxis": {
            "gridcolor": "#506784",
            "linecolor": "#506784",
            "ticks": ""
           }
          },
          "ternary": {
           "bgcolor": "rgb(17,17,17)",
           "aaxis": {
            "gridcolor": "#506784",
            "linecolor": "#506784",
            "ticks": ""
           },
           "baxis": {
            "gridcolor": "#506784",
            "linecolor": "#506784",
            "ticks": ""
           },
           "caxis": {
            "gridcolor": "#506784",
            "linecolor": "#506784",
            "ticks": ""
           }
          },
          "coloraxis": {
           "colorbar": {
            "outlinewidth": 0,
            "ticks": ""
           }
          },
          "colorscale": {
           "sequential": [
            [
             0.0,
             "#0d0887"
            ],
            [
             0.1111111111111111,
             "#46039f"
            ],
            [
             0.2222222222222222,
             "#7201a8"
            ],
            [
             0.3333333333333333,
             "#9c179e"
            ],
            [
             0.4444444444444444,
             "#bd3786"
            ],
            [
             0.5555555555555556,
             "#d8576b"
            ],
            [
             0.6666666666666666,
             "#ed7953"
            ],
            [
             0.7777777777777778,
             "#fb9f3a"
            ],
            [
             0.8888888888888888,
             "#fdca26"
            ],
            [
             1.0,
             "#f0f921"
            ]
           ],
           "sequentialminus": [
            [
             0.0,
             "#0d0887"
            ],
            [
             0.1111111111111111,
             "#46039f"
            ],
            [
             0.2222222222222222,
             "#7201a8"
            ],
            [
             0.3333333333333333,
             "#9c179e"
            ],
            [
             0.4444444444444444,
             "#bd3786"
            ],
            [
             0.5555555555555556,
             "#d8576b"
            ],
            [
             0.6666666666666666,
             "#ed7953"
            ],
            [
             0.7777777777777778,
             "#fb9f3a"
            ],
            [
             0.8888888888888888,
             "#fdca26"
            ],
            [
             1.0,
             "#f0f921"
            ]
           ],
           "diverging": [
            [
             0,
             "#8e0152"
            ],
            [
             0.1,
             "#c51b7d"
            ],
            [
             0.2,
             "#de77ae"
            ],
            [
             0.3,
             "#f1b6da"
            ],
            [
             0.4,
             "#fde0ef"
            ],
            [
             0.5,
             "#f7f7f7"
            ],
            [
             0.6,
             "#e6f5d0"
            ],
            [
             0.7,
             "#b8e186"
            ],
            [
             0.8,
             "#7fbc41"
            ],
            [
             0.9,
             "#4d9221"
            ],
            [
             1,
             "#276419"
            ]
           ]
          },
          "xaxis": {
           "gridcolor": "#283442",
           "linecolor": "#506784",
           "ticks": "",
           "title": {
            "standoff": 15
           },
           "zerolinecolor": "#283442",
           "automargin": true,
           "zerolinewidth": 2
          },
          "yaxis": {
           "gridcolor": "#283442",
           "linecolor": "#506784",
           "ticks": "",
           "title": {
            "standoff": 15
           },
           "zerolinecolor": "#283442",
           "automargin": true,
           "zerolinewidth": 2
          },
          "scene": {
           "xaxis": {
            "backgroundcolor": "rgb(17,17,17)",
            "gridcolor": "#506784",
            "linecolor": "#506784",
            "showbackground": true,
            "ticks": "",
            "zerolinecolor": "#C8D4E3",
            "gridwidth": 2
           },
           "yaxis": {
            "backgroundcolor": "rgb(17,17,17)",
            "gridcolor": "#506784",
            "linecolor": "#506784",
            "showbackground": true,
            "ticks": "",
            "zerolinecolor": "#C8D4E3",
            "gridwidth": 2
           },
           "zaxis": {
            "backgroundcolor": "rgb(17,17,17)",
            "gridcolor": "#506784",
            "linecolor": "#506784",
            "showbackground": true,
            "ticks": "",
            "zerolinecolor": "#C8D4E3",
            "gridwidth": 2
           }
          },
          "shapedefaults": {
           "line": {
            "color": "#f2f5fa"
           }
          },
          "annotationdefaults": {
           "arrowcolor": "#f2f5fa",
           "arrowhead": 0,
           "arrowwidth": 1
          },
          "geo": {
           "bgcolor": "rgb(17,17,17)",
           "landcolor": "rgb(17,17,17)",
           "subunitcolor": "#506784",
           "showland": true,
           "showlakes": true,
           "lakecolor": "rgb(17,17,17)"
          },
          "title": {
           "x": 0.05
          },
          "updatemenudefaults": {
           "bgcolor": "#506784",
           "borderwidth": 0
          },
          "sliderdefaults": {
           "bgcolor": "#C8D4E3",
           "borderwidth": 1,
           "bordercolor": "rgb(17,17,17)",
           "tickwidth": 0
          },
          "mapbox": {
           "style": "dark"
          }
         }
        },
        "title": {
         "text": "Average Color Distribution in Training Set"
        },
        "xaxis": {
         "title": {
          "text": "Color Channels"
         }
        },
        "yaxis": {
         "title": {
          "text": "Mean Pixel Intensity"
         }
        },
        "showlegend": false
       },
       "config": {
        "plotlyServerURL": "https://plot.ly"
       }
      },
      "text/html": [
       "<div>                            <div id=\"99dd06e6-4014-4b06-99dc-489c1d70240e\" class=\"plotly-graph-div\" style=\"height:525px; width:100%;\"></div>            <script type=\"text/javascript\">                require([\"plotly\"], function(Plotly) {                    window.PLOTLYENV=window.PLOTLYENV || {};                                    if (document.getElementById(\"99dd06e6-4014-4b06-99dc-489c1d70240e\")) {                    Plotly.newPlot(                        \"99dd06e6-4014-4b06-99dc-489c1d70240e\",                        [{\"marker\":{\"color\":[\"red\",\"green\",\"blue\"]},\"name\":\"Mean Color Intensity\",\"x\":[\"Red\",\"Green\",\"Blue\"],\"y\":[0.49749839305877686,0.4167778193950653,0.37514886260032654],\"type\":\"bar\"}],                        {\"template\":{\"data\":{\"histogram2dcontour\":[{\"type\":\"histogram2dcontour\",\"colorbar\":{\"outlinewidth\":0,\"ticks\":\"\"},\"colorscale\":[[0.0,\"#0d0887\"],[0.1111111111111111,\"#46039f\"],[0.2222222222222222,\"#7201a8\"],[0.3333333333333333,\"#9c179e\"],[0.4444444444444444,\"#bd3786\"],[0.5555555555555556,\"#d8576b\"],[0.6666666666666666,\"#ed7953\"],[0.7777777777777778,\"#fb9f3a\"],[0.8888888888888888,\"#fdca26\"],[1.0,\"#f0f921\"]]}],\"choropleth\":[{\"type\":\"choropleth\",\"colorbar\":{\"outlinewidth\":0,\"ticks\":\"\"}}],\"histogram2d\":[{\"type\":\"histogram2d\",\"colorbar\":{\"outlinewidth\":0,\"ticks\":\"\"},\"colorscale\":[[0.0,\"#0d0887\"],[0.1111111111111111,\"#46039f\"],[0.2222222222222222,\"#7201a8\"],[0.3333333333333333,\"#9c179e\"],[0.4444444444444444,\"#bd3786\"],[0.5555555555555556,\"#d8576b\"],[0.6666666666666666,\"#ed7953\"],[0.7777777777777778,\"#fb9f3a\"],[0.8888888888888888,\"#fdca26\"],[1.0,\"#f0f921\"]]}],\"heatmap\":[{\"type\":\"heatmap\",\"colorbar\":{\"outlinewidth\":0,\"ticks\":\"\"},\"colorscale\":[[0.0,\"#0d0887\"],[0.1111111111111111,\"#46039f\"],[0.2222222222222222,\"#7201a8\"],[0.3333333333333333,\"#9c179e\"],[0.4444444444444444,\"#bd3786\"],[0.5555555555555556,\"#d8576b\"],[0.6666666666666666,\"#ed7953\"],[0.7777777777777778,\"#fb9f3a\"],[0.8888888888888888,\"#fdca26\"],[1.0,\"#f0f921\"]]}],\"heatmapgl\":[{\"type\":\"heatmapgl\",\"colorbar\":{\"outlinewidth\":0,\"ticks\":\"\"},\"colorscale\":[[0.0,\"#0d0887\"],[0.1111111111111111,\"#46039f\"],[0.2222222222222222,\"#7201a8\"],[0.3333333333333333,\"#9c179e\"],[0.4444444444444444,\"#bd3786\"],[0.5555555555555556,\"#d8576b\"],[0.6666666666666666,\"#ed7953\"],[0.7777777777777778,\"#fb9f3a\"],[0.8888888888888888,\"#fdca26\"],[1.0,\"#f0f921\"]]}],\"contourcarpet\":[{\"type\":\"contourcarpet\",\"colorbar\":{\"outlinewidth\":0,\"ticks\":\"\"}}],\"contour\":[{\"type\":\"contour\",\"colorbar\":{\"outlinewidth\":0,\"ticks\":\"\"},\"colorscale\":[[0.0,\"#0d0887\"],[0.1111111111111111,\"#46039f\"],[0.2222222222222222,\"#7201a8\"],[0.3333333333333333,\"#9c179e\"],[0.4444444444444444,\"#bd3786\"],[0.5555555555555556,\"#d8576b\"],[0.6666666666666666,\"#ed7953\"],[0.7777777777777778,\"#fb9f3a\"],[0.8888888888888888,\"#fdca26\"],[1.0,\"#f0f921\"]]}],\"surface\":[{\"type\":\"surface\",\"colorbar\":{\"outlinewidth\":0,\"ticks\":\"\"},\"colorscale\":[[0.0,\"#0d0887\"],[0.1111111111111111,\"#46039f\"],[0.2222222222222222,\"#7201a8\"],[0.3333333333333333,\"#9c179e\"],[0.4444444444444444,\"#bd3786\"],[0.5555555555555556,\"#d8576b\"],[0.6666666666666666,\"#ed7953\"],[0.7777777777777778,\"#fb9f3a\"],[0.8888888888888888,\"#fdca26\"],[1.0,\"#f0f921\"]]}],\"mesh3d\":[{\"type\":\"mesh3d\",\"colorbar\":{\"outlinewidth\":0,\"ticks\":\"\"}}],\"scatter\":[{\"marker\":{\"line\":{\"color\":\"#283442\"}},\"type\":\"scatter\"}],\"parcoords\":[{\"type\":\"parcoords\",\"line\":{\"colorbar\":{\"outlinewidth\":0,\"ticks\":\"\"}}}],\"scatterpolargl\":[{\"type\":\"scatterpolargl\",\"marker\":{\"colorbar\":{\"outlinewidth\":0,\"ticks\":\"\"}}}],\"bar\":[{\"error_x\":{\"color\":\"#f2f5fa\"},\"error_y\":{\"color\":\"#f2f5fa\"},\"marker\":{\"line\":{\"color\":\"rgb(17,17,17)\",\"width\":0.5},\"pattern\":{\"fillmode\":\"overlay\",\"size\":10,\"solidity\":0.2}},\"type\":\"bar\"}],\"scattergeo\":[{\"type\":\"scattergeo\",\"marker\":{\"colorbar\":{\"outlinewidth\":0,\"ticks\":\"\"}}}],\"scatterpolar\":[{\"type\":\"scatterpolar\",\"marker\":{\"colorbar\":{\"outlinewidth\":0,\"ticks\":\"\"}}}],\"histogram\":[{\"marker\":{\"pattern\":{\"fillmode\":\"overlay\",\"size\":10,\"solidity\":0.2}},\"type\":\"histogram\"}],\"scattergl\":[{\"marker\":{\"line\":{\"color\":\"#283442\"}},\"type\":\"scattergl\"}],\"scatter3d\":[{\"type\":\"scatter3d\",\"line\":{\"colorbar\":{\"outlinewidth\":0,\"ticks\":\"\"}},\"marker\":{\"colorbar\":{\"outlinewidth\":0,\"ticks\":\"\"}}}],\"scattermapbox\":[{\"type\":\"scattermapbox\",\"marker\":{\"colorbar\":{\"outlinewidth\":0,\"ticks\":\"\"}}}],\"scatterternary\":[{\"type\":\"scatterternary\",\"marker\":{\"colorbar\":{\"outlinewidth\":0,\"ticks\":\"\"}}}],\"scattercarpet\":[{\"type\":\"scattercarpet\",\"marker\":{\"colorbar\":{\"outlinewidth\":0,\"ticks\":\"\"}}}],\"carpet\":[{\"aaxis\":{\"endlinecolor\":\"#A2B1C6\",\"gridcolor\":\"#506784\",\"linecolor\":\"#506784\",\"minorgridcolor\":\"#506784\",\"startlinecolor\":\"#A2B1C6\"},\"baxis\":{\"endlinecolor\":\"#A2B1C6\",\"gridcolor\":\"#506784\",\"linecolor\":\"#506784\",\"minorgridcolor\":\"#506784\",\"startlinecolor\":\"#A2B1C6\"},\"type\":\"carpet\"}],\"table\":[{\"cells\":{\"fill\":{\"color\":\"#506784\"},\"line\":{\"color\":\"rgb(17,17,17)\"}},\"header\":{\"fill\":{\"color\":\"#2a3f5f\"},\"line\":{\"color\":\"rgb(17,17,17)\"}},\"type\":\"table\"}],\"barpolar\":[{\"marker\":{\"line\":{\"color\":\"rgb(17,17,17)\",\"width\":0.5},\"pattern\":{\"fillmode\":\"overlay\",\"size\":10,\"solidity\":0.2}},\"type\":\"barpolar\"}],\"pie\":[{\"automargin\":true,\"type\":\"pie\"}]},\"layout\":{\"autotypenumbers\":\"strict\",\"colorway\":[\"#636efa\",\"#EF553B\",\"#00cc96\",\"#ab63fa\",\"#FFA15A\",\"#19d3f3\",\"#FF6692\",\"#B6E880\",\"#FF97FF\",\"#FECB52\"],\"font\":{\"color\":\"#f2f5fa\"},\"hovermode\":\"closest\",\"hoverlabel\":{\"align\":\"left\"},\"paper_bgcolor\":\"rgb(17,17,17)\",\"plot_bgcolor\":\"rgb(17,17,17)\",\"polar\":{\"bgcolor\":\"rgb(17,17,17)\",\"angularaxis\":{\"gridcolor\":\"#506784\",\"linecolor\":\"#506784\",\"ticks\":\"\"},\"radialaxis\":{\"gridcolor\":\"#506784\",\"linecolor\":\"#506784\",\"ticks\":\"\"}},\"ternary\":{\"bgcolor\":\"rgb(17,17,17)\",\"aaxis\":{\"gridcolor\":\"#506784\",\"linecolor\":\"#506784\",\"ticks\":\"\"},\"baxis\":{\"gridcolor\":\"#506784\",\"linecolor\":\"#506784\",\"ticks\":\"\"},\"caxis\":{\"gridcolor\":\"#506784\",\"linecolor\":\"#506784\",\"ticks\":\"\"}},\"coloraxis\":{\"colorbar\":{\"outlinewidth\":0,\"ticks\":\"\"}},\"colorscale\":{\"sequential\":[[0.0,\"#0d0887\"],[0.1111111111111111,\"#46039f\"],[0.2222222222222222,\"#7201a8\"],[0.3333333333333333,\"#9c179e\"],[0.4444444444444444,\"#bd3786\"],[0.5555555555555556,\"#d8576b\"],[0.6666666666666666,\"#ed7953\"],[0.7777777777777778,\"#fb9f3a\"],[0.8888888888888888,\"#fdca26\"],[1.0,\"#f0f921\"]],\"sequentialminus\":[[0.0,\"#0d0887\"],[0.1111111111111111,\"#46039f\"],[0.2222222222222222,\"#7201a8\"],[0.3333333333333333,\"#9c179e\"],[0.4444444444444444,\"#bd3786\"],[0.5555555555555556,\"#d8576b\"],[0.6666666666666666,\"#ed7953\"],[0.7777777777777778,\"#fb9f3a\"],[0.8888888888888888,\"#fdca26\"],[1.0,\"#f0f921\"]],\"diverging\":[[0,\"#8e0152\"],[0.1,\"#c51b7d\"],[0.2,\"#de77ae\"],[0.3,\"#f1b6da\"],[0.4,\"#fde0ef\"],[0.5,\"#f7f7f7\"],[0.6,\"#e6f5d0\"],[0.7,\"#b8e186\"],[0.8,\"#7fbc41\"],[0.9,\"#4d9221\"],[1,\"#276419\"]]},\"xaxis\":{\"gridcolor\":\"#283442\",\"linecolor\":\"#506784\",\"ticks\":\"\",\"title\":{\"standoff\":15},\"zerolinecolor\":\"#283442\",\"automargin\":true,\"zerolinewidth\":2},\"yaxis\":{\"gridcolor\":\"#283442\",\"linecolor\":\"#506784\",\"ticks\":\"\",\"title\":{\"standoff\":15},\"zerolinecolor\":\"#283442\",\"automargin\":true,\"zerolinewidth\":2},\"scene\":{\"xaxis\":{\"backgroundcolor\":\"rgb(17,17,17)\",\"gridcolor\":\"#506784\",\"linecolor\":\"#506784\",\"showbackground\":true,\"ticks\":\"\",\"zerolinecolor\":\"#C8D4E3\",\"gridwidth\":2},\"yaxis\":{\"backgroundcolor\":\"rgb(17,17,17)\",\"gridcolor\":\"#506784\",\"linecolor\":\"#506784\",\"showbackground\":true,\"ticks\":\"\",\"zerolinecolor\":\"#C8D4E3\",\"gridwidth\":2},\"zaxis\":{\"backgroundcolor\":\"rgb(17,17,17)\",\"gridcolor\":\"#506784\",\"linecolor\":\"#506784\",\"showbackground\":true,\"ticks\":\"\",\"zerolinecolor\":\"#C8D4E3\",\"gridwidth\":2}},\"shapedefaults\":{\"line\":{\"color\":\"#f2f5fa\"}},\"annotationdefaults\":{\"arrowcolor\":\"#f2f5fa\",\"arrowhead\":0,\"arrowwidth\":1},\"geo\":{\"bgcolor\":\"rgb(17,17,17)\",\"landcolor\":\"rgb(17,17,17)\",\"subunitcolor\":\"#506784\",\"showland\":true,\"showlakes\":true,\"lakecolor\":\"rgb(17,17,17)\"},\"title\":{\"x\":0.05},\"updatemenudefaults\":{\"bgcolor\":\"#506784\",\"borderwidth\":0},\"sliderdefaults\":{\"bgcolor\":\"#C8D4E3\",\"borderwidth\":1,\"bordercolor\":\"rgb(17,17,17)\",\"tickwidth\":0},\"mapbox\":{\"style\":\"dark\"}}},\"title\":{\"text\":\"Average Color Distribution in Training Set\"},\"xaxis\":{\"title\":{\"text\":\"Color Channels\"}},\"yaxis\":{\"title\":{\"text\":\"Mean Pixel Intensity\"}},\"showlegend\":false},                        {\"responsive\": true}                    ).then(function(){\n",
       "                            \n",
       "var gd = document.getElementById('99dd06e6-4014-4b06-99dc-489c1d70240e');\n",
       "var x = new MutationObserver(function (mutations, observer) {{\n",
       "        var display = window.getComputedStyle(gd).display;\n",
       "        if (!display || display === 'none') {{\n",
       "            console.log([gd, 'removed!']);\n",
       "            Plotly.purge(gd);\n",
       "            observer.disconnect();\n",
       "        }}\n",
       "}});\n",
       "\n",
       "// Listen for the removal of the full notebook cells\n",
       "var notebookContainer = gd.closest('#notebook-container');\n",
       "if (notebookContainer) {{\n",
       "    x.observe(notebookContainer, {childList: true});\n",
       "}}\n",
       "\n",
       "// Listen for the clearing of the current output cell\n",
       "var outputEl = gd.closest('.output');\n",
       "if (outputEl) {{\n",
       "    x.observe(outputEl, {childList: true});\n",
       "}}\n",
       "\n",
       "                        })                };                });            </script>        </div>"
      ]
     },
     "metadata": {},
     "output_type": "display_data"
    }
   ],
   "execution_count": 44
  },
  {
   "metadata": {},
   "cell_type": "markdown",
   "source": [
    "![verage Color Distribution in Training Set](plots/celeba_dataset_color_distibution.png)\n",
    "*The following chart was originally created as an interactive diagram. However, due to GitHub's current limitations, it is displayed here as a static PNG.*\n"
   ],
   "id": "6b47a66a4c44f96a"
  },
  {
   "metadata": {},
   "cell_type": "markdown",
   "source": [
    "**Average Color Distribution Analysis**\n",
    "\n",
    "This bar chart illustrates the average color distribution in the training dataset, separated by RGB channels. \n",
    "The red channel shows the highest average intensity, followed by green, while blue has the lowest intensity. \n",
    "This indicates that the dataset's images are not perfectly color-balanced, which might influence the model's performance, \n",
    "especially if color is a significant feature in the classification process.\n"
   ],
   "id": "1f7fcb3b356451fd"
  },
  {
   "metadata": {
    "ExecuteTime": {
     "end_time": "2024-12-08T17:40:47.092129Z",
     "start_time": "2024-12-08T17:40:47.076139Z"
    }
   },
   "cell_type": "code",
   "source": [
    "# Histogram\n",
    "\n",
    "fig_histogram = go.Figure()\n",
    "\n",
    "fig_histogram.add_trace(go.Bar(\n",
    "    x=np.arange(256), \n",
    "    y=hist_r, \n",
    "    name='Red Channel',\n",
    "    marker_color='red',\n",
    "    opacity=0.6\n",
    "))\n",
    "\n",
    "fig_histogram.add_trace(go.Bar(\n",
    "    x=np.arange(256), \n",
    "    y=hist_g, \n",
    "    name='Green Channel',\n",
    "    marker_color='green',\n",
    "    opacity=0.6\n",
    "))\n",
    "\n",
    "fig_histogram.add_trace(go.Bar(\n",
    "    x=np.arange(256), \n",
    "    y=hist_b, \n",
    "    name='Blue Channel',\n",
    "    marker_color='blue',\n",
    "    opacity=0.6\n",
    "))\n",
    "\n",
    "fig_histogram.update_layout(\n",
    "    title=\"Aggregated Color Histogram for Dataset\",\n",
    "    xaxis_title=\"Pixel Intensity\",\n",
    "    yaxis_title=\"Frequency\",\n",
    "    barmode='overlay',\n",
    "    legend_title=\"Color Channels\"\n",
    ")\n",
    "\n",
    "fig_histogram.show()"
   ],
   "id": "3658edb025b1fed3",
   "outputs": [
    {
     "data": {
      "application/vnd.plotly.v1+json": {
       "data": [
        {
         "marker": {
          "color": "red"
         },
         "name": "Red Channel",
         "opacity": 0.6,
         "x": [
          0,
          1,
          2,
          3,
          4,
          5,
          6,
          7,
          8,
          9,
          10,
          11,
          12,
          13,
          14,
          15,
          16,
          17,
          18,
          19,
          20,
          21,
          22,
          23,
          24,
          25,
          26,
          27,
          28,
          29,
          30,
          31,
          32,
          33,
          34,
          35,
          36,
          37,
          38,
          39,
          40,
          41,
          42,
          43,
          44,
          45,
          46,
          47,
          48,
          49,
          50,
          51,
          52,
          53,
          54,
          55,
          56,
          57,
          58,
          59,
          60,
          61,
          62,
          63,
          64,
          65,
          66,
          67,
          68,
          69,
          70,
          71,
          72,
          73,
          74,
          75,
          76,
          77,
          78,
          79,
          80,
          81,
          82,
          83,
          84,
          85,
          86,
          87,
          88,
          89,
          90,
          91,
          92,
          93,
          94,
          95,
          96,
          97,
          98,
          99,
          100,
          101,
          102,
          103,
          104,
          105,
          106,
          107,
          108,
          109,
          110,
          111,
          112,
          113,
          114,
          115,
          116,
          117,
          118,
          119,
          120,
          121,
          122,
          123,
          124,
          125,
          126,
          127,
          128,
          129,
          130,
          131,
          132,
          133,
          134,
          135,
          136,
          137,
          138,
          139,
          140,
          141,
          142,
          143,
          144,
          145,
          146,
          147,
          148,
          149,
          150,
          151,
          152,
          153,
          154,
          155,
          156,
          157,
          158,
          159,
          160,
          161,
          162,
          163,
          164,
          165,
          166,
          167,
          168,
          169,
          170,
          171,
          172,
          173,
          174,
          175,
          176,
          177,
          178,
          179,
          180,
          181,
          182,
          183,
          184,
          185,
          186,
          187,
          188,
          189,
          190,
          191,
          192,
          193,
          194,
          195,
          196,
          197,
          198,
          199,
          200,
          201,
          202,
          203,
          204,
          205,
          206,
          207,
          208,
          209,
          210,
          211,
          212,
          213,
          214,
          215,
          216,
          217,
          218,
          219,
          220,
          221,
          222,
          223,
          224,
          225,
          226,
          227,
          228,
          229,
          230,
          231,
          232,
          233,
          234,
          235,
          236,
          237,
          238,
          239,
          240,
          241,
          242,
          243,
          244,
          245,
          246,
          247,
          248,
          249,
          250,
          251,
          252,
          253,
          254,
          255
         ],
         "y": [
          544690.0,
          315289.0,
          247351.0,
          203314.0,
          210433.0,
          173232.0,
          198252.0,
          175584.0,
          183278.0,
          182074.0,
          180039.0,
          191689.0,
          190427.0,
          191767.0,
          185823.0,
          189056.0,
          185042.0,
          191502.0,
          192534.0,
          195348.0,
          194902.0,
          195085.0,
          187273.0,
          186939.0,
          188054.0,
          186656.0,
          183992.0,
          185857.0,
          180794.0,
          179968.0,
          181660.0,
          182728.0,
          180971.0,
          176655.0,
          174825.0,
          170503.0,
          169776.0,
          167850.0,
          168933.0,
          166848.0,
          164907.0,
          166146.0,
          162515.0,
          163186.0,
          161196.0,
          157265.0,
          155115.0,
          153868.0,
          151913.0,
          150057.0,
          149455.0,
          148502.0,
          147074.0,
          145052.0,
          143698.0,
          141088.0,
          139541.0,
          139526.0,
          138175.0,
          136391.0,
          136787.0,
          135723.0,
          135824.0,
          134735.0,
          133871.0,
          132898.0,
          130677.0,
          129407.0,
          128019.0,
          125150.0,
          126612.0,
          123953.0,
          121979.0,
          120638.0,
          121541.0,
          119815.0,
          119867.0,
          117760.0,
          118197.0,
          116945.0,
          118896.0,
          118944.0,
          118814.0,
          117785.0,
          116617.0,
          116791.0,
          120072.0,
          116607.0,
          117747.0,
          118140.0,
          117047.0,
          115271.0,
          114378.0,
          113059.0,
          111920.0,
          113186.0,
          113135.0,
          113320.0,
          113114.0,
          113883.0,
          113303.0,
          112775.0,
          112844.0,
          113927.0,
          115070.0,
          113621.0,
          113327.0,
          115072.0,
          115239.0,
          115711.0,
          115939.0,
          116753.0,
          116256.0,
          115260.0,
          113811.0,
          117109.0,
          117321.0,
          118194.0,
          119996.0,
          118364.0,
          116203.0,
          115770.0,
          114807.0,
          115013.0,
          114209.0,
          114518.0,
          116782.0,
          115752.0,
          119129.0,
          117519.0,
          118788.0,
          119240.0,
          120431.0,
          120886.0,
          120435.0,
          120528.0,
          120819.0,
          118934.0,
          121562.0,
          121615.0,
          121722.0,
          122807.0,
          124220.0,
          125279.0,
          123285.0,
          123143.0,
          124198.0,
          125791.0,
          124355.0,
          124555.0,
          127112.0,
          126402.0,
          127972.0,
          129577.0,
          129497.0,
          129886.0,
          130296.0,
          131847.0,
          132673.0,
          134580.0,
          135415.0,
          137056.0,
          139202.0,
          141875.0,
          138393.0,
          139754.0,
          139035.0,
          139366.0,
          138784.0,
          137255.0,
          143522.0,
          141158.0,
          145316.0,
          141508.0,
          140459.0,
          141182.0,
          140962.0,
          142821.0,
          144942.0,
          146554.0,
          149767.0,
          149355.0,
          149812.0,
          156698.0,
          156119.0,
          155605.0,
          158737.0,
          160883.0,
          159222.0,
          162088.0,
          167827.0,
          164780.0,
          169466.0,
          165379.0,
          167229.0,
          165774.0,
          165602.0,
          165490.0,
          168352.0,
          163253.0,
          163996.0,
          164165.0,
          165821.0,
          167643.0,
          171547.0,
          172754.0,
          179462.0,
          184423.0,
          189611.0,
          183783.0,
          184117.0,
          182836.0,
          183790.0,
          183871.0,
          191209.0,
          185930.0,
          186135.0,
          190182.0,
          180552.0,
          182433.0,
          182040.0,
          171678.0,
          171147.0,
          173495.0,
          168959.0,
          164968.0,
          167267.0,
          164872.0,
          166387.0,
          165910.0,
          171027.0,
          174751.0,
          169018.0,
          164294.0,
          156523.0,
          156019.0,
          154251.0,
          154012.0,
          154222.0,
          152265.0,
          148152.0,
          142694.0,
          142265.0,
          135046.0,
          136705.0,
          135759.0,
          134740.0,
          139014.0,
          156045.0,
          141528.0,
          145883.0,
          142390.0,
          152556.0,
          171169.0,
          211103.0,
          622773.0
         ],
         "type": "bar"
        },
        {
         "marker": {
          "color": "green"
         },
         "name": "Green Channel",
         "opacity": 0.6,
         "x": [
          0,
          1,
          2,
          3,
          4,
          5,
          6,
          7,
          8,
          9,
          10,
          11,
          12,
          13,
          14,
          15,
          16,
          17,
          18,
          19,
          20,
          21,
          22,
          23,
          24,
          25,
          26,
          27,
          28,
          29,
          30,
          31,
          32,
          33,
          34,
          35,
          36,
          37,
          38,
          39,
          40,
          41,
          42,
          43,
          44,
          45,
          46,
          47,
          48,
          49,
          50,
          51,
          52,
          53,
          54,
          55,
          56,
          57,
          58,
          59,
          60,
          61,
          62,
          63,
          64,
          65,
          66,
          67,
          68,
          69,
          70,
          71,
          72,
          73,
          74,
          75,
          76,
          77,
          78,
          79,
          80,
          81,
          82,
          83,
          84,
          85,
          86,
          87,
          88,
          89,
          90,
          91,
          92,
          93,
          94,
          95,
          96,
          97,
          98,
          99,
          100,
          101,
          102,
          103,
          104,
          105,
          106,
          107,
          108,
          109,
          110,
          111,
          112,
          113,
          114,
          115,
          116,
          117,
          118,
          119,
          120,
          121,
          122,
          123,
          124,
          125,
          126,
          127,
          128,
          129,
          130,
          131,
          132,
          133,
          134,
          135,
          136,
          137,
          138,
          139,
          140,
          141,
          142,
          143,
          144,
          145,
          146,
          147,
          148,
          149,
          150,
          151,
          152,
          153,
          154,
          155,
          156,
          157,
          158,
          159,
          160,
          161,
          162,
          163,
          164,
          165,
          166,
          167,
          168,
          169,
          170,
          171,
          172,
          173,
          174,
          175,
          176,
          177,
          178,
          179,
          180,
          181,
          182,
          183,
          184,
          185,
          186,
          187,
          188,
          189,
          190,
          191,
          192,
          193,
          194,
          195,
          196,
          197,
          198,
          199,
          200,
          201,
          202,
          203,
          204,
          205,
          206,
          207,
          208,
          209,
          210,
          211,
          212,
          213,
          214,
          215,
          216,
          217,
          218,
          219,
          220,
          221,
          222,
          223,
          224,
          225,
          226,
          227,
          228,
          229,
          230,
          231,
          232,
          233,
          234,
          235,
          236,
          237,
          238,
          239,
          240,
          241,
          242,
          243,
          244,
          245,
          246,
          247,
          248,
          249,
          250,
          251,
          252,
          253,
          254,
          255
         ],
         "y": [
          639258.0,
          354145.0,
          310246.0,
          248714.0,
          259820.0,
          233511.0,
          238677.0,
          244450.0,
          245423.0,
          236411.0,
          239371.0,
          242348.0,
          249710.0,
          254978.0,
          253777.0,
          248805.0,
          246685.0,
          248180.0,
          248785.0,
          252804.0,
          251442.0,
          250803.0,
          240292.0,
          237661.0,
          231395.0,
          232211.0,
          231021.0,
          230167.0,
          226614.0,
          222820.0,
          218486.0,
          213930.0,
          210197.0,
          207632.0,
          204284.0,
          201678.0,
          195237.0,
          193086.0,
          194086.0,
          192767.0,
          193412.0,
          193216.0,
          187082.0,
          184578.0,
          180625.0,
          178984.0,
          175608.0,
          173984.0,
          172910.0,
          173660.0,
          173916.0,
          172578.0,
          171742.0,
          166261.0,
          165907.0,
          165312.0,
          163865.0,
          163328.0,
          163816.0,
          161746.0,
          160445.0,
          163111.0,
          160410.0,
          158222.0,
          156556.0,
          154698.0,
          153476.0,
          151501.0,
          149662.0,
          150867.0,
          151292.0,
          150388.0,
          149468.0,
          149916.0,
          151000.0,
          150549.0,
          151626.0,
          150192.0,
          149092.0,
          149134.0,
          149335.0,
          149179.0,
          150047.0,
          149303.0,
          148287.0,
          147379.0,
          146277.0,
          148086.0,
          146407.0,
          148737.0,
          149902.0,
          148166.0,
          145425.0,
          146386.0,
          146581.0,
          147413.0,
          148053.0,
          149417.0,
          148998.0,
          149668.0,
          149604.0,
          148975.0,
          147763.0,
          147364.0,
          146367.0,
          149423.0,
          146188.0,
          145954.0,
          144952.0,
          145985.0,
          146455.0,
          146124.0,
          148092.0,
          149635.0,
          149572.0,
          147144.0,
          148094.0,
          150417.0,
          149518.0,
          149804.0,
          150970.0,
          151645.0,
          152039.0,
          153559.0,
          153044.0,
          154875.0,
          156970.0,
          156333.0,
          157624.0,
          156044.0,
          154922.0,
          153199.0,
          154288.0,
          154080.0,
          155870.0,
          153870.0,
          154992.0,
          153045.0,
          150673.0,
          151166.0,
          155588.0,
          150641.0,
          148467.0,
          148905.0,
          147647.0,
          147013.0,
          146499.0,
          145923.0,
          145771.0,
          146119.0,
          146072.0,
          145997.0,
          142779.0,
          141652.0,
          141089.0,
          140692.0,
          139405.0,
          140775.0,
          139005.0,
          139119.0,
          138356.0,
          137806.0,
          139477.0,
          138614.0,
          137144.0,
          137924.0,
          136038.0,
          134533.0,
          134113.0,
          136375.0,
          137062.0,
          136012.0,
          136614.0,
          138020.0,
          137114.0,
          131813.0,
          127796.0,
          127943.0,
          125840.0,
          125233.0,
          126955.0,
          124925.0,
          120747.0,
          118506.0,
          116353.0,
          114593.0,
          114699.0,
          113455.0,
          113828.0,
          114897.0,
          116542.0,
          114887.0,
          117141.0,
          118080.0,
          112929.0,
          109300.0,
          107597.0,
          107013.0,
          103985.0,
          100802.0,
          98339.0,
          97133.0,
          96143.0,
          94349.0,
          95958.0,
          95606.0,
          95001.0,
          93806.0,
          98347.0,
          94923.0,
          96538.0,
          99933.0,
          101125.0,
          100572.0,
          107466.0,
          100341.0,
          99800.0,
          100161.0,
          104066.0,
          103901.0,
          109505.0,
          102845.0,
          105888.0,
          101240.0,
          99847.0,
          96965.0,
          93131.0,
          87032.0,
          85567.0,
          84759.0,
          88750.0,
          84084.0,
          83871.0,
          83666.0,
          82036.0,
          82783.0,
          81058.0,
          76643.0,
          82405.0,
          79865.0,
          74959.0,
          79201.0,
          78434.0,
          85728.0,
          75916.0,
          75867.0,
          70594.0,
          80032.0,
          89868.0,
          93161.0,
          93283.0,
          86607.0,
          101636.0,
          113956.0,
          126050.0,
          407315.0
         ],
         "type": "bar"
        },
        {
         "marker": {
          "color": "blue"
         },
         "name": "Blue Channel",
         "opacity": 0.6,
         "x": [
          0,
          1,
          2,
          3,
          4,
          5,
          6,
          7,
          8,
          9,
          10,
          11,
          12,
          13,
          14,
          15,
          16,
          17,
          18,
          19,
          20,
          21,
          22,
          23,
          24,
          25,
          26,
          27,
          28,
          29,
          30,
          31,
          32,
          33,
          34,
          35,
          36,
          37,
          38,
          39,
          40,
          41,
          42,
          43,
          44,
          45,
          46,
          47,
          48,
          49,
          50,
          51,
          52,
          53,
          54,
          55,
          56,
          57,
          58,
          59,
          60,
          61,
          62,
          63,
          64,
          65,
          66,
          67,
          68,
          69,
          70,
          71,
          72,
          73,
          74,
          75,
          76,
          77,
          78,
          79,
          80,
          81,
          82,
          83,
          84,
          85,
          86,
          87,
          88,
          89,
          90,
          91,
          92,
          93,
          94,
          95,
          96,
          97,
          98,
          99,
          100,
          101,
          102,
          103,
          104,
          105,
          106,
          107,
          108,
          109,
          110,
          111,
          112,
          113,
          114,
          115,
          116,
          117,
          118,
          119,
          120,
          121,
          122,
          123,
          124,
          125,
          126,
          127,
          128,
          129,
          130,
          131,
          132,
          133,
          134,
          135,
          136,
          137,
          138,
          139,
          140,
          141,
          142,
          143,
          144,
          145,
          146,
          147,
          148,
          149,
          150,
          151,
          152,
          153,
          154,
          155,
          156,
          157,
          158,
          159,
          160,
          161,
          162,
          163,
          164,
          165,
          166,
          167,
          168,
          169,
          170,
          171,
          172,
          173,
          174,
          175,
          176,
          177,
          178,
          179,
          180,
          181,
          182,
          183,
          184,
          185,
          186,
          187,
          188,
          189,
          190,
          191,
          192,
          193,
          194,
          195,
          196,
          197,
          198,
          199,
          200,
          201,
          202,
          203,
          204,
          205,
          206,
          207,
          208,
          209,
          210,
          211,
          212,
          213,
          214,
          215,
          216,
          217,
          218,
          219,
          220,
          221,
          222,
          223,
          224,
          225,
          226,
          227,
          228,
          229,
          230,
          231,
          232,
          233,
          234,
          235,
          236,
          237,
          238,
          239,
          240,
          241,
          242,
          243,
          244,
          245,
          246,
          247,
          248,
          249,
          250,
          251,
          252,
          253,
          254,
          255
         ],
         "y": [
          954772.0,
          375229.0,
          354211.0,
          308967.0,
          325109.0,
          310020.0,
          302572.0,
          306491.0,
          304394.0,
          303095.0,
          305379.0,
          304756.0,
          295475.0,
          295321.0,
          309164.0,
          289159.0,
          293695.0,
          285268.0,
          288410.0,
          289080.0,
          283605.0,
          283956.0,
          270683.0,
          269117.0,
          263999.0,
          262348.0,
          256687.0,
          251612.0,
          249921.0,
          248046.0,
          245866.0,
          243917.0,
          237124.0,
          232897.0,
          229756.0,
          224721.0,
          225485.0,
          222500.0,
          217568.0,
          213223.0,
          209643.0,
          207775.0,
          204869.0,
          208736.0,
          204854.0,
          203062.0,
          202158.0,
          203452.0,
          201308.0,
          198949.0,
          193179.0,
          190478.0,
          190258.0,
          188214.0,
          188069.0,
          188001.0,
          186837.0,
          183378.0,
          183043.0,
          179339.0,
          180023.0,
          179477.0,
          180596.0,
          176523.0,
          173543.0,
          174435.0,
          173729.0,
          174129.0,
          175523.0,
          173670.0,
          170924.0,
          171310.0,
          170069.0,
          170844.0,
          168161.0,
          170489.0,
          166367.0,
          165540.0,
          163833.0,
          164300.0,
          163665.0,
          163489.0,
          162513.0,
          161257.0,
          161278.0,
          161339.0,
          161130.0,
          159812.0,
          160332.0,
          158496.0,
          160169.0,
          158053.0,
          157140.0,
          155090.0,
          155027.0,
          154469.0,
          153222.0,
          152464.0,
          154147.0,
          152050.0,
          151817.0,
          153349.0,
          153903.0,
          153703.0,
          153272.0,
          153287.0,
          154337.0,
          154994.0,
          153361.0,
          156233.0,
          151399.0,
          150470.0,
          152065.0,
          148875.0,
          151095.0,
          150460.0,
          150099.0,
          149363.0,
          147612.0,
          146177.0,
          144912.0,
          146289.0,
          145059.0,
          142809.0,
          142532.0,
          140006.0,
          142263.0,
          139093.0,
          140600.0,
          137699.0,
          141244.0,
          140248.0,
          138014.0,
          136707.0,
          135872.0,
          132100.0,
          132294.0,
          130386.0,
          131852.0,
          132047.0,
          129810.0,
          128534.0,
          127315.0,
          125805.0,
          125886.0,
          123666.0,
          122293.0,
          122446.0,
          118947.0,
          117743.0,
          115249.0,
          114822.0,
          113316.0,
          112831.0,
          112014.0,
          110988.0,
          108050.0,
          108647.0,
          107124.0,
          108611.0,
          105343.0,
          102674.0,
          100787.0,
          99030.0,
          99497.0,
          98424.0,
          99373.0,
          99548.0,
          98661.0,
          97762.0,
          96733.0,
          93814.0,
          92620.0,
          92774.0,
          91257.0,
          91040.0,
          90074.0,
          85793.0,
          86246.0,
          83158.0,
          84145.0,
          79699.0,
          79818.0,
          78352.0,
          77956.0,
          76914.0,
          81574.0,
          79776.0,
          76732.0,
          76647.0,
          73074.0,
          73862.0,
          74872.0,
          72430.0,
          68798.0,
          68903.0,
          71245.0,
          69425.0,
          69027.0,
          70660.0,
          70943.0,
          69678.0,
          68261.0,
          69351.0,
          69431.0,
          65710.0,
          70149.0,
          73149.0,
          77361.0,
          81700.0,
          80838.0,
          79830.0,
          83064.0,
          81014.0,
          83268.0,
          78845.0,
          83525.0,
          86266.0,
          79684.0,
          78585.0,
          79815.0,
          79719.0,
          76817.0,
          76720.0,
          79615.0,
          78018.0,
          71420.0,
          71368.0,
          72729.0,
          72010.0,
          79404.0,
          86605.0,
          81335.0,
          79675.0,
          81964.0,
          77592.0,
          78911.0,
          80627.0,
          77315.0,
          80998.0,
          80563.0,
          84662.0,
          86199.0,
          89988.0,
          90509.0,
          75548.0,
          85874.0,
          79349.0,
          95017.0,
          92400.0,
          101385.0,
          100709.0,
          99323.0,
          145828.0,
          129335.0,
          445664.0
         ],
         "type": "bar"
        }
       ],
       "layout": {
        "template": {
         "data": {
          "histogram2dcontour": [
           {
            "type": "histogram2dcontour",
            "colorbar": {
             "outlinewidth": 0,
             "ticks": ""
            },
            "colorscale": [
             [
              0.0,
              "#0d0887"
             ],
             [
              0.1111111111111111,
              "#46039f"
             ],
             [
              0.2222222222222222,
              "#7201a8"
             ],
             [
              0.3333333333333333,
              "#9c179e"
             ],
             [
              0.4444444444444444,
              "#bd3786"
             ],
             [
              0.5555555555555556,
              "#d8576b"
             ],
             [
              0.6666666666666666,
              "#ed7953"
             ],
             [
              0.7777777777777778,
              "#fb9f3a"
             ],
             [
              0.8888888888888888,
              "#fdca26"
             ],
             [
              1.0,
              "#f0f921"
             ]
            ]
           }
          ],
          "choropleth": [
           {
            "type": "choropleth",
            "colorbar": {
             "outlinewidth": 0,
             "ticks": ""
            }
           }
          ],
          "histogram2d": [
           {
            "type": "histogram2d",
            "colorbar": {
             "outlinewidth": 0,
             "ticks": ""
            },
            "colorscale": [
             [
              0.0,
              "#0d0887"
             ],
             [
              0.1111111111111111,
              "#46039f"
             ],
             [
              0.2222222222222222,
              "#7201a8"
             ],
             [
              0.3333333333333333,
              "#9c179e"
             ],
             [
              0.4444444444444444,
              "#bd3786"
             ],
             [
              0.5555555555555556,
              "#d8576b"
             ],
             [
              0.6666666666666666,
              "#ed7953"
             ],
             [
              0.7777777777777778,
              "#fb9f3a"
             ],
             [
              0.8888888888888888,
              "#fdca26"
             ],
             [
              1.0,
              "#f0f921"
             ]
            ]
           }
          ],
          "heatmap": [
           {
            "type": "heatmap",
            "colorbar": {
             "outlinewidth": 0,
             "ticks": ""
            },
            "colorscale": [
             [
              0.0,
              "#0d0887"
             ],
             [
              0.1111111111111111,
              "#46039f"
             ],
             [
              0.2222222222222222,
              "#7201a8"
             ],
             [
              0.3333333333333333,
              "#9c179e"
             ],
             [
              0.4444444444444444,
              "#bd3786"
             ],
             [
              0.5555555555555556,
              "#d8576b"
             ],
             [
              0.6666666666666666,
              "#ed7953"
             ],
             [
              0.7777777777777778,
              "#fb9f3a"
             ],
             [
              0.8888888888888888,
              "#fdca26"
             ],
             [
              1.0,
              "#f0f921"
             ]
            ]
           }
          ],
          "heatmapgl": [
           {
            "type": "heatmapgl",
            "colorbar": {
             "outlinewidth": 0,
             "ticks": ""
            },
            "colorscale": [
             [
              0.0,
              "#0d0887"
             ],
             [
              0.1111111111111111,
              "#46039f"
             ],
             [
              0.2222222222222222,
              "#7201a8"
             ],
             [
              0.3333333333333333,
              "#9c179e"
             ],
             [
              0.4444444444444444,
              "#bd3786"
             ],
             [
              0.5555555555555556,
              "#d8576b"
             ],
             [
              0.6666666666666666,
              "#ed7953"
             ],
             [
              0.7777777777777778,
              "#fb9f3a"
             ],
             [
              0.8888888888888888,
              "#fdca26"
             ],
             [
              1.0,
              "#f0f921"
             ]
            ]
           }
          ],
          "contourcarpet": [
           {
            "type": "contourcarpet",
            "colorbar": {
             "outlinewidth": 0,
             "ticks": ""
            }
           }
          ],
          "contour": [
           {
            "type": "contour",
            "colorbar": {
             "outlinewidth": 0,
             "ticks": ""
            },
            "colorscale": [
             [
              0.0,
              "#0d0887"
             ],
             [
              0.1111111111111111,
              "#46039f"
             ],
             [
              0.2222222222222222,
              "#7201a8"
             ],
             [
              0.3333333333333333,
              "#9c179e"
             ],
             [
              0.4444444444444444,
              "#bd3786"
             ],
             [
              0.5555555555555556,
              "#d8576b"
             ],
             [
              0.6666666666666666,
              "#ed7953"
             ],
             [
              0.7777777777777778,
              "#fb9f3a"
             ],
             [
              0.8888888888888888,
              "#fdca26"
             ],
             [
              1.0,
              "#f0f921"
             ]
            ]
           }
          ],
          "surface": [
           {
            "type": "surface",
            "colorbar": {
             "outlinewidth": 0,
             "ticks": ""
            },
            "colorscale": [
             [
              0.0,
              "#0d0887"
             ],
             [
              0.1111111111111111,
              "#46039f"
             ],
             [
              0.2222222222222222,
              "#7201a8"
             ],
             [
              0.3333333333333333,
              "#9c179e"
             ],
             [
              0.4444444444444444,
              "#bd3786"
             ],
             [
              0.5555555555555556,
              "#d8576b"
             ],
             [
              0.6666666666666666,
              "#ed7953"
             ],
             [
              0.7777777777777778,
              "#fb9f3a"
             ],
             [
              0.8888888888888888,
              "#fdca26"
             ],
             [
              1.0,
              "#f0f921"
             ]
            ]
           }
          ],
          "mesh3d": [
           {
            "type": "mesh3d",
            "colorbar": {
             "outlinewidth": 0,
             "ticks": ""
            }
           }
          ],
          "scatter": [
           {
            "marker": {
             "line": {
              "color": "#283442"
             }
            },
            "type": "scatter"
           }
          ],
          "parcoords": [
           {
            "type": "parcoords",
            "line": {
             "colorbar": {
              "outlinewidth": 0,
              "ticks": ""
             }
            }
           }
          ],
          "scatterpolargl": [
           {
            "type": "scatterpolargl",
            "marker": {
             "colorbar": {
              "outlinewidth": 0,
              "ticks": ""
             }
            }
           }
          ],
          "bar": [
           {
            "error_x": {
             "color": "#f2f5fa"
            },
            "error_y": {
             "color": "#f2f5fa"
            },
            "marker": {
             "line": {
              "color": "rgb(17,17,17)",
              "width": 0.5
             },
             "pattern": {
              "fillmode": "overlay",
              "size": 10,
              "solidity": 0.2
             }
            },
            "type": "bar"
           }
          ],
          "scattergeo": [
           {
            "type": "scattergeo",
            "marker": {
             "colorbar": {
              "outlinewidth": 0,
              "ticks": ""
             }
            }
           }
          ],
          "scatterpolar": [
           {
            "type": "scatterpolar",
            "marker": {
             "colorbar": {
              "outlinewidth": 0,
              "ticks": ""
             }
            }
           }
          ],
          "histogram": [
           {
            "marker": {
             "pattern": {
              "fillmode": "overlay",
              "size": 10,
              "solidity": 0.2
             }
            },
            "type": "histogram"
           }
          ],
          "scattergl": [
           {
            "marker": {
             "line": {
              "color": "#283442"
             }
            },
            "type": "scattergl"
           }
          ],
          "scatter3d": [
           {
            "type": "scatter3d",
            "line": {
             "colorbar": {
              "outlinewidth": 0,
              "ticks": ""
             }
            },
            "marker": {
             "colorbar": {
              "outlinewidth": 0,
              "ticks": ""
             }
            }
           }
          ],
          "scattermapbox": [
           {
            "type": "scattermapbox",
            "marker": {
             "colorbar": {
              "outlinewidth": 0,
              "ticks": ""
             }
            }
           }
          ],
          "scatterternary": [
           {
            "type": "scatterternary",
            "marker": {
             "colorbar": {
              "outlinewidth": 0,
              "ticks": ""
             }
            }
           }
          ],
          "scattercarpet": [
           {
            "type": "scattercarpet",
            "marker": {
             "colorbar": {
              "outlinewidth": 0,
              "ticks": ""
             }
            }
           }
          ],
          "carpet": [
           {
            "aaxis": {
             "endlinecolor": "#A2B1C6",
             "gridcolor": "#506784",
             "linecolor": "#506784",
             "minorgridcolor": "#506784",
             "startlinecolor": "#A2B1C6"
            },
            "baxis": {
             "endlinecolor": "#A2B1C6",
             "gridcolor": "#506784",
             "linecolor": "#506784",
             "minorgridcolor": "#506784",
             "startlinecolor": "#A2B1C6"
            },
            "type": "carpet"
           }
          ],
          "table": [
           {
            "cells": {
             "fill": {
              "color": "#506784"
             },
             "line": {
              "color": "rgb(17,17,17)"
             }
            },
            "header": {
             "fill": {
              "color": "#2a3f5f"
             },
             "line": {
              "color": "rgb(17,17,17)"
             }
            },
            "type": "table"
           }
          ],
          "barpolar": [
           {
            "marker": {
             "line": {
              "color": "rgb(17,17,17)",
              "width": 0.5
             },
             "pattern": {
              "fillmode": "overlay",
              "size": 10,
              "solidity": 0.2
             }
            },
            "type": "barpolar"
           }
          ],
          "pie": [
           {
            "automargin": true,
            "type": "pie"
           }
          ]
         },
         "layout": {
          "autotypenumbers": "strict",
          "colorway": [
           "#636efa",
           "#EF553B",
           "#00cc96",
           "#ab63fa",
           "#FFA15A",
           "#19d3f3",
           "#FF6692",
           "#B6E880",
           "#FF97FF",
           "#FECB52"
          ],
          "font": {
           "color": "#f2f5fa"
          },
          "hovermode": "closest",
          "hoverlabel": {
           "align": "left"
          },
          "paper_bgcolor": "rgb(17,17,17)",
          "plot_bgcolor": "rgb(17,17,17)",
          "polar": {
           "bgcolor": "rgb(17,17,17)",
           "angularaxis": {
            "gridcolor": "#506784",
            "linecolor": "#506784",
            "ticks": ""
           },
           "radialaxis": {
            "gridcolor": "#506784",
            "linecolor": "#506784",
            "ticks": ""
           }
          },
          "ternary": {
           "bgcolor": "rgb(17,17,17)",
           "aaxis": {
            "gridcolor": "#506784",
            "linecolor": "#506784",
            "ticks": ""
           },
           "baxis": {
            "gridcolor": "#506784",
            "linecolor": "#506784",
            "ticks": ""
           },
           "caxis": {
            "gridcolor": "#506784",
            "linecolor": "#506784",
            "ticks": ""
           }
          },
          "coloraxis": {
           "colorbar": {
            "outlinewidth": 0,
            "ticks": ""
           }
          },
          "colorscale": {
           "sequential": [
            [
             0.0,
             "#0d0887"
            ],
            [
             0.1111111111111111,
             "#46039f"
            ],
            [
             0.2222222222222222,
             "#7201a8"
            ],
            [
             0.3333333333333333,
             "#9c179e"
            ],
            [
             0.4444444444444444,
             "#bd3786"
            ],
            [
             0.5555555555555556,
             "#d8576b"
            ],
            [
             0.6666666666666666,
             "#ed7953"
            ],
            [
             0.7777777777777778,
             "#fb9f3a"
            ],
            [
             0.8888888888888888,
             "#fdca26"
            ],
            [
             1.0,
             "#f0f921"
            ]
           ],
           "sequentialminus": [
            [
             0.0,
             "#0d0887"
            ],
            [
             0.1111111111111111,
             "#46039f"
            ],
            [
             0.2222222222222222,
             "#7201a8"
            ],
            [
             0.3333333333333333,
             "#9c179e"
            ],
            [
             0.4444444444444444,
             "#bd3786"
            ],
            [
             0.5555555555555556,
             "#d8576b"
            ],
            [
             0.6666666666666666,
             "#ed7953"
            ],
            [
             0.7777777777777778,
             "#fb9f3a"
            ],
            [
             0.8888888888888888,
             "#fdca26"
            ],
            [
             1.0,
             "#f0f921"
            ]
           ],
           "diverging": [
            [
             0,
             "#8e0152"
            ],
            [
             0.1,
             "#c51b7d"
            ],
            [
             0.2,
             "#de77ae"
            ],
            [
             0.3,
             "#f1b6da"
            ],
            [
             0.4,
             "#fde0ef"
            ],
            [
             0.5,
             "#f7f7f7"
            ],
            [
             0.6,
             "#e6f5d0"
            ],
            [
             0.7,
             "#b8e186"
            ],
            [
             0.8,
             "#7fbc41"
            ],
            [
             0.9,
             "#4d9221"
            ],
            [
             1,
             "#276419"
            ]
           ]
          },
          "xaxis": {
           "gridcolor": "#283442",
           "linecolor": "#506784",
           "ticks": "",
           "title": {
            "standoff": 15
           },
           "zerolinecolor": "#283442",
           "automargin": true,
           "zerolinewidth": 2
          },
          "yaxis": {
           "gridcolor": "#283442",
           "linecolor": "#506784",
           "ticks": "",
           "title": {
            "standoff": 15
           },
           "zerolinecolor": "#283442",
           "automargin": true,
           "zerolinewidth": 2
          },
          "scene": {
           "xaxis": {
            "backgroundcolor": "rgb(17,17,17)",
            "gridcolor": "#506784",
            "linecolor": "#506784",
            "showbackground": true,
            "ticks": "",
            "zerolinecolor": "#C8D4E3",
            "gridwidth": 2
           },
           "yaxis": {
            "backgroundcolor": "rgb(17,17,17)",
            "gridcolor": "#506784",
            "linecolor": "#506784",
            "showbackground": true,
            "ticks": "",
            "zerolinecolor": "#C8D4E3",
            "gridwidth": 2
           },
           "zaxis": {
            "backgroundcolor": "rgb(17,17,17)",
            "gridcolor": "#506784",
            "linecolor": "#506784",
            "showbackground": true,
            "ticks": "",
            "zerolinecolor": "#C8D4E3",
            "gridwidth": 2
           }
          },
          "shapedefaults": {
           "line": {
            "color": "#f2f5fa"
           }
          },
          "annotationdefaults": {
           "arrowcolor": "#f2f5fa",
           "arrowhead": 0,
           "arrowwidth": 1
          },
          "geo": {
           "bgcolor": "rgb(17,17,17)",
           "landcolor": "rgb(17,17,17)",
           "subunitcolor": "#506784",
           "showland": true,
           "showlakes": true,
           "lakecolor": "rgb(17,17,17)"
          },
          "title": {
           "x": 0.05
          },
          "updatemenudefaults": {
           "bgcolor": "#506784",
           "borderwidth": 0
          },
          "sliderdefaults": {
           "bgcolor": "#C8D4E3",
           "borderwidth": 1,
           "bordercolor": "rgb(17,17,17)",
           "tickwidth": 0
          },
          "mapbox": {
           "style": "dark"
          }
         }
        },
        "title": {
         "text": "Aggregated Color Histogram for Dataset"
        },
        "xaxis": {
         "title": {
          "text": "Pixel Intensity"
         }
        },
        "yaxis": {
         "title": {
          "text": "Frequency"
         }
        },
        "barmode": "overlay",
        "legend": {
         "title": {
          "text": "Color Channels"
         }
        }
       },
       "config": {
        "plotlyServerURL": "https://plot.ly"
       }
      },
      "text/html": [
       "<div>                            <div id=\"af4431c4-fd8e-4e73-a747-edc9246e0523\" class=\"plotly-graph-div\" style=\"height:525px; width:100%;\"></div>            <script type=\"text/javascript\">                require([\"plotly\"], function(Plotly) {                    window.PLOTLYENV=window.PLOTLYENV || {};                                    if (document.getElementById(\"af4431c4-fd8e-4e73-a747-edc9246e0523\")) {                    Plotly.newPlot(                        \"af4431c4-fd8e-4e73-a747-edc9246e0523\",                        [{\"marker\":{\"color\":\"red\"},\"name\":\"Red Channel\",\"opacity\":0.6,\"x\":[0,1,2,3,4,5,6,7,8,9,10,11,12,13,14,15,16,17,18,19,20,21,22,23,24,25,26,27,28,29,30,31,32,33,34,35,36,37,38,39,40,41,42,43,44,45,46,47,48,49,50,51,52,53,54,55,56,57,58,59,60,61,62,63,64,65,66,67,68,69,70,71,72,73,74,75,76,77,78,79,80,81,82,83,84,85,86,87,88,89,90,91,92,93,94,95,96,97,98,99,100,101,102,103,104,105,106,107,108,109,110,111,112,113,114,115,116,117,118,119,120,121,122,123,124,125,126,127,128,129,130,131,132,133,134,135,136,137,138,139,140,141,142,143,144,145,146,147,148,149,150,151,152,153,154,155,156,157,158,159,160,161,162,163,164,165,166,167,168,169,170,171,172,173,174,175,176,177,178,179,180,181,182,183,184,185,186,187,188,189,190,191,192,193,194,195,196,197,198,199,200,201,202,203,204,205,206,207,208,209,210,211,212,213,214,215,216,217,218,219,220,221,222,223,224,225,226,227,228,229,230,231,232,233,234,235,236,237,238,239,240,241,242,243,244,245,246,247,248,249,250,251,252,253,254,255],\"y\":[544690.0,315289.0,247351.0,203314.0,210433.0,173232.0,198252.0,175584.0,183278.0,182074.0,180039.0,191689.0,190427.0,191767.0,185823.0,189056.0,185042.0,191502.0,192534.0,195348.0,194902.0,195085.0,187273.0,186939.0,188054.0,186656.0,183992.0,185857.0,180794.0,179968.0,181660.0,182728.0,180971.0,176655.0,174825.0,170503.0,169776.0,167850.0,168933.0,166848.0,164907.0,166146.0,162515.0,163186.0,161196.0,157265.0,155115.0,153868.0,151913.0,150057.0,149455.0,148502.0,147074.0,145052.0,143698.0,141088.0,139541.0,139526.0,138175.0,136391.0,136787.0,135723.0,135824.0,134735.0,133871.0,132898.0,130677.0,129407.0,128019.0,125150.0,126612.0,123953.0,121979.0,120638.0,121541.0,119815.0,119867.0,117760.0,118197.0,116945.0,118896.0,118944.0,118814.0,117785.0,116617.0,116791.0,120072.0,116607.0,117747.0,118140.0,117047.0,115271.0,114378.0,113059.0,111920.0,113186.0,113135.0,113320.0,113114.0,113883.0,113303.0,112775.0,112844.0,113927.0,115070.0,113621.0,113327.0,115072.0,115239.0,115711.0,115939.0,116753.0,116256.0,115260.0,113811.0,117109.0,117321.0,118194.0,119996.0,118364.0,116203.0,115770.0,114807.0,115013.0,114209.0,114518.0,116782.0,115752.0,119129.0,117519.0,118788.0,119240.0,120431.0,120886.0,120435.0,120528.0,120819.0,118934.0,121562.0,121615.0,121722.0,122807.0,124220.0,125279.0,123285.0,123143.0,124198.0,125791.0,124355.0,124555.0,127112.0,126402.0,127972.0,129577.0,129497.0,129886.0,130296.0,131847.0,132673.0,134580.0,135415.0,137056.0,139202.0,141875.0,138393.0,139754.0,139035.0,139366.0,138784.0,137255.0,143522.0,141158.0,145316.0,141508.0,140459.0,141182.0,140962.0,142821.0,144942.0,146554.0,149767.0,149355.0,149812.0,156698.0,156119.0,155605.0,158737.0,160883.0,159222.0,162088.0,167827.0,164780.0,169466.0,165379.0,167229.0,165774.0,165602.0,165490.0,168352.0,163253.0,163996.0,164165.0,165821.0,167643.0,171547.0,172754.0,179462.0,184423.0,189611.0,183783.0,184117.0,182836.0,183790.0,183871.0,191209.0,185930.0,186135.0,190182.0,180552.0,182433.0,182040.0,171678.0,171147.0,173495.0,168959.0,164968.0,167267.0,164872.0,166387.0,165910.0,171027.0,174751.0,169018.0,164294.0,156523.0,156019.0,154251.0,154012.0,154222.0,152265.0,148152.0,142694.0,142265.0,135046.0,136705.0,135759.0,134740.0,139014.0,156045.0,141528.0,145883.0,142390.0,152556.0,171169.0,211103.0,622773.0],\"type\":\"bar\"},{\"marker\":{\"color\":\"green\"},\"name\":\"Green Channel\",\"opacity\":0.6,\"x\":[0,1,2,3,4,5,6,7,8,9,10,11,12,13,14,15,16,17,18,19,20,21,22,23,24,25,26,27,28,29,30,31,32,33,34,35,36,37,38,39,40,41,42,43,44,45,46,47,48,49,50,51,52,53,54,55,56,57,58,59,60,61,62,63,64,65,66,67,68,69,70,71,72,73,74,75,76,77,78,79,80,81,82,83,84,85,86,87,88,89,90,91,92,93,94,95,96,97,98,99,100,101,102,103,104,105,106,107,108,109,110,111,112,113,114,115,116,117,118,119,120,121,122,123,124,125,126,127,128,129,130,131,132,133,134,135,136,137,138,139,140,141,142,143,144,145,146,147,148,149,150,151,152,153,154,155,156,157,158,159,160,161,162,163,164,165,166,167,168,169,170,171,172,173,174,175,176,177,178,179,180,181,182,183,184,185,186,187,188,189,190,191,192,193,194,195,196,197,198,199,200,201,202,203,204,205,206,207,208,209,210,211,212,213,214,215,216,217,218,219,220,221,222,223,224,225,226,227,228,229,230,231,232,233,234,235,236,237,238,239,240,241,242,243,244,245,246,247,248,249,250,251,252,253,254,255],\"y\":[639258.0,354145.0,310246.0,248714.0,259820.0,233511.0,238677.0,244450.0,245423.0,236411.0,239371.0,242348.0,249710.0,254978.0,253777.0,248805.0,246685.0,248180.0,248785.0,252804.0,251442.0,250803.0,240292.0,237661.0,231395.0,232211.0,231021.0,230167.0,226614.0,222820.0,218486.0,213930.0,210197.0,207632.0,204284.0,201678.0,195237.0,193086.0,194086.0,192767.0,193412.0,193216.0,187082.0,184578.0,180625.0,178984.0,175608.0,173984.0,172910.0,173660.0,173916.0,172578.0,171742.0,166261.0,165907.0,165312.0,163865.0,163328.0,163816.0,161746.0,160445.0,163111.0,160410.0,158222.0,156556.0,154698.0,153476.0,151501.0,149662.0,150867.0,151292.0,150388.0,149468.0,149916.0,151000.0,150549.0,151626.0,150192.0,149092.0,149134.0,149335.0,149179.0,150047.0,149303.0,148287.0,147379.0,146277.0,148086.0,146407.0,148737.0,149902.0,148166.0,145425.0,146386.0,146581.0,147413.0,148053.0,149417.0,148998.0,149668.0,149604.0,148975.0,147763.0,147364.0,146367.0,149423.0,146188.0,145954.0,144952.0,145985.0,146455.0,146124.0,148092.0,149635.0,149572.0,147144.0,148094.0,150417.0,149518.0,149804.0,150970.0,151645.0,152039.0,153559.0,153044.0,154875.0,156970.0,156333.0,157624.0,156044.0,154922.0,153199.0,154288.0,154080.0,155870.0,153870.0,154992.0,153045.0,150673.0,151166.0,155588.0,150641.0,148467.0,148905.0,147647.0,147013.0,146499.0,145923.0,145771.0,146119.0,146072.0,145997.0,142779.0,141652.0,141089.0,140692.0,139405.0,140775.0,139005.0,139119.0,138356.0,137806.0,139477.0,138614.0,137144.0,137924.0,136038.0,134533.0,134113.0,136375.0,137062.0,136012.0,136614.0,138020.0,137114.0,131813.0,127796.0,127943.0,125840.0,125233.0,126955.0,124925.0,120747.0,118506.0,116353.0,114593.0,114699.0,113455.0,113828.0,114897.0,116542.0,114887.0,117141.0,118080.0,112929.0,109300.0,107597.0,107013.0,103985.0,100802.0,98339.0,97133.0,96143.0,94349.0,95958.0,95606.0,95001.0,93806.0,98347.0,94923.0,96538.0,99933.0,101125.0,100572.0,107466.0,100341.0,99800.0,100161.0,104066.0,103901.0,109505.0,102845.0,105888.0,101240.0,99847.0,96965.0,93131.0,87032.0,85567.0,84759.0,88750.0,84084.0,83871.0,83666.0,82036.0,82783.0,81058.0,76643.0,82405.0,79865.0,74959.0,79201.0,78434.0,85728.0,75916.0,75867.0,70594.0,80032.0,89868.0,93161.0,93283.0,86607.0,101636.0,113956.0,126050.0,407315.0],\"type\":\"bar\"},{\"marker\":{\"color\":\"blue\"},\"name\":\"Blue Channel\",\"opacity\":0.6,\"x\":[0,1,2,3,4,5,6,7,8,9,10,11,12,13,14,15,16,17,18,19,20,21,22,23,24,25,26,27,28,29,30,31,32,33,34,35,36,37,38,39,40,41,42,43,44,45,46,47,48,49,50,51,52,53,54,55,56,57,58,59,60,61,62,63,64,65,66,67,68,69,70,71,72,73,74,75,76,77,78,79,80,81,82,83,84,85,86,87,88,89,90,91,92,93,94,95,96,97,98,99,100,101,102,103,104,105,106,107,108,109,110,111,112,113,114,115,116,117,118,119,120,121,122,123,124,125,126,127,128,129,130,131,132,133,134,135,136,137,138,139,140,141,142,143,144,145,146,147,148,149,150,151,152,153,154,155,156,157,158,159,160,161,162,163,164,165,166,167,168,169,170,171,172,173,174,175,176,177,178,179,180,181,182,183,184,185,186,187,188,189,190,191,192,193,194,195,196,197,198,199,200,201,202,203,204,205,206,207,208,209,210,211,212,213,214,215,216,217,218,219,220,221,222,223,224,225,226,227,228,229,230,231,232,233,234,235,236,237,238,239,240,241,242,243,244,245,246,247,248,249,250,251,252,253,254,255],\"y\":[954772.0,375229.0,354211.0,308967.0,325109.0,310020.0,302572.0,306491.0,304394.0,303095.0,305379.0,304756.0,295475.0,295321.0,309164.0,289159.0,293695.0,285268.0,288410.0,289080.0,283605.0,283956.0,270683.0,269117.0,263999.0,262348.0,256687.0,251612.0,249921.0,248046.0,245866.0,243917.0,237124.0,232897.0,229756.0,224721.0,225485.0,222500.0,217568.0,213223.0,209643.0,207775.0,204869.0,208736.0,204854.0,203062.0,202158.0,203452.0,201308.0,198949.0,193179.0,190478.0,190258.0,188214.0,188069.0,188001.0,186837.0,183378.0,183043.0,179339.0,180023.0,179477.0,180596.0,176523.0,173543.0,174435.0,173729.0,174129.0,175523.0,173670.0,170924.0,171310.0,170069.0,170844.0,168161.0,170489.0,166367.0,165540.0,163833.0,164300.0,163665.0,163489.0,162513.0,161257.0,161278.0,161339.0,161130.0,159812.0,160332.0,158496.0,160169.0,158053.0,157140.0,155090.0,155027.0,154469.0,153222.0,152464.0,154147.0,152050.0,151817.0,153349.0,153903.0,153703.0,153272.0,153287.0,154337.0,154994.0,153361.0,156233.0,151399.0,150470.0,152065.0,148875.0,151095.0,150460.0,150099.0,149363.0,147612.0,146177.0,144912.0,146289.0,145059.0,142809.0,142532.0,140006.0,142263.0,139093.0,140600.0,137699.0,141244.0,140248.0,138014.0,136707.0,135872.0,132100.0,132294.0,130386.0,131852.0,132047.0,129810.0,128534.0,127315.0,125805.0,125886.0,123666.0,122293.0,122446.0,118947.0,117743.0,115249.0,114822.0,113316.0,112831.0,112014.0,110988.0,108050.0,108647.0,107124.0,108611.0,105343.0,102674.0,100787.0,99030.0,99497.0,98424.0,99373.0,99548.0,98661.0,97762.0,96733.0,93814.0,92620.0,92774.0,91257.0,91040.0,90074.0,85793.0,86246.0,83158.0,84145.0,79699.0,79818.0,78352.0,77956.0,76914.0,81574.0,79776.0,76732.0,76647.0,73074.0,73862.0,74872.0,72430.0,68798.0,68903.0,71245.0,69425.0,69027.0,70660.0,70943.0,69678.0,68261.0,69351.0,69431.0,65710.0,70149.0,73149.0,77361.0,81700.0,80838.0,79830.0,83064.0,81014.0,83268.0,78845.0,83525.0,86266.0,79684.0,78585.0,79815.0,79719.0,76817.0,76720.0,79615.0,78018.0,71420.0,71368.0,72729.0,72010.0,79404.0,86605.0,81335.0,79675.0,81964.0,77592.0,78911.0,80627.0,77315.0,80998.0,80563.0,84662.0,86199.0,89988.0,90509.0,75548.0,85874.0,79349.0,95017.0,92400.0,101385.0,100709.0,99323.0,145828.0,129335.0,445664.0],\"type\":\"bar\"}],                        {\"template\":{\"data\":{\"histogram2dcontour\":[{\"type\":\"histogram2dcontour\",\"colorbar\":{\"outlinewidth\":0,\"ticks\":\"\"},\"colorscale\":[[0.0,\"#0d0887\"],[0.1111111111111111,\"#46039f\"],[0.2222222222222222,\"#7201a8\"],[0.3333333333333333,\"#9c179e\"],[0.4444444444444444,\"#bd3786\"],[0.5555555555555556,\"#d8576b\"],[0.6666666666666666,\"#ed7953\"],[0.7777777777777778,\"#fb9f3a\"],[0.8888888888888888,\"#fdca26\"],[1.0,\"#f0f921\"]]}],\"choropleth\":[{\"type\":\"choropleth\",\"colorbar\":{\"outlinewidth\":0,\"ticks\":\"\"}}],\"histogram2d\":[{\"type\":\"histogram2d\",\"colorbar\":{\"outlinewidth\":0,\"ticks\":\"\"},\"colorscale\":[[0.0,\"#0d0887\"],[0.1111111111111111,\"#46039f\"],[0.2222222222222222,\"#7201a8\"],[0.3333333333333333,\"#9c179e\"],[0.4444444444444444,\"#bd3786\"],[0.5555555555555556,\"#d8576b\"],[0.6666666666666666,\"#ed7953\"],[0.7777777777777778,\"#fb9f3a\"],[0.8888888888888888,\"#fdca26\"],[1.0,\"#f0f921\"]]}],\"heatmap\":[{\"type\":\"heatmap\",\"colorbar\":{\"outlinewidth\":0,\"ticks\":\"\"},\"colorscale\":[[0.0,\"#0d0887\"],[0.1111111111111111,\"#46039f\"],[0.2222222222222222,\"#7201a8\"],[0.3333333333333333,\"#9c179e\"],[0.4444444444444444,\"#bd3786\"],[0.5555555555555556,\"#d8576b\"],[0.6666666666666666,\"#ed7953\"],[0.7777777777777778,\"#fb9f3a\"],[0.8888888888888888,\"#fdca26\"],[1.0,\"#f0f921\"]]}],\"heatmapgl\":[{\"type\":\"heatmapgl\",\"colorbar\":{\"outlinewidth\":0,\"ticks\":\"\"},\"colorscale\":[[0.0,\"#0d0887\"],[0.1111111111111111,\"#46039f\"],[0.2222222222222222,\"#7201a8\"],[0.3333333333333333,\"#9c179e\"],[0.4444444444444444,\"#bd3786\"],[0.5555555555555556,\"#d8576b\"],[0.6666666666666666,\"#ed7953\"],[0.7777777777777778,\"#fb9f3a\"],[0.8888888888888888,\"#fdca26\"],[1.0,\"#f0f921\"]]}],\"contourcarpet\":[{\"type\":\"contourcarpet\",\"colorbar\":{\"outlinewidth\":0,\"ticks\":\"\"}}],\"contour\":[{\"type\":\"contour\",\"colorbar\":{\"outlinewidth\":0,\"ticks\":\"\"},\"colorscale\":[[0.0,\"#0d0887\"],[0.1111111111111111,\"#46039f\"],[0.2222222222222222,\"#7201a8\"],[0.3333333333333333,\"#9c179e\"],[0.4444444444444444,\"#bd3786\"],[0.5555555555555556,\"#d8576b\"],[0.6666666666666666,\"#ed7953\"],[0.7777777777777778,\"#fb9f3a\"],[0.8888888888888888,\"#fdca26\"],[1.0,\"#f0f921\"]]}],\"surface\":[{\"type\":\"surface\",\"colorbar\":{\"outlinewidth\":0,\"ticks\":\"\"},\"colorscale\":[[0.0,\"#0d0887\"],[0.1111111111111111,\"#46039f\"],[0.2222222222222222,\"#7201a8\"],[0.3333333333333333,\"#9c179e\"],[0.4444444444444444,\"#bd3786\"],[0.5555555555555556,\"#d8576b\"],[0.6666666666666666,\"#ed7953\"],[0.7777777777777778,\"#fb9f3a\"],[0.8888888888888888,\"#fdca26\"],[1.0,\"#f0f921\"]]}],\"mesh3d\":[{\"type\":\"mesh3d\",\"colorbar\":{\"outlinewidth\":0,\"ticks\":\"\"}}],\"scatter\":[{\"marker\":{\"line\":{\"color\":\"#283442\"}},\"type\":\"scatter\"}],\"parcoords\":[{\"type\":\"parcoords\",\"line\":{\"colorbar\":{\"outlinewidth\":0,\"ticks\":\"\"}}}],\"scatterpolargl\":[{\"type\":\"scatterpolargl\",\"marker\":{\"colorbar\":{\"outlinewidth\":0,\"ticks\":\"\"}}}],\"bar\":[{\"error_x\":{\"color\":\"#f2f5fa\"},\"error_y\":{\"color\":\"#f2f5fa\"},\"marker\":{\"line\":{\"color\":\"rgb(17,17,17)\",\"width\":0.5},\"pattern\":{\"fillmode\":\"overlay\",\"size\":10,\"solidity\":0.2}},\"type\":\"bar\"}],\"scattergeo\":[{\"type\":\"scattergeo\",\"marker\":{\"colorbar\":{\"outlinewidth\":0,\"ticks\":\"\"}}}],\"scatterpolar\":[{\"type\":\"scatterpolar\",\"marker\":{\"colorbar\":{\"outlinewidth\":0,\"ticks\":\"\"}}}],\"histogram\":[{\"marker\":{\"pattern\":{\"fillmode\":\"overlay\",\"size\":10,\"solidity\":0.2}},\"type\":\"histogram\"}],\"scattergl\":[{\"marker\":{\"line\":{\"color\":\"#283442\"}},\"type\":\"scattergl\"}],\"scatter3d\":[{\"type\":\"scatter3d\",\"line\":{\"colorbar\":{\"outlinewidth\":0,\"ticks\":\"\"}},\"marker\":{\"colorbar\":{\"outlinewidth\":0,\"ticks\":\"\"}}}],\"scattermapbox\":[{\"type\":\"scattermapbox\",\"marker\":{\"colorbar\":{\"outlinewidth\":0,\"ticks\":\"\"}}}],\"scatterternary\":[{\"type\":\"scatterternary\",\"marker\":{\"colorbar\":{\"outlinewidth\":0,\"ticks\":\"\"}}}],\"scattercarpet\":[{\"type\":\"scattercarpet\",\"marker\":{\"colorbar\":{\"outlinewidth\":0,\"ticks\":\"\"}}}],\"carpet\":[{\"aaxis\":{\"endlinecolor\":\"#A2B1C6\",\"gridcolor\":\"#506784\",\"linecolor\":\"#506784\",\"minorgridcolor\":\"#506784\",\"startlinecolor\":\"#A2B1C6\"},\"baxis\":{\"endlinecolor\":\"#A2B1C6\",\"gridcolor\":\"#506784\",\"linecolor\":\"#506784\",\"minorgridcolor\":\"#506784\",\"startlinecolor\":\"#A2B1C6\"},\"type\":\"carpet\"}],\"table\":[{\"cells\":{\"fill\":{\"color\":\"#506784\"},\"line\":{\"color\":\"rgb(17,17,17)\"}},\"header\":{\"fill\":{\"color\":\"#2a3f5f\"},\"line\":{\"color\":\"rgb(17,17,17)\"}},\"type\":\"table\"}],\"barpolar\":[{\"marker\":{\"line\":{\"color\":\"rgb(17,17,17)\",\"width\":0.5},\"pattern\":{\"fillmode\":\"overlay\",\"size\":10,\"solidity\":0.2}},\"type\":\"barpolar\"}],\"pie\":[{\"automargin\":true,\"type\":\"pie\"}]},\"layout\":{\"autotypenumbers\":\"strict\",\"colorway\":[\"#636efa\",\"#EF553B\",\"#00cc96\",\"#ab63fa\",\"#FFA15A\",\"#19d3f3\",\"#FF6692\",\"#B6E880\",\"#FF97FF\",\"#FECB52\"],\"font\":{\"color\":\"#f2f5fa\"},\"hovermode\":\"closest\",\"hoverlabel\":{\"align\":\"left\"},\"paper_bgcolor\":\"rgb(17,17,17)\",\"plot_bgcolor\":\"rgb(17,17,17)\",\"polar\":{\"bgcolor\":\"rgb(17,17,17)\",\"angularaxis\":{\"gridcolor\":\"#506784\",\"linecolor\":\"#506784\",\"ticks\":\"\"},\"radialaxis\":{\"gridcolor\":\"#506784\",\"linecolor\":\"#506784\",\"ticks\":\"\"}},\"ternary\":{\"bgcolor\":\"rgb(17,17,17)\",\"aaxis\":{\"gridcolor\":\"#506784\",\"linecolor\":\"#506784\",\"ticks\":\"\"},\"baxis\":{\"gridcolor\":\"#506784\",\"linecolor\":\"#506784\",\"ticks\":\"\"},\"caxis\":{\"gridcolor\":\"#506784\",\"linecolor\":\"#506784\",\"ticks\":\"\"}},\"coloraxis\":{\"colorbar\":{\"outlinewidth\":0,\"ticks\":\"\"}},\"colorscale\":{\"sequential\":[[0.0,\"#0d0887\"],[0.1111111111111111,\"#46039f\"],[0.2222222222222222,\"#7201a8\"],[0.3333333333333333,\"#9c179e\"],[0.4444444444444444,\"#bd3786\"],[0.5555555555555556,\"#d8576b\"],[0.6666666666666666,\"#ed7953\"],[0.7777777777777778,\"#fb9f3a\"],[0.8888888888888888,\"#fdca26\"],[1.0,\"#f0f921\"]],\"sequentialminus\":[[0.0,\"#0d0887\"],[0.1111111111111111,\"#46039f\"],[0.2222222222222222,\"#7201a8\"],[0.3333333333333333,\"#9c179e\"],[0.4444444444444444,\"#bd3786\"],[0.5555555555555556,\"#d8576b\"],[0.6666666666666666,\"#ed7953\"],[0.7777777777777778,\"#fb9f3a\"],[0.8888888888888888,\"#fdca26\"],[1.0,\"#f0f921\"]],\"diverging\":[[0,\"#8e0152\"],[0.1,\"#c51b7d\"],[0.2,\"#de77ae\"],[0.3,\"#f1b6da\"],[0.4,\"#fde0ef\"],[0.5,\"#f7f7f7\"],[0.6,\"#e6f5d0\"],[0.7,\"#b8e186\"],[0.8,\"#7fbc41\"],[0.9,\"#4d9221\"],[1,\"#276419\"]]},\"xaxis\":{\"gridcolor\":\"#283442\",\"linecolor\":\"#506784\",\"ticks\":\"\",\"title\":{\"standoff\":15},\"zerolinecolor\":\"#283442\",\"automargin\":true,\"zerolinewidth\":2},\"yaxis\":{\"gridcolor\":\"#283442\",\"linecolor\":\"#506784\",\"ticks\":\"\",\"title\":{\"standoff\":15},\"zerolinecolor\":\"#283442\",\"automargin\":true,\"zerolinewidth\":2},\"scene\":{\"xaxis\":{\"backgroundcolor\":\"rgb(17,17,17)\",\"gridcolor\":\"#506784\",\"linecolor\":\"#506784\",\"showbackground\":true,\"ticks\":\"\",\"zerolinecolor\":\"#C8D4E3\",\"gridwidth\":2},\"yaxis\":{\"backgroundcolor\":\"rgb(17,17,17)\",\"gridcolor\":\"#506784\",\"linecolor\":\"#506784\",\"showbackground\":true,\"ticks\":\"\",\"zerolinecolor\":\"#C8D4E3\",\"gridwidth\":2},\"zaxis\":{\"backgroundcolor\":\"rgb(17,17,17)\",\"gridcolor\":\"#506784\",\"linecolor\":\"#506784\",\"showbackground\":true,\"ticks\":\"\",\"zerolinecolor\":\"#C8D4E3\",\"gridwidth\":2}},\"shapedefaults\":{\"line\":{\"color\":\"#f2f5fa\"}},\"annotationdefaults\":{\"arrowcolor\":\"#f2f5fa\",\"arrowhead\":0,\"arrowwidth\":1},\"geo\":{\"bgcolor\":\"rgb(17,17,17)\",\"landcolor\":\"rgb(17,17,17)\",\"subunitcolor\":\"#506784\",\"showland\":true,\"showlakes\":true,\"lakecolor\":\"rgb(17,17,17)\"},\"title\":{\"x\":0.05},\"updatemenudefaults\":{\"bgcolor\":\"#506784\",\"borderwidth\":0},\"sliderdefaults\":{\"bgcolor\":\"#C8D4E3\",\"borderwidth\":1,\"bordercolor\":\"rgb(17,17,17)\",\"tickwidth\":0},\"mapbox\":{\"style\":\"dark\"}}},\"title\":{\"text\":\"Aggregated Color Histogram for Dataset\"},\"xaxis\":{\"title\":{\"text\":\"Pixel Intensity\"}},\"yaxis\":{\"title\":{\"text\":\"Frequency\"}},\"barmode\":\"overlay\",\"legend\":{\"title\":{\"text\":\"Color Channels\"}}},                        {\"responsive\": true}                    ).then(function(){\n",
       "                            \n",
       "var gd = document.getElementById('af4431c4-fd8e-4e73-a747-edc9246e0523');\n",
       "var x = new MutationObserver(function (mutations, observer) {{\n",
       "        var display = window.getComputedStyle(gd).display;\n",
       "        if (!display || display === 'none') {{\n",
       "            console.log([gd, 'removed!']);\n",
       "            Plotly.purge(gd);\n",
       "            observer.disconnect();\n",
       "        }}\n",
       "}});\n",
       "\n",
       "// Listen for the removal of the full notebook cells\n",
       "var notebookContainer = gd.closest('#notebook-container');\n",
       "if (notebookContainer) {{\n",
       "    x.observe(notebookContainer, {childList: true});\n",
       "}}\n",
       "\n",
       "// Listen for the clearing of the current output cell\n",
       "var outputEl = gd.closest('.output');\n",
       "if (outputEl) {{\n",
       "    x.observe(outputEl, {childList: true});\n",
       "}}\n",
       "\n",
       "                        })                };                });            </script>        </div>"
      ]
     },
     "metadata": {},
     "output_type": "display_data"
    }
   ],
   "execution_count": 45
  },
  {
   "metadata": {},
   "cell_type": "markdown",
   "source": [
    "![Aggregated Color Histogram for Dataset](plots/Aggregated_Color_Histogram_for_Celeba_Dataset.png )\n",
    "*The following chart was originally created as an interactive diagram. However, due to GitHub's current limitations, it is displayed here as a static PNG.*\n",
    "\n",
    "\n",
    "\n",
    "\n",
    "\n",
    "**Aggregated Color Histogram Analysis**\n",
    "\n",
    "The histogram visualizes the aggregated color distribution of pixel intensities for the dataset across the Red, Green, and Blue channels. Key observations include:\n",
    "\n",
    "- The **Red Channel** exhibits a high frequency at lower intensities and a sharp peak at maximum intensity (255), likely due to bright regions in the images.\n",
    "- The **Green and Blue Channels** have more evenly distributed intensities but share a similar pattern at lower intensities.\n",
    "\n",
    "This visualization highlights the dataset's color characteristics, which might influence the model's performance. The overlapping transparency (`opacity=0.6`) helps to compare the intensity distributions across channels effectively."
   ],
   "id": "5196179bfa83ea18"
  }
 ],
 "metadata": {
  "kernelspec": {
   "display_name": "Python 3",
   "language": "python",
   "name": "python3"
  },
  "language_info": {
   "codemirror_mode": {
    "name": "ipython",
    "version": 2
   },
   "file_extension": ".py",
   "mimetype": "text/x-python",
   "name": "python",
   "nbconvert_exporter": "python",
   "pygments_lexer": "ipython2",
   "version": "2.7.6"
  }
 },
 "nbformat": 4,
 "nbformat_minor": 5
}
