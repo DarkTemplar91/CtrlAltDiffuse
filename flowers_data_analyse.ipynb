{
 "cells": [
  {
   "cell_type": "markdown",
   "metadata": {},
   "source": [
    "# Interactive Clustering of CelebA/Flowers102 Images with PyTorch and Plotly\n",
    "\n",
    "In this notebook, we will:\n",
    "\n",
    "- Use **PyTorch** to extract features from the CelebA dataset using a pre-trained VGG16 model.\n",
    "- Perform dimensionality reduction using **PCA**.\n",
    "- Apply **K-Means** clustering to group similar images.\n",
    "- Use **t-SNE** for visualization.\n",
    "- Create an interactive plot within the Jupyter Notebook where clicking on a point displays the corresponding image."
   ],
   "id": "3641ce0b1abf2495"
  },
  {
   "cell_type": "markdown",
   "metadata": {},
   "source": [
    "## Prerequisites\n",
    "\n",
    "Ensure you have the following libraries installed:\n",
    "\n",
    "```bash\n",
    "pip install numpy pandas tqdm pillow torch torchvision scikit-learn plotly ipywidgets\n",
    "```"
   ],
   "id": "463c438a3ea53f18"
  },
  {
   "cell_type": "markdown",
   "metadata": {},
   "source": [
    "## 1. Import Necessary Libraries\n",
    "\n",
    "First, we import all the necessary libraries.\n"
   ],
   "id": "cbff38ac035bebce"
  },
  {
   "cell_type": "code",
   "metadata": {
    "ExecuteTime": {
     "end_time": "2024-12-08T18:42:47.017757Z",
     "start_time": "2024-12-08T18:42:47.005204Z"
    }
   },
   "source": [
    "# Import necessary libraries\n",
    "import os\n",
    "import numpy as np\n",
    "import pandas as pd\n",
    "import plotly.graph_objects as go\n",
    "from PIL import Image\n",
    "from tqdm import tqdm\n",
    "\n",
    "# PyTorch libraries\n",
    "import torch\n",
    "from torchvision import models, transforms\n",
    "from torchvision.models import VGG16_Weights\n",
    "\n",
    "# Dimensionality reduction and clustering\n",
    "from sklearn.decomposition import PCA\n",
    "from sklearn.cluster import KMeans\n",
    "from sklearn.manifold import TSNE\n",
    "\n",
    "# Widgets for interactive display\n",
    "import ipywidgets as widgets\n",
    "from IPython.display import display"
   ],
   "id": "d99f4d27e4caeb16",
   "outputs": [],
   "execution_count": 17
  },
  {
   "cell_type": "markdown",
   "metadata": {},
   "source": [
    "## 2. Check for GPU Availability\n",
    "\n",
    "We check if a GPU is available and set the device accordingly. "
   ],
   "id": "8553a9715c31c285"
  },
  {
   "cell_type": "code",
   "metadata": {
    "ExecuteTime": {
     "end_time": "2024-12-08T18:42:47.102755Z",
     "start_time": "2024-12-08T18:42:47.094132Z"
    }
   },
   "source": [
    "# Check if GPU is available\n",
    "device = torch.device(\"cuda\" if torch.cuda.is_available() else \"cpu\")\n",
    "print(\"Using device:\", device)"
   ],
   "id": "f84d52a422f2d8ad",
   "outputs": [
    {
     "name": "stdout",
     "output_type": "stream",
     "text": [
      "Using device: cuda\n"
     ]
    }
   ],
   "execution_count": 18
  },
  {
   "cell_type": "markdown",
   "metadata": {},
   "source": [
    "## 3. Set Up Image Path and Variables\n",
    "\n",
    "We set the path to the Flowers dataset and list the image files. "
   ],
   "id": "2586db42ca04f753"
  },
  {
   "cell_type": "code",
   "metadata": {
    "ExecuteTime": {
     "end_time": "2024-12-08T18:42:47.392046Z",
     "start_time": "2024-12-08T18:42:47.368208Z"
    }
   },
   "source": [
    "# Set the path to the CelebA or Flowers dataset directory\n",
    "current_dir = os.getcwd()\n",
    "#image_folder = os.path.join(current_dir, 'datasets', 'celeba', 'img_align_celeba')\n",
    "image_folder = os.path.join(current_dir, 'datasets', 'flowers-102', 'jpg')\n",
    "\n",
    "print(f\"Image folder path: {image_folder}\")\n",
    "\n",
    "# List image files\n",
    "image_files = [f for f in os.listdir(image_folder) if f.endswith('.jpg')]\n",
    "\n",
    "# Limit the number of images to manage memory usage\n",
    "max_images = 1000  # Set to desired limit\n",
    "image_files = np.random.choice(image_files, max_images, replace=False)\n",
    "\n",
    "# Number of n_clusters=20\n",
    "clusters=20\n",
    "\n",
    "# Display the number of images\n",
    "print(f\"Number of images: {len(image_files)}\")"
   ],
   "id": "48789d5eeed3ce70",
   "outputs": [
    {
     "name": "stdout",
     "output_type": "stream",
     "text": [
      "Image folder path: /home/user/CtrlAltDiffuse/datasets/flowers-102/jpg\n",
      "Number of images: 1000\n"
     ]
    }
   ],
   "execution_count": 19
  },
  {
   "cell_type": "markdown",
   "metadata": {},
   "source": "> **Note**: Ensure that the `image_folder` path points to the correct location of your CelebA or Flowers dataset. ",
   "id": "c882cca8acdbfb0d"
  },
  {
   "cell_type": "markdown",
   "metadata": {},
   "source": [
    "## 4. Define Image Transformations\n",
    "\n",
    "We define the image transformations to preprocess the images. Since not all images are size 256x256, we resize them."
   ],
   "id": "77f538c5d66fae97"
  },
  {
   "cell_type": "code",
   "metadata": {
    "ExecuteTime": {
     "end_time": "2024-12-08T18:42:47.428017Z",
     "start_time": "2024-12-08T18:42:47.419522Z"
    }
   },
   "source": [
    "# Define image transformations (no resizing)\n",
    "transform = transforms.Compose([\n",
    "    transforms.Resize((256, 256), antialias=True),\n",
    "    transforms.ToTensor(),\n",
    "    transforms.Normalize(mean=0.5, std=0.5)\n",
    "])"
   ],
   "id": "911d9c94f3e5aabd",
   "outputs": [],
   "execution_count": 20
  },
  {
   "cell_type": "markdown",
   "metadata": {},
   "source": [
    "## 5. Load Pre-trained VGG16 Model\n",
    "\n",
    "We load the pre-trained VGG16 model from PyTorch, setting it to evaluation mode. "
   ],
   "id": "a0bdbfd93c873f8c"
  },
  {
   "cell_type": "code",
   "metadata": {
    "ExecuteTime": {
     "end_time": "2024-12-08T18:42:51.968430Z",
     "start_time": "2024-12-08T18:42:47.487681Z"
    }
   },
   "source": [
    "# Load the pre-trained VGG16 model\n",
    "model = models.vgg16(weights=VGG16_Weights.DEFAULT)\n",
    "model = model.to(device)\n",
    "model.eval()  # Set model to evaluation mode\n",
    "print(\"Model loaded.\")"
   ],
   "id": "9044cbcdd18a7078",
   "outputs": [
    {
     "name": "stdout",
     "output_type": "stream",
     "text": [
      "Model loaded.\n"
     ]
    }
   ],
   "execution_count": 21
  },
  {
   "cell_type": "markdown",
   "metadata": {},
   "source": [
    "## 6. Create Feature Extractor\n",
    "\n",
    "We create a feature extractor by removing the classification layers from the VGG16 model. "
   ],
   "id": "b474815e3fbaa026"
  },
  {
   "cell_type": "code",
   "metadata": {
    "ExecuteTime": {
     "end_time": "2024-12-08T18:42:52.016487Z",
     "start_time": "2024-12-08T18:42:52.005256Z"
    }
   },
   "source": [
    "# Create a feature extractor by removing the classification layers\n",
    "class FeatureExtractor(torch.nn.Module):\n",
    "    def __init__(self, model):\n",
    "        super(FeatureExtractor, self).__init__()\n",
    "        # Use all layers except the last classifier layers\n",
    "        self.features = model.features\n",
    "        # Add adaptive pooling to ensure consistent output size\n",
    "        self.avgpool = torch.nn.AdaptiveAvgPool2d((7, 7))\n",
    "\n",
    "    def forward(self, x):\n",
    "        x = self.features(x)\n",
    "        x = self.avgpool(x)\n",
    "        x = torch.flatten(x, 1)\n",
    "        return x\n",
    "\n",
    "feature_extractor = FeatureExtractor(model).to(device)"
   ],
   "id": "adb6aec6a3d0c1f2",
   "outputs": [],
   "execution_count": 22
  },
  {
   "cell_type": "markdown",
   "metadata": {},
   "source": [
    "## 7. Extract Features from Images\n",
    "\n",
    "We loop through the images, preprocess them, and extract features using the feature extractor. "
   ],
   "id": "5d95082c9076e9f2"
  },
  {
   "cell_type": "code",
   "metadata": {
    "ExecuteTime": {
     "end_time": "2024-12-08T18:43:06.620296Z",
     "start_time": "2024-12-08T18:42:52.069307Z"
    }
   },
   "source": [
    "# Extract features from images\n",
    "print(\"Extracting features...\")\n",
    "features_list = []\n",
    "\n",
    "for image_file in tqdm(image_files):\n",
    "    img_path = os.path.join(image_folder, image_file)\n",
    "    image = Image.open(img_path).convert('RGB')\n",
    "    image = transform(image)\n",
    "    image = image.unsqueeze(0).to(device)\n",
    "\n",
    "    with torch.no_grad():\n",
    "        feature = feature_extractor(image)\n",
    "    feature = feature.cpu().numpy().flatten()\n",
    "    features_list.append(feature)\n",
    "\n",
    "features_array = np.array(features_list)\n",
    "print(f\"Shape of extracted features: {features_array.shape}\")"
   ],
   "id": "19dfbcf09ba9a7dd",
   "outputs": [
    {
     "name": "stdout",
     "output_type": "stream",
     "text": [
      "Extracting features...\n"
     ]
    },
    {
     "name": "stderr",
     "output_type": "stream",
     "text": [
      "100%|██████████| 1000/1000 [00:14<00:00, 69.42it/s]\n"
     ]
    },
    {
     "name": "stdout",
     "output_type": "stream",
     "text": [
      "Shape of extracted features: (1000, 25088)\n"
     ]
    }
   ],
   "execution_count": 23
  },
  {
   "cell_type": "markdown",
   "metadata": {},
   "source": "> **Note**: This step may take some time depending on the number of images and your hardware. ",
   "id": "16a5327870e252f1"
  },
  {
   "cell_type": "markdown",
   "metadata": {},
   "source": [
    "## 8. Apply PCA for Dimensionality Reduction\n",
    "\n",
    "We reduce the dimensionality of the features using PCA. "
   ],
   "id": "716ab5265f8a5044"
  },
  {
   "cell_type": "code",
   "metadata": {
    "ExecuteTime": {
     "end_time": "2024-12-08T18:43:09.679905Z",
     "start_time": "2024-12-08T18:43:06.683575Z"
    }
   },
   "source": [
    "# Apply PCA for dimensionality reduction\n",
    "pca = PCA(n_components=100)\n",
    "features_pca = pca.fit_transform(features_array)\n",
    "print(f\"Shape after PCA: {features_pca.shape}\")"
   ],
   "id": "56776079770b5ede",
   "outputs": [
    {
     "name": "stdout",
     "output_type": "stream",
     "text": [
      "Shape after PCA: (1000, 100)\n"
     ]
    }
   ],
   "execution_count": 24
  },
  {
   "cell_type": "markdown",
   "metadata": {},
   "source": [
    "## 9. Perform K-Means Clustering\n",
    " \n",
    "We cluster the images using K-Means clustering."
   ],
   "id": "5eb36cc1a1072e3c"
  },
  {
   "cell_type": "code",
   "metadata": {
    "ExecuteTime": {
     "end_time": "2024-12-08T18:43:09.754275Z",
     "start_time": "2024-12-08T18:43:09.720414Z"
    }
   },
   "source": [
    "# Perform K-Means clustering\n",
    "kmeans = KMeans(n_clusters=clusters, random_state=42)\n",
    "kmeans_labels = kmeans.fit_predict(features_pca)\n",
    "print(\"Clustering completed.\")"
   ],
   "id": "82e61bb6ba873490",
   "outputs": [
    {
     "name": "stdout",
     "output_type": "stream",
     "text": [
      "Clustering completed.\n"
     ]
    }
   ],
   "execution_count": 25
  },
  {
   "cell_type": "markdown",
   "metadata": {},
   "source": [
    "## 10. Use t-SNE for Visualization\n",
    "\n",
    "We use t-SNE to reduce the data to two dimensions for visualization. "
   ],
   "id": "78e4a7654e800ede"
  },
  {
   "cell_type": "code",
   "metadata": {
    "ExecuteTime": {
     "end_time": "2024-12-08T18:43:11.799343Z",
     "start_time": "2024-12-08T18:43:09.783310Z"
    }
   },
   "source": [
    "# Use t-SNE for visualization\n",
    "tsne = TSNE(n_components=2, random_state=42, perplexity=30, max_iter=1000)\n",
    "features_tsne = tsne.fit_transform(features_pca)\n",
    "print(\"t-SNE transformation completed.\")"
   ],
   "id": "5bdec71708485e7d",
   "outputs": [
    {
     "name": "stdout",
     "output_type": "stream",
     "text": [
      "t-SNE transformation completed.\n"
     ]
    }
   ],
   "execution_count": 26
  },
  {
   "cell_type": "markdown",
   "metadata": {},
   "source": [
    "## 11. Prepare DataFrame for Visualization \n",
    "\n",
    "We create a DataFrame containing the t-SNE results and other relevant data."
   ],
   "id": "6f5d2f1a713f11fb"
  },
  {
   "cell_type": "code",
   "metadata": {
    "ExecuteTime": {
     "end_time": "2024-12-08T18:43:11.859184Z",
     "start_time": "2024-12-08T18:43:11.842027Z"
    }
   },
   "source": [
    "# Prepare DataFrame for visualization\n",
    "tsne_df = pd.DataFrame({\n",
    "    'TSNE1': features_tsne[:, 0],\n",
    "    'TSNE2': features_tsne[:, 1],\n",
    "    'Cluster': kmeans_labels.astype(str),\n",
    "    'Image File': image_files\n",
    "})"
   ],
   "id": "14c0a3c46edcb351",
   "outputs": [],
   "execution_count": 27
  },
  {
   "cell_type": "markdown",
   "metadata": {},
   "source": [
    "## 12. Create Interactive Plot and Image Display\n",
    "\n",
    "We create an interactive plot using Plotly's `FigureWidget` and display the image corresponding to the selected point. "
   ],
   "id": "259076b40ac16e3b"
  },
  {
   "cell_type": "code",
   "metadata": {
    "ExecuteTime": {
     "end_time": "2024-12-08T18:43:12.047764Z",
     "start_time": "2024-12-08T18:43:11.910598Z"
    }
   },
   "source": [
    "# Create a FigureWidget\n",
    "scatter = go.FigureWidget(\n",
    "    data=go.Scattergl(\n",
    "        x=tsne_df['TSNE1'],\n",
    "        y=tsne_df['TSNE2'],\n",
    "        mode='markers',\n",
    "        marker=dict(\n",
    "            color=tsne_df['Cluster'].astype(int),\n",
    "            colorscale='Viridis',\n",
    "            showscale=True,\n",
    "            size=5\n",
    "        ),\n",
    "        customdata=tsne_df['Image File'],\n",
    "        hovertemplate='<b>Image File:</b> %{customdata}<br>' +\n",
    "                      '<b>Cluster:</b> %{marker.color}<br>' +\n",
    "                      '<extra></extra>'\n",
    "    )\n",
    ")\n",
    "\n",
    "scatter.update_layout(\n",
    "    title='t-SNE Visualization of Flowers Images',\n",
    "    xaxis_title='t-SNE Dimension 1',\n",
    "    yaxis_title='t-SNE Dimension 2',\n",
    "    width=800,\n",
    "    height=600\n",
    ")\n",
    "\n",
    "# Create an Image widget to display the selected image\n",
    "image_widget = widgets.Image(\n",
    "    format='jpg',\n",
    "    width=256,\n",
    "    height=256\n",
    ")\n",
    "\n",
    "# Create a function to handle click events\n",
    "def update_image(trace, points, selector):\n",
    "    if points.point_inds:\n",
    "        ind = points.point_inds[0]\n",
    "        image_file = tsne_df.iloc[ind]['Image File']\n",
    "        img_path = os.path.join(image_folder, image_file)\n",
    "        with open(img_path, 'rb') as f:\n",
    "            img_data = f.read()\n",
    "            image_widget.value = img_data\n",
    "\n",
    "# Attach the click event handler\n",
    "scatter.data[0].on_click(update_image)\n",
    "\n",
    "# Display the plot and the image widget\n",
    "container = widgets.VBox([scatter, image_widget])\n",
    "display(container)"
   ],
   "id": "1a126fcf928525bc",
   "outputs": [
    {
     "data": {
      "text/plain": [
       "VBox(children=(FigureWidget({\n",
       "    'data': [{'customdata': array(['image_05998.jpg', 'image_04217.jpg', 'image_…"
      ],
      "application/vnd.jupyter.widget-view+json": {
       "version_major": 2,
       "version_minor": 0,
       "model_id": "5c6126417b6e4f1e9bf3a60922c7ddda"
      }
     },
     "metadata": {},
     "output_type": "display_data"
    }
   ],
   "execution_count": 28
  },
  {
   "metadata": {},
   "cell_type": "markdown",
   "source": [
    "![Cluster12](plots/flowers_cluster_distribution.png \"Static version of an interactive chart\")\n",
    "*The following chart was originally created as an interactive diagram. However, due to GitHub's current limitations, it is displayed here as a static PNG.*\n"
   ],
   "id": "97427f951ff1766a"
  },
  {
   "metadata": {},
   "cell_type": "markdown",
   "source": [
    "![Cluster12](plots/flowers_cluster_distribution2.png \"Static version of an interactive chart\")\n",
    "*The following chart was originally created as an interactive diagram. However, due to GitHub's current limitations, it is displayed here as a static PNG.*\n"
   ],
   "id": "9b4f9ff64bcf5b09"
  },
  {
   "metadata": {},
   "cell_type": "markdown",
   "source": [
    "### Clustering Results\n",
    "\n",
    "The t-SNE model effectively clustered the images, demonstrating its ability to separate the data into meaningful groups. For example:\n",
    "\n",
    "- **Flowers Dataset**: The model grouped images of sunflowers into a distinct cluster (e.g., Cluster 12).\n",
    "- This clear separation illustrates the t-SNE model's strength in visualizing high-dimensional data in two-dimensional space.\n",
    "- In total there are 19 clusters\n",
    "  "
   ],
   "id": "c969ac758b22cd12"
  },
  {
   "metadata": {},
   "cell_type": "markdown",
   "source": "## 13. Color analysis ",
   "id": "9bf411b36a7b4b7c"
  },
  {
   "metadata": {
    "ExecuteTime": {
     "end_time": "2024-12-08T18:43:27.764780Z",
     "start_time": "2024-12-08T18:43:12.083665Z"
    }
   },
   "cell_type": "code",
   "source": [
    "rgb_sum = torch.zeros(3)\n",
    "pixel_count = 0\n",
    "\n",
    "transform_image = transforms.ToTensor()\n",
    "\n",
    "# Initialize histograms for RGB channels (256 bins for pixel intensities 0-255)\n",
    "hist_r = np.zeros(256)\n",
    "hist_g = np.zeros(256)\n",
    "hist_b = np.zeros(256)\n",
    "\n",
    "for image_file in image_files:\n",
    "    image_path = os.path.join(image_folder, image_file)\n",
    "    image = Image.open(image_path)\n",
    "    \n",
    "    image_tensor = transform_image(image)\n",
    "    rgb_sum += image_tensor.sum(dim=[1, 2])\n",
    "    \n",
    "    # Count the number of pixels (height * width)\n",
    "    pixel_count += image_tensor.size(1) * image_tensor.size(2)\n",
    "    \n",
    "    # Convert tensor to numpy array and rescale to 0-255 range\n",
    "    image_np = image_tensor.numpy() * 255\n",
    "    \n",
    "    # Flatten the image for each channel\n",
    "    red_channel = image_np[0, :, :].flatten()\n",
    "    green_channel = image_np[1, :, :].flatten()\n",
    "    blue_channel = image_np[2, :, :].flatten()\n",
    "    \n",
    "    # Update histograms for each color channel\n",
    "    hist_r += np.histogram(red_channel, bins=256, range=(0, 256))[0]\n",
    "    hist_g += np.histogram(green_channel, bins=256, range=(0, 256))[0]\n",
    "    hist_b += np.histogram(blue_channel, bins=256, range=(0, 256))[0]\n",
    "\n",
    "mean_rgb = rgb_sum / pixel_count\n",
    "mean_rgb_np = mean_rgb.numpy()\n"
   ],
   "id": "ad8f1da6b147343d",
   "outputs": [],
   "execution_count": 29
  },
  {
   "metadata": {
    "ExecuteTime": {
     "end_time": "2024-12-08T18:43:27.856166Z",
     "start_time": "2024-12-08T18:43:27.839014Z"
    }
   },
   "cell_type": "code",
   "source": [
    "# Plotly Bar Chart for Mean RGB\n",
    "fig_rgb = go.Figure()\n",
    "\n",
    "fig_rgb.add_trace(go.Bar(\n",
    "    x=['Red', 'Green', 'Blue'],\n",
    "    y=mean_rgb_np,\n",
    "    marker=dict(color=['red', 'green', 'blue']),\n",
    "    name='Mean Color Intensity'\n",
    "))\n",
    "\n",
    "fig_rgb.update_layout(\n",
    "    title=\"Average Color Distribution in Training Set\",\n",
    "    xaxis_title=\"Color Channels\",\n",
    "    yaxis_title=\"Mean Pixel Intensity\",\n",
    "    showlegend=False\n",
    ")\n",
    "\n",
    "fig_rgb.show()"
   ],
   "id": "e498e57a88401ca3",
   "outputs": [
    {
     "data": {
      "application/vnd.plotly.v1+json": {
       "data": [
        {
         "marker": {
          "color": [
           "red",
           "green",
           "blue"
          ]
         },
         "name": "Mean Color Intensity",
         "x": [
          "Red",
          "Green",
          "Blue"
         ],
         "y": [
          0.438429594039917,
          0.37951841950416565,
          0.2907197177410126
         ],
         "type": "bar"
        }
       ],
       "layout": {
        "template": {
         "data": {
          "histogram2dcontour": [
           {
            "type": "histogram2dcontour",
            "colorbar": {
             "outlinewidth": 0,
             "ticks": ""
            },
            "colorscale": [
             [
              0.0,
              "#0d0887"
             ],
             [
              0.1111111111111111,
              "#46039f"
             ],
             [
              0.2222222222222222,
              "#7201a8"
             ],
             [
              0.3333333333333333,
              "#9c179e"
             ],
             [
              0.4444444444444444,
              "#bd3786"
             ],
             [
              0.5555555555555556,
              "#d8576b"
             ],
             [
              0.6666666666666666,
              "#ed7953"
             ],
             [
              0.7777777777777778,
              "#fb9f3a"
             ],
             [
              0.8888888888888888,
              "#fdca26"
             ],
             [
              1.0,
              "#f0f921"
             ]
            ]
           }
          ],
          "choropleth": [
           {
            "type": "choropleth",
            "colorbar": {
             "outlinewidth": 0,
             "ticks": ""
            }
           }
          ],
          "histogram2d": [
           {
            "type": "histogram2d",
            "colorbar": {
             "outlinewidth": 0,
             "ticks": ""
            },
            "colorscale": [
             [
              0.0,
              "#0d0887"
             ],
             [
              0.1111111111111111,
              "#46039f"
             ],
             [
              0.2222222222222222,
              "#7201a8"
             ],
             [
              0.3333333333333333,
              "#9c179e"
             ],
             [
              0.4444444444444444,
              "#bd3786"
             ],
             [
              0.5555555555555556,
              "#d8576b"
             ],
             [
              0.6666666666666666,
              "#ed7953"
             ],
             [
              0.7777777777777778,
              "#fb9f3a"
             ],
             [
              0.8888888888888888,
              "#fdca26"
             ],
             [
              1.0,
              "#f0f921"
             ]
            ]
           }
          ],
          "heatmap": [
           {
            "type": "heatmap",
            "colorbar": {
             "outlinewidth": 0,
             "ticks": ""
            },
            "colorscale": [
             [
              0.0,
              "#0d0887"
             ],
             [
              0.1111111111111111,
              "#46039f"
             ],
             [
              0.2222222222222222,
              "#7201a8"
             ],
             [
              0.3333333333333333,
              "#9c179e"
             ],
             [
              0.4444444444444444,
              "#bd3786"
             ],
             [
              0.5555555555555556,
              "#d8576b"
             ],
             [
              0.6666666666666666,
              "#ed7953"
             ],
             [
              0.7777777777777778,
              "#fb9f3a"
             ],
             [
              0.8888888888888888,
              "#fdca26"
             ],
             [
              1.0,
              "#f0f921"
             ]
            ]
           }
          ],
          "heatmapgl": [
           {
            "type": "heatmapgl",
            "colorbar": {
             "outlinewidth": 0,
             "ticks": ""
            },
            "colorscale": [
             [
              0.0,
              "#0d0887"
             ],
             [
              0.1111111111111111,
              "#46039f"
             ],
             [
              0.2222222222222222,
              "#7201a8"
             ],
             [
              0.3333333333333333,
              "#9c179e"
             ],
             [
              0.4444444444444444,
              "#bd3786"
             ],
             [
              0.5555555555555556,
              "#d8576b"
             ],
             [
              0.6666666666666666,
              "#ed7953"
             ],
             [
              0.7777777777777778,
              "#fb9f3a"
             ],
             [
              0.8888888888888888,
              "#fdca26"
             ],
             [
              1.0,
              "#f0f921"
             ]
            ]
           }
          ],
          "contourcarpet": [
           {
            "type": "contourcarpet",
            "colorbar": {
             "outlinewidth": 0,
             "ticks": ""
            }
           }
          ],
          "contour": [
           {
            "type": "contour",
            "colorbar": {
             "outlinewidth": 0,
             "ticks": ""
            },
            "colorscale": [
             [
              0.0,
              "#0d0887"
             ],
             [
              0.1111111111111111,
              "#46039f"
             ],
             [
              0.2222222222222222,
              "#7201a8"
             ],
             [
              0.3333333333333333,
              "#9c179e"
             ],
             [
              0.4444444444444444,
              "#bd3786"
             ],
             [
              0.5555555555555556,
              "#d8576b"
             ],
             [
              0.6666666666666666,
              "#ed7953"
             ],
             [
              0.7777777777777778,
              "#fb9f3a"
             ],
             [
              0.8888888888888888,
              "#fdca26"
             ],
             [
              1.0,
              "#f0f921"
             ]
            ]
           }
          ],
          "surface": [
           {
            "type": "surface",
            "colorbar": {
             "outlinewidth": 0,
             "ticks": ""
            },
            "colorscale": [
             [
              0.0,
              "#0d0887"
             ],
             [
              0.1111111111111111,
              "#46039f"
             ],
             [
              0.2222222222222222,
              "#7201a8"
             ],
             [
              0.3333333333333333,
              "#9c179e"
             ],
             [
              0.4444444444444444,
              "#bd3786"
             ],
             [
              0.5555555555555556,
              "#d8576b"
             ],
             [
              0.6666666666666666,
              "#ed7953"
             ],
             [
              0.7777777777777778,
              "#fb9f3a"
             ],
             [
              0.8888888888888888,
              "#fdca26"
             ],
             [
              1.0,
              "#f0f921"
             ]
            ]
           }
          ],
          "mesh3d": [
           {
            "type": "mesh3d",
            "colorbar": {
             "outlinewidth": 0,
             "ticks": ""
            }
           }
          ],
          "scatter": [
           {
            "marker": {
             "line": {
              "color": "#283442"
             }
            },
            "type": "scatter"
           }
          ],
          "parcoords": [
           {
            "type": "parcoords",
            "line": {
             "colorbar": {
              "outlinewidth": 0,
              "ticks": ""
             }
            }
           }
          ],
          "scatterpolargl": [
           {
            "type": "scatterpolargl",
            "marker": {
             "colorbar": {
              "outlinewidth": 0,
              "ticks": ""
             }
            }
           }
          ],
          "bar": [
           {
            "error_x": {
             "color": "#f2f5fa"
            },
            "error_y": {
             "color": "#f2f5fa"
            },
            "marker": {
             "line": {
              "color": "rgb(17,17,17)",
              "width": 0.5
             },
             "pattern": {
              "fillmode": "overlay",
              "size": 10,
              "solidity": 0.2
             }
            },
            "type": "bar"
           }
          ],
          "scattergeo": [
           {
            "type": "scattergeo",
            "marker": {
             "colorbar": {
              "outlinewidth": 0,
              "ticks": ""
             }
            }
           }
          ],
          "scatterpolar": [
           {
            "type": "scatterpolar",
            "marker": {
             "colorbar": {
              "outlinewidth": 0,
              "ticks": ""
             }
            }
           }
          ],
          "histogram": [
           {
            "marker": {
             "pattern": {
              "fillmode": "overlay",
              "size": 10,
              "solidity": 0.2
             }
            },
            "type": "histogram"
           }
          ],
          "scattergl": [
           {
            "marker": {
             "line": {
              "color": "#283442"
             }
            },
            "type": "scattergl"
           }
          ],
          "scatter3d": [
           {
            "type": "scatter3d",
            "line": {
             "colorbar": {
              "outlinewidth": 0,
              "ticks": ""
             }
            },
            "marker": {
             "colorbar": {
              "outlinewidth": 0,
              "ticks": ""
             }
            }
           }
          ],
          "scattermapbox": [
           {
            "type": "scattermapbox",
            "marker": {
             "colorbar": {
              "outlinewidth": 0,
              "ticks": ""
             }
            }
           }
          ],
          "scatterternary": [
           {
            "type": "scatterternary",
            "marker": {
             "colorbar": {
              "outlinewidth": 0,
              "ticks": ""
             }
            }
           }
          ],
          "scattercarpet": [
           {
            "type": "scattercarpet",
            "marker": {
             "colorbar": {
              "outlinewidth": 0,
              "ticks": ""
             }
            }
           }
          ],
          "carpet": [
           {
            "aaxis": {
             "endlinecolor": "#A2B1C6",
             "gridcolor": "#506784",
             "linecolor": "#506784",
             "minorgridcolor": "#506784",
             "startlinecolor": "#A2B1C6"
            },
            "baxis": {
             "endlinecolor": "#A2B1C6",
             "gridcolor": "#506784",
             "linecolor": "#506784",
             "minorgridcolor": "#506784",
             "startlinecolor": "#A2B1C6"
            },
            "type": "carpet"
           }
          ],
          "table": [
           {
            "cells": {
             "fill": {
              "color": "#506784"
             },
             "line": {
              "color": "rgb(17,17,17)"
             }
            },
            "header": {
             "fill": {
              "color": "#2a3f5f"
             },
             "line": {
              "color": "rgb(17,17,17)"
             }
            },
            "type": "table"
           }
          ],
          "barpolar": [
           {
            "marker": {
             "line": {
              "color": "rgb(17,17,17)",
              "width": 0.5
             },
             "pattern": {
              "fillmode": "overlay",
              "size": 10,
              "solidity": 0.2
             }
            },
            "type": "barpolar"
           }
          ],
          "pie": [
           {
            "automargin": true,
            "type": "pie"
           }
          ]
         },
         "layout": {
          "autotypenumbers": "strict",
          "colorway": [
           "#636efa",
           "#EF553B",
           "#00cc96",
           "#ab63fa",
           "#FFA15A",
           "#19d3f3",
           "#FF6692",
           "#B6E880",
           "#FF97FF",
           "#FECB52"
          ],
          "font": {
           "color": "#f2f5fa"
          },
          "hovermode": "closest",
          "hoverlabel": {
           "align": "left"
          },
          "paper_bgcolor": "rgb(17,17,17)",
          "plot_bgcolor": "rgb(17,17,17)",
          "polar": {
           "bgcolor": "rgb(17,17,17)",
           "angularaxis": {
            "gridcolor": "#506784",
            "linecolor": "#506784",
            "ticks": ""
           },
           "radialaxis": {
            "gridcolor": "#506784",
            "linecolor": "#506784",
            "ticks": ""
           }
          },
          "ternary": {
           "bgcolor": "rgb(17,17,17)",
           "aaxis": {
            "gridcolor": "#506784",
            "linecolor": "#506784",
            "ticks": ""
           },
           "baxis": {
            "gridcolor": "#506784",
            "linecolor": "#506784",
            "ticks": ""
           },
           "caxis": {
            "gridcolor": "#506784",
            "linecolor": "#506784",
            "ticks": ""
           }
          },
          "coloraxis": {
           "colorbar": {
            "outlinewidth": 0,
            "ticks": ""
           }
          },
          "colorscale": {
           "sequential": [
            [
             0.0,
             "#0d0887"
            ],
            [
             0.1111111111111111,
             "#46039f"
            ],
            [
             0.2222222222222222,
             "#7201a8"
            ],
            [
             0.3333333333333333,
             "#9c179e"
            ],
            [
             0.4444444444444444,
             "#bd3786"
            ],
            [
             0.5555555555555556,
             "#d8576b"
            ],
            [
             0.6666666666666666,
             "#ed7953"
            ],
            [
             0.7777777777777778,
             "#fb9f3a"
            ],
            [
             0.8888888888888888,
             "#fdca26"
            ],
            [
             1.0,
             "#f0f921"
            ]
           ],
           "sequentialminus": [
            [
             0.0,
             "#0d0887"
            ],
            [
             0.1111111111111111,
             "#46039f"
            ],
            [
             0.2222222222222222,
             "#7201a8"
            ],
            [
             0.3333333333333333,
             "#9c179e"
            ],
            [
             0.4444444444444444,
             "#bd3786"
            ],
            [
             0.5555555555555556,
             "#d8576b"
            ],
            [
             0.6666666666666666,
             "#ed7953"
            ],
            [
             0.7777777777777778,
             "#fb9f3a"
            ],
            [
             0.8888888888888888,
             "#fdca26"
            ],
            [
             1.0,
             "#f0f921"
            ]
           ],
           "diverging": [
            [
             0,
             "#8e0152"
            ],
            [
             0.1,
             "#c51b7d"
            ],
            [
             0.2,
             "#de77ae"
            ],
            [
             0.3,
             "#f1b6da"
            ],
            [
             0.4,
             "#fde0ef"
            ],
            [
             0.5,
             "#f7f7f7"
            ],
            [
             0.6,
             "#e6f5d0"
            ],
            [
             0.7,
             "#b8e186"
            ],
            [
             0.8,
             "#7fbc41"
            ],
            [
             0.9,
             "#4d9221"
            ],
            [
             1,
             "#276419"
            ]
           ]
          },
          "xaxis": {
           "gridcolor": "#283442",
           "linecolor": "#506784",
           "ticks": "",
           "title": {
            "standoff": 15
           },
           "zerolinecolor": "#283442",
           "automargin": true,
           "zerolinewidth": 2
          },
          "yaxis": {
           "gridcolor": "#283442",
           "linecolor": "#506784",
           "ticks": "",
           "title": {
            "standoff": 15
           },
           "zerolinecolor": "#283442",
           "automargin": true,
           "zerolinewidth": 2
          },
          "scene": {
           "xaxis": {
            "backgroundcolor": "rgb(17,17,17)",
            "gridcolor": "#506784",
            "linecolor": "#506784",
            "showbackground": true,
            "ticks": "",
            "zerolinecolor": "#C8D4E3",
            "gridwidth": 2
           },
           "yaxis": {
            "backgroundcolor": "rgb(17,17,17)",
            "gridcolor": "#506784",
            "linecolor": "#506784",
            "showbackground": true,
            "ticks": "",
            "zerolinecolor": "#C8D4E3",
            "gridwidth": 2
           },
           "zaxis": {
            "backgroundcolor": "rgb(17,17,17)",
            "gridcolor": "#506784",
            "linecolor": "#506784",
            "showbackground": true,
            "ticks": "",
            "zerolinecolor": "#C8D4E3",
            "gridwidth": 2
           }
          },
          "shapedefaults": {
           "line": {
            "color": "#f2f5fa"
           }
          },
          "annotationdefaults": {
           "arrowcolor": "#f2f5fa",
           "arrowhead": 0,
           "arrowwidth": 1
          },
          "geo": {
           "bgcolor": "rgb(17,17,17)",
           "landcolor": "rgb(17,17,17)",
           "subunitcolor": "#506784",
           "showland": true,
           "showlakes": true,
           "lakecolor": "rgb(17,17,17)"
          },
          "title": {
           "x": 0.05
          },
          "updatemenudefaults": {
           "bgcolor": "#506784",
           "borderwidth": 0
          },
          "sliderdefaults": {
           "bgcolor": "#C8D4E3",
           "borderwidth": 1,
           "bordercolor": "rgb(17,17,17)",
           "tickwidth": 0
          },
          "mapbox": {
           "style": "dark"
          }
         }
        },
        "title": {
         "text": "Average Color Distribution in Training Set"
        },
        "xaxis": {
         "title": {
          "text": "Color Channels"
         }
        },
        "yaxis": {
         "title": {
          "text": "Mean Pixel Intensity"
         }
        },
        "showlegend": false
       },
       "config": {
        "plotlyServerURL": "https://plot.ly"
       }
      },
      "text/html": [
       "<div>                            <div id=\"2adac550-d729-4481-9f24-cb7e665bb3ee\" class=\"plotly-graph-div\" style=\"height:525px; width:100%;\"></div>            <script type=\"text/javascript\">                require([\"plotly\"], function(Plotly) {                    window.PLOTLYENV=window.PLOTLYENV || {};                                    if (document.getElementById(\"2adac550-d729-4481-9f24-cb7e665bb3ee\")) {                    Plotly.newPlot(                        \"2adac550-d729-4481-9f24-cb7e665bb3ee\",                        [{\"marker\":{\"color\":[\"red\",\"green\",\"blue\"]},\"name\":\"Mean Color Intensity\",\"x\":[\"Red\",\"Green\",\"Blue\"],\"y\":[0.438429594039917,0.37951841950416565,0.2907197177410126],\"type\":\"bar\"}],                        {\"template\":{\"data\":{\"histogram2dcontour\":[{\"type\":\"histogram2dcontour\",\"colorbar\":{\"outlinewidth\":0,\"ticks\":\"\"},\"colorscale\":[[0.0,\"#0d0887\"],[0.1111111111111111,\"#46039f\"],[0.2222222222222222,\"#7201a8\"],[0.3333333333333333,\"#9c179e\"],[0.4444444444444444,\"#bd3786\"],[0.5555555555555556,\"#d8576b\"],[0.6666666666666666,\"#ed7953\"],[0.7777777777777778,\"#fb9f3a\"],[0.8888888888888888,\"#fdca26\"],[1.0,\"#f0f921\"]]}],\"choropleth\":[{\"type\":\"choropleth\",\"colorbar\":{\"outlinewidth\":0,\"ticks\":\"\"}}],\"histogram2d\":[{\"type\":\"histogram2d\",\"colorbar\":{\"outlinewidth\":0,\"ticks\":\"\"},\"colorscale\":[[0.0,\"#0d0887\"],[0.1111111111111111,\"#46039f\"],[0.2222222222222222,\"#7201a8\"],[0.3333333333333333,\"#9c179e\"],[0.4444444444444444,\"#bd3786\"],[0.5555555555555556,\"#d8576b\"],[0.6666666666666666,\"#ed7953\"],[0.7777777777777778,\"#fb9f3a\"],[0.8888888888888888,\"#fdca26\"],[1.0,\"#f0f921\"]]}],\"heatmap\":[{\"type\":\"heatmap\",\"colorbar\":{\"outlinewidth\":0,\"ticks\":\"\"},\"colorscale\":[[0.0,\"#0d0887\"],[0.1111111111111111,\"#46039f\"],[0.2222222222222222,\"#7201a8\"],[0.3333333333333333,\"#9c179e\"],[0.4444444444444444,\"#bd3786\"],[0.5555555555555556,\"#d8576b\"],[0.6666666666666666,\"#ed7953\"],[0.7777777777777778,\"#fb9f3a\"],[0.8888888888888888,\"#fdca26\"],[1.0,\"#f0f921\"]]}],\"heatmapgl\":[{\"type\":\"heatmapgl\",\"colorbar\":{\"outlinewidth\":0,\"ticks\":\"\"},\"colorscale\":[[0.0,\"#0d0887\"],[0.1111111111111111,\"#46039f\"],[0.2222222222222222,\"#7201a8\"],[0.3333333333333333,\"#9c179e\"],[0.4444444444444444,\"#bd3786\"],[0.5555555555555556,\"#d8576b\"],[0.6666666666666666,\"#ed7953\"],[0.7777777777777778,\"#fb9f3a\"],[0.8888888888888888,\"#fdca26\"],[1.0,\"#f0f921\"]]}],\"contourcarpet\":[{\"type\":\"contourcarpet\",\"colorbar\":{\"outlinewidth\":0,\"ticks\":\"\"}}],\"contour\":[{\"type\":\"contour\",\"colorbar\":{\"outlinewidth\":0,\"ticks\":\"\"},\"colorscale\":[[0.0,\"#0d0887\"],[0.1111111111111111,\"#46039f\"],[0.2222222222222222,\"#7201a8\"],[0.3333333333333333,\"#9c179e\"],[0.4444444444444444,\"#bd3786\"],[0.5555555555555556,\"#d8576b\"],[0.6666666666666666,\"#ed7953\"],[0.7777777777777778,\"#fb9f3a\"],[0.8888888888888888,\"#fdca26\"],[1.0,\"#f0f921\"]]}],\"surface\":[{\"type\":\"surface\",\"colorbar\":{\"outlinewidth\":0,\"ticks\":\"\"},\"colorscale\":[[0.0,\"#0d0887\"],[0.1111111111111111,\"#46039f\"],[0.2222222222222222,\"#7201a8\"],[0.3333333333333333,\"#9c179e\"],[0.4444444444444444,\"#bd3786\"],[0.5555555555555556,\"#d8576b\"],[0.6666666666666666,\"#ed7953\"],[0.7777777777777778,\"#fb9f3a\"],[0.8888888888888888,\"#fdca26\"],[1.0,\"#f0f921\"]]}],\"mesh3d\":[{\"type\":\"mesh3d\",\"colorbar\":{\"outlinewidth\":0,\"ticks\":\"\"}}],\"scatter\":[{\"marker\":{\"line\":{\"color\":\"#283442\"}},\"type\":\"scatter\"}],\"parcoords\":[{\"type\":\"parcoords\",\"line\":{\"colorbar\":{\"outlinewidth\":0,\"ticks\":\"\"}}}],\"scatterpolargl\":[{\"type\":\"scatterpolargl\",\"marker\":{\"colorbar\":{\"outlinewidth\":0,\"ticks\":\"\"}}}],\"bar\":[{\"error_x\":{\"color\":\"#f2f5fa\"},\"error_y\":{\"color\":\"#f2f5fa\"},\"marker\":{\"line\":{\"color\":\"rgb(17,17,17)\",\"width\":0.5},\"pattern\":{\"fillmode\":\"overlay\",\"size\":10,\"solidity\":0.2}},\"type\":\"bar\"}],\"scattergeo\":[{\"type\":\"scattergeo\",\"marker\":{\"colorbar\":{\"outlinewidth\":0,\"ticks\":\"\"}}}],\"scatterpolar\":[{\"type\":\"scatterpolar\",\"marker\":{\"colorbar\":{\"outlinewidth\":0,\"ticks\":\"\"}}}],\"histogram\":[{\"marker\":{\"pattern\":{\"fillmode\":\"overlay\",\"size\":10,\"solidity\":0.2}},\"type\":\"histogram\"}],\"scattergl\":[{\"marker\":{\"line\":{\"color\":\"#283442\"}},\"type\":\"scattergl\"}],\"scatter3d\":[{\"type\":\"scatter3d\",\"line\":{\"colorbar\":{\"outlinewidth\":0,\"ticks\":\"\"}},\"marker\":{\"colorbar\":{\"outlinewidth\":0,\"ticks\":\"\"}}}],\"scattermapbox\":[{\"type\":\"scattermapbox\",\"marker\":{\"colorbar\":{\"outlinewidth\":0,\"ticks\":\"\"}}}],\"scatterternary\":[{\"type\":\"scatterternary\",\"marker\":{\"colorbar\":{\"outlinewidth\":0,\"ticks\":\"\"}}}],\"scattercarpet\":[{\"type\":\"scattercarpet\",\"marker\":{\"colorbar\":{\"outlinewidth\":0,\"ticks\":\"\"}}}],\"carpet\":[{\"aaxis\":{\"endlinecolor\":\"#A2B1C6\",\"gridcolor\":\"#506784\",\"linecolor\":\"#506784\",\"minorgridcolor\":\"#506784\",\"startlinecolor\":\"#A2B1C6\"},\"baxis\":{\"endlinecolor\":\"#A2B1C6\",\"gridcolor\":\"#506784\",\"linecolor\":\"#506784\",\"minorgridcolor\":\"#506784\",\"startlinecolor\":\"#A2B1C6\"},\"type\":\"carpet\"}],\"table\":[{\"cells\":{\"fill\":{\"color\":\"#506784\"},\"line\":{\"color\":\"rgb(17,17,17)\"}},\"header\":{\"fill\":{\"color\":\"#2a3f5f\"},\"line\":{\"color\":\"rgb(17,17,17)\"}},\"type\":\"table\"}],\"barpolar\":[{\"marker\":{\"line\":{\"color\":\"rgb(17,17,17)\",\"width\":0.5},\"pattern\":{\"fillmode\":\"overlay\",\"size\":10,\"solidity\":0.2}},\"type\":\"barpolar\"}],\"pie\":[{\"automargin\":true,\"type\":\"pie\"}]},\"layout\":{\"autotypenumbers\":\"strict\",\"colorway\":[\"#636efa\",\"#EF553B\",\"#00cc96\",\"#ab63fa\",\"#FFA15A\",\"#19d3f3\",\"#FF6692\",\"#B6E880\",\"#FF97FF\",\"#FECB52\"],\"font\":{\"color\":\"#f2f5fa\"},\"hovermode\":\"closest\",\"hoverlabel\":{\"align\":\"left\"},\"paper_bgcolor\":\"rgb(17,17,17)\",\"plot_bgcolor\":\"rgb(17,17,17)\",\"polar\":{\"bgcolor\":\"rgb(17,17,17)\",\"angularaxis\":{\"gridcolor\":\"#506784\",\"linecolor\":\"#506784\",\"ticks\":\"\"},\"radialaxis\":{\"gridcolor\":\"#506784\",\"linecolor\":\"#506784\",\"ticks\":\"\"}},\"ternary\":{\"bgcolor\":\"rgb(17,17,17)\",\"aaxis\":{\"gridcolor\":\"#506784\",\"linecolor\":\"#506784\",\"ticks\":\"\"},\"baxis\":{\"gridcolor\":\"#506784\",\"linecolor\":\"#506784\",\"ticks\":\"\"},\"caxis\":{\"gridcolor\":\"#506784\",\"linecolor\":\"#506784\",\"ticks\":\"\"}},\"coloraxis\":{\"colorbar\":{\"outlinewidth\":0,\"ticks\":\"\"}},\"colorscale\":{\"sequential\":[[0.0,\"#0d0887\"],[0.1111111111111111,\"#46039f\"],[0.2222222222222222,\"#7201a8\"],[0.3333333333333333,\"#9c179e\"],[0.4444444444444444,\"#bd3786\"],[0.5555555555555556,\"#d8576b\"],[0.6666666666666666,\"#ed7953\"],[0.7777777777777778,\"#fb9f3a\"],[0.8888888888888888,\"#fdca26\"],[1.0,\"#f0f921\"]],\"sequentialminus\":[[0.0,\"#0d0887\"],[0.1111111111111111,\"#46039f\"],[0.2222222222222222,\"#7201a8\"],[0.3333333333333333,\"#9c179e\"],[0.4444444444444444,\"#bd3786\"],[0.5555555555555556,\"#d8576b\"],[0.6666666666666666,\"#ed7953\"],[0.7777777777777778,\"#fb9f3a\"],[0.8888888888888888,\"#fdca26\"],[1.0,\"#f0f921\"]],\"diverging\":[[0,\"#8e0152\"],[0.1,\"#c51b7d\"],[0.2,\"#de77ae\"],[0.3,\"#f1b6da\"],[0.4,\"#fde0ef\"],[0.5,\"#f7f7f7\"],[0.6,\"#e6f5d0\"],[0.7,\"#b8e186\"],[0.8,\"#7fbc41\"],[0.9,\"#4d9221\"],[1,\"#276419\"]]},\"xaxis\":{\"gridcolor\":\"#283442\",\"linecolor\":\"#506784\",\"ticks\":\"\",\"title\":{\"standoff\":15},\"zerolinecolor\":\"#283442\",\"automargin\":true,\"zerolinewidth\":2},\"yaxis\":{\"gridcolor\":\"#283442\",\"linecolor\":\"#506784\",\"ticks\":\"\",\"title\":{\"standoff\":15},\"zerolinecolor\":\"#283442\",\"automargin\":true,\"zerolinewidth\":2},\"scene\":{\"xaxis\":{\"backgroundcolor\":\"rgb(17,17,17)\",\"gridcolor\":\"#506784\",\"linecolor\":\"#506784\",\"showbackground\":true,\"ticks\":\"\",\"zerolinecolor\":\"#C8D4E3\",\"gridwidth\":2},\"yaxis\":{\"backgroundcolor\":\"rgb(17,17,17)\",\"gridcolor\":\"#506784\",\"linecolor\":\"#506784\",\"showbackground\":true,\"ticks\":\"\",\"zerolinecolor\":\"#C8D4E3\",\"gridwidth\":2},\"zaxis\":{\"backgroundcolor\":\"rgb(17,17,17)\",\"gridcolor\":\"#506784\",\"linecolor\":\"#506784\",\"showbackground\":true,\"ticks\":\"\",\"zerolinecolor\":\"#C8D4E3\",\"gridwidth\":2}},\"shapedefaults\":{\"line\":{\"color\":\"#f2f5fa\"}},\"annotationdefaults\":{\"arrowcolor\":\"#f2f5fa\",\"arrowhead\":0,\"arrowwidth\":1},\"geo\":{\"bgcolor\":\"rgb(17,17,17)\",\"landcolor\":\"rgb(17,17,17)\",\"subunitcolor\":\"#506784\",\"showland\":true,\"showlakes\":true,\"lakecolor\":\"rgb(17,17,17)\"},\"title\":{\"x\":0.05},\"updatemenudefaults\":{\"bgcolor\":\"#506784\",\"borderwidth\":0},\"sliderdefaults\":{\"bgcolor\":\"#C8D4E3\",\"borderwidth\":1,\"bordercolor\":\"rgb(17,17,17)\",\"tickwidth\":0},\"mapbox\":{\"style\":\"dark\"}}},\"title\":{\"text\":\"Average Color Distribution in Training Set\"},\"xaxis\":{\"title\":{\"text\":\"Color Channels\"}},\"yaxis\":{\"title\":{\"text\":\"Mean Pixel Intensity\"}},\"showlegend\":false},                        {\"responsive\": true}                    ).then(function(){\n",
       "                            \n",
       "var gd = document.getElementById('2adac550-d729-4481-9f24-cb7e665bb3ee');\n",
       "var x = new MutationObserver(function (mutations, observer) {{\n",
       "        var display = window.getComputedStyle(gd).display;\n",
       "        if (!display || display === 'none') {{\n",
       "            console.log([gd, 'removed!']);\n",
       "            Plotly.purge(gd);\n",
       "            observer.disconnect();\n",
       "        }}\n",
       "}});\n",
       "\n",
       "// Listen for the removal of the full notebook cells\n",
       "var notebookContainer = gd.closest('#notebook-container');\n",
       "if (notebookContainer) {{\n",
       "    x.observe(notebookContainer, {childList: true});\n",
       "}}\n",
       "\n",
       "// Listen for the clearing of the current output cell\n",
       "var outputEl = gd.closest('.output');\n",
       "if (outputEl) {{\n",
       "    x.observe(outputEl, {childList: true});\n",
       "}}\n",
       "\n",
       "                        })                };                });            </script>        </div>"
      ]
     },
     "metadata": {},
     "output_type": "display_data"
    }
   ],
   "execution_count": 30
  },
  {
   "metadata": {},
   "cell_type": "markdown",
   "source": [
    "![verage Color Distribution in Training Set](plots/flower_dataset_color_distibution.png)\n",
    "*The following chart was originally created as an interactive diagram. However, due to GitHub's current limitations, it is displayed here as a static PNG.*\n"
   ],
   "id": "fb182fd92d0b43f9"
  },
  {
   "metadata": {},
   "cell_type": "markdown",
   "source": [
    "**Average Color Distribution for Flowers Dataset**\n",
    "\n",
    "The bar chart shows the average color intensity distribution in the Flowers dataset across the RGB channels:\n",
    "\n",
    "- **Red Channel**: Dominates the distribution, likely due to the frequent presence of red-colored flowers.\n",
    "- **Green Channel**: The second highest intensity, which can be attributed to the natural backgrounds like leaves and grass.\n",
    "- **Blue Channel**: Displays the lowest intensity, indicating a smaller presence of blue tones in the dataset.\n",
    "\n",
    "This distribution highlights the dominant colors in the Flowers dataset, which can significantly influence the model's performance, especially in tasks that rely on color features for classification."
   ],
   "id": "75b1b1577d1a79a6"
  },
  {
   "metadata": {
    "ExecuteTime": {
     "end_time": "2024-12-08T18:43:27.950134Z",
     "start_time": "2024-12-08T18:43:27.932871Z"
    }
   },
   "cell_type": "code",
   "source": [
    "# Histogram\n",
    "\n",
    "fig_histogram = go.Figure()\n",
    "\n",
    "fig_histogram.add_trace(go.Bar(\n",
    "    x=np.arange(256), \n",
    "    y=hist_r, \n",
    "    name='Red Channel',\n",
    "    marker_color='red',\n",
    "    opacity=0.6\n",
    "))\n",
    "\n",
    "fig_histogram.add_trace(go.Bar(\n",
    "    x=np.arange(256), \n",
    "    y=hist_g, \n",
    "    name='Green Channel',\n",
    "    marker_color='green',\n",
    "    opacity=0.6\n",
    "))\n",
    "\n",
    "fig_histogram.add_trace(go.Bar(\n",
    "    x=np.arange(256), \n",
    "    y=hist_b, \n",
    "    name='Blue Channel',\n",
    "    marker_color='blue',\n",
    "    opacity=0.6\n",
    "))\n",
    "\n",
    "fig_histogram.update_layout(\n",
    "    title=\"Aggregated Color Histogram for Dataset\",\n",
    "    xaxis_title=\"Pixel Intensity\",\n",
    "    yaxis_title=\"Frequency\",\n",
    "    barmode='overlay',\n",
    "    legend_title=\"Color Channels\"\n",
    ")\n",
    "\n",
    "fig_histogram.show()"
   ],
   "id": "3658edb025b1fed3",
   "outputs": [
    {
     "data": {
      "application/vnd.plotly.v1+json": {
       "data": [
        {
         "marker": {
          "color": "red"
         },
         "name": "Red Channel",
         "opacity": 0.6,
         "x": [
          0,
          1,
          2,
          3,
          4,
          5,
          6,
          7,
          8,
          9,
          10,
          11,
          12,
          13,
          14,
          15,
          16,
          17,
          18,
          19,
          20,
          21,
          22,
          23,
          24,
          25,
          26,
          27,
          28,
          29,
          30,
          31,
          32,
          33,
          34,
          35,
          36,
          37,
          38,
          39,
          40,
          41,
          42,
          43,
          44,
          45,
          46,
          47,
          48,
          49,
          50,
          51,
          52,
          53,
          54,
          55,
          56,
          57,
          58,
          59,
          60,
          61,
          62,
          63,
          64,
          65,
          66,
          67,
          68,
          69,
          70,
          71,
          72,
          73,
          74,
          75,
          76,
          77,
          78,
          79,
          80,
          81,
          82,
          83,
          84,
          85,
          86,
          87,
          88,
          89,
          90,
          91,
          92,
          93,
          94,
          95,
          96,
          97,
          98,
          99,
          100,
          101,
          102,
          103,
          104,
          105,
          106,
          107,
          108,
          109,
          110,
          111,
          112,
          113,
          114,
          115,
          116,
          117,
          118,
          119,
          120,
          121,
          122,
          123,
          124,
          125,
          126,
          127,
          128,
          129,
          130,
          131,
          132,
          133,
          134,
          135,
          136,
          137,
          138,
          139,
          140,
          141,
          142,
          143,
          144,
          145,
          146,
          147,
          148,
          149,
          150,
          151,
          152,
          153,
          154,
          155,
          156,
          157,
          158,
          159,
          160,
          161,
          162,
          163,
          164,
          165,
          166,
          167,
          168,
          169,
          170,
          171,
          172,
          173,
          174,
          175,
          176,
          177,
          178,
          179,
          180,
          181,
          182,
          183,
          184,
          185,
          186,
          187,
          188,
          189,
          190,
          191,
          192,
          193,
          194,
          195,
          196,
          197,
          198,
          199,
          200,
          201,
          202,
          203,
          204,
          205,
          206,
          207,
          208,
          209,
          210,
          211,
          212,
          213,
          214,
          215,
          216,
          217,
          218,
          219,
          220,
          221,
          222,
          223,
          224,
          225,
          226,
          227,
          228,
          229,
          230,
          231,
          232,
          233,
          234,
          235,
          236,
          237,
          238,
          239,
          240,
          241,
          242,
          243,
          244,
          245,
          246,
          247,
          248,
          249,
          250,
          251,
          252,
          253,
          254,
          255
         ],
         "y": [
          3569881.0,
          1508614.0,
          1299792.0,
          1295189.0,
          1293369.0,
          1333462.0,
          1401540.0,
          1466478.0,
          1498520.0,
          1510925.0,
          1631129.0,
          1691551.0,
          1707374.0,
          1771658.0,
          1778497.0,
          1797425.0,
          1852753.0,
          1981852.0,
          1956154.0,
          2014710.0,
          1982026.0,
          1964987.0,
          2029871.0,
          1973569.0,
          1983362.0,
          1987139.0,
          1962258.0,
          1936100.0,
          1924127.0,
          1954685.0,
          1941429.0,
          1934216.0,
          1918725.0,
          1896815.0,
          1887931.0,
          1890145.0,
          1876888.0,
          1881818.0,
          1870544.0,
          1863036.0,
          1865653.0,
          1860336.0,
          1858816.0,
          1857307.0,
          1850750.0,
          1836701.0,
          1813750.0,
          1801447.0,
          1785832.0,
          1781563.0,
          1772382.0,
          1766573.0,
          1756375.0,
          1740076.0,
          1737658.0,
          1725474.0,
          1707565.0,
          1701759.0,
          1684932.0,
          1674998.0,
          1662599.0,
          1654145.0,
          1641849.0,
          1630288.0,
          1623884.0,
          1613584.0,
          1590032.0,
          1578926.0,
          1569904.0,
          1563833.0,
          1554313.0,
          1544352.0,
          1524777.0,
          1514430.0,
          1500866.0,
          1495790.0,
          1489434.0,
          1489141.0,
          1482015.0,
          1478640.0,
          1468585.0,
          1462870.0,
          1457733.0,
          1447454.0,
          1443779.0,
          1426131.0,
          1409644.0,
          1393465.0,
          1383981.0,
          1372395.0,
          1359041.0,
          1343682.0,
          1325673.0,
          1310083.0,
          1295435.0,
          1282593.0,
          1271578.0,
          1267061.0,
          1256808.0,
          1247338.0,
          1234479.0,
          1226291.0,
          1216840.0,
          1204216.0,
          1191047.0,
          1181804.0,
          1170211.0,
          1158373.0,
          1152314.0,
          1144132.0,
          1141417.0,
          1127539.0,
          1126629.0,
          1113659.0,
          1106291.0,
          1099518.0,
          1092672.0,
          1086906.0,
          1081333.0,
          1083524.0,
          1074968.0,
          1062071.0,
          1054932.0,
          1047036.0,
          1042030.0,
          1036395.0,
          1030480.0,
          1024487.0,
          1014878.0,
          1011733.0,
          1006290.0,
          1005041.0,
          1000797.0,
          1001965.0,
          996695.0,
          991503.0,
          991807.0,
          984680.0,
          981403.0,
          981376.0,
          974594.0,
          977920.0,
          978214.0,
          974049.0,
          975863.0,
          974708.0,
          976030.0,
          973343.0,
          979140.0,
          978538.0,
          981889.0,
          979767.0,
          977614.0,
          984972.0,
          972737.0,
          982037.0,
          984787.0,
          986251.0,
          991143.0,
          991926.0,
          996320.0,
          1000714.0,
          1004013.0,
          1010893.0,
          1016828.0,
          1021240.0,
          1020586.0,
          1018250.0,
          1028179.0,
          1034888.0,
          1040375.0,
          1042867.0,
          1054431.0,
          1071166.0,
          1085760.0,
          1084241.0,
          1087101.0,
          1082531.0,
          1095377.0,
          1097655.0,
          1108641.0,
          1104066.0,
          1108994.0,
          1111527.0,
          1119689.0,
          1120476.0,
          1122674.0,
          1121133.0,
          1126994.0,
          1127369.0,
          1120703.0,
          1115051.0,
          1116343.0,
          1108454.0,
          1109889.0,
          1103474.0,
          1096052.0,
          1087359.0,
          1085151.0,
          1079107.0,
          1075872.0,
          1067186.0,
          1062777.0,
          1064476.0,
          1058249.0,
          1047104.0,
          1038207.0,
          1030447.0,
          1029068.0,
          1022216.0,
          1019094.0,
          1010284.0,
          1004143.0,
          1002199.0,
          988608.0,
          977715.0,
          964366.0,
          948088.0,
          938566.0,
          931370.0,
          917052.0,
          909219.0,
          902597.0,
          894683.0,
          890267.0,
          886928.0,
          877608.0,
          874773.0,
          870341.0,
          865559.0,
          864995.0,
          860614.0,
          859255.0,
          859554.0,
          861667.0,
          847541.0,
          844096.0,
          833565.0,
          830057.0,
          830824.0,
          822564.0,
          825558.0,
          829336.0,
          840758.0,
          849647.0,
          874304.0,
          887491.0,
          926711.0,
          1003355.0,
          1038066.0,
          1107898.0,
          1205334.0,
          1300081.0,
          1438849.0,
          1507138.0,
          5372614.0
         ],
         "type": "bar"
        },
        {
         "marker": {
          "color": "green"
         },
         "name": "Green Channel",
         "opacity": 0.6,
         "x": [
          0,
          1,
          2,
          3,
          4,
          5,
          6,
          7,
          8,
          9,
          10,
          11,
          12,
          13,
          14,
          15,
          16,
          17,
          18,
          19,
          20,
          21,
          22,
          23,
          24,
          25,
          26,
          27,
          28,
          29,
          30,
          31,
          32,
          33,
          34,
          35,
          36,
          37,
          38,
          39,
          40,
          41,
          42,
          43,
          44,
          45,
          46,
          47,
          48,
          49,
          50,
          51,
          52,
          53,
          54,
          55,
          56,
          57,
          58,
          59,
          60,
          61,
          62,
          63,
          64,
          65,
          66,
          67,
          68,
          69,
          70,
          71,
          72,
          73,
          74,
          75,
          76,
          77,
          78,
          79,
          80,
          81,
          82,
          83,
          84,
          85,
          86,
          87,
          88,
          89,
          90,
          91,
          92,
          93,
          94,
          95,
          96,
          97,
          98,
          99,
          100,
          101,
          102,
          103,
          104,
          105,
          106,
          107,
          108,
          109,
          110,
          111,
          112,
          113,
          114,
          115,
          116,
          117,
          118,
          119,
          120,
          121,
          122,
          123,
          124,
          125,
          126,
          127,
          128,
          129,
          130,
          131,
          132,
          133,
          134,
          135,
          136,
          137,
          138,
          139,
          140,
          141,
          142,
          143,
          144,
          145,
          146,
          147,
          148,
          149,
          150,
          151,
          152,
          153,
          154,
          155,
          156,
          157,
          158,
          159,
          160,
          161,
          162,
          163,
          164,
          165,
          166,
          167,
          168,
          169,
          170,
          171,
          172,
          173,
          174,
          175,
          176,
          177,
          178,
          179,
          180,
          181,
          182,
          183,
          184,
          185,
          186,
          187,
          188,
          189,
          190,
          191,
          192,
          193,
          194,
          195,
          196,
          197,
          198,
          199,
          200,
          201,
          202,
          203,
          204,
          205,
          206,
          207,
          208,
          209,
          210,
          211,
          212,
          213,
          214,
          215,
          216,
          217,
          218,
          219,
          220,
          221,
          222,
          223,
          224,
          225,
          226,
          227,
          228,
          229,
          230,
          231,
          232,
          233,
          234,
          235,
          236,
          237,
          238,
          239,
          240,
          241,
          242,
          243,
          244,
          245,
          246,
          247,
          248,
          249,
          250,
          251,
          252,
          253,
          254,
          255
         ],
         "y": [
          4956046.0,
          1922741.0,
          1613463.0,
          1556227.0,
          1354622.0,
          1328373.0,
          1355872.0,
          1382603.0,
          1458951.0,
          1481393.0,
          1585921.0,
          1524715.0,
          1573647.0,
          1619137.0,
          1620699.0,
          1618982.0,
          1641336.0,
          1662547.0,
          1688607.0,
          1774847.0,
          1718866.0,
          1745229.0,
          1742256.0,
          1748419.0,
          1782938.0,
          1796086.0,
          1815789.0,
          1828198.0,
          1854392.0,
          1865768.0,
          1868100.0,
          1894718.0,
          1902929.0,
          1901805.0,
          1910194.0,
          1908008.0,
          1906803.0,
          1915564.0,
          1921720.0,
          1927026.0,
          1927305.0,
          1937100.0,
          1944957.0,
          1957152.0,
          1968337.0,
          1962876.0,
          1954756.0,
          1947654.0,
          1942738.0,
          1941135.0,
          1933952.0,
          1926024.0,
          1916243.0,
          1911874.0,
          1907833.0,
          1909083.0,
          1908740.0,
          1911365.0,
          1912822.0,
          1911078.0,
          1916770.0,
          1914457.0,
          1915836.0,
          1913155.0,
          1907826.0,
          1906381.0,
          1902654.0,
          1903915.0,
          1906376.0,
          1914634.0,
          1918923.0,
          1913091.0,
          1910617.0,
          1906816.0,
          1909343.0,
          1911652.0,
          1908003.0,
          1907329.0,
          1909264.0,
          1909756.0,
          1913262.0,
          1910275.0,
          1912040.0,
          1908341.0,
          1895949.0,
          1889348.0,
          1880878.0,
          1870381.0,
          1860588.0,
          1856703.0,
          1846669.0,
          1831683.0,
          1817310.0,
          1793307.0,
          1776705.0,
          1763458.0,
          1751974.0,
          1745720.0,
          1741307.0,
          1734473.0,
          1728714.0,
          1714047.0,
          1699253.0,
          1689021.0,
          1678624.0,
          1659866.0,
          1641127.0,
          1630281.0,
          1618284.0,
          1607345.0,
          1598368.0,
          1583438.0,
          1573849.0,
          1564151.0,
          1551915.0,
          1543349.0,
          1536899.0,
          1530628.0,
          1529416.0,
          1527565.0,
          1519305.0,
          1510000.0,
          1502343.0,
          1492635.0,
          1477326.0,
          1467000.0,
          1454277.0,
          1444427.0,
          1431540.0,
          1417967.0,
          1406256.0,
          1398348.0,
          1383684.0,
          1379807.0,
          1366481.0,
          1358861.0,
          1339830.0,
          1335663.0,
          1317704.0,
          1309900.0,
          1312956.0,
          1300494.0,
          1295616.0,
          1289939.0,
          1274287.0,
          1266235.0,
          1258756.0,
          1252872.0,
          1247612.0,
          1243981.0,
          1243779.0,
          1237254.0,
          1232136.0,
          1221039.0,
          1215820.0,
          1211642.0,
          1209221.0,
          1195192.0,
          1179196.0,
          1169548.0,
          1159412.0,
          1143270.0,
          1123499.0,
          1108904.0,
          1097504.0,
          1088202.0,
          1077548.0,
          1063181.0,
          1050909.0,
          1033379.0,
          1019960.0,
          1010863.0,
          1003975.0,
          995838.0,
          987529.0,
          975249.0,
          963273.0,
          945746.0,
          930694.0,
          915218.0,
          901031.0,
          888895.0,
          879517.0,
          870686.0,
          860531.0,
          849189.0,
          834855.0,
          820132.0,
          807861.0,
          794965.0,
          786446.0,
          777735.0,
          767608.0,
          757305.0,
          740175.0,
          730589.0,
          715247.0,
          698067.0,
          683135.0,
          674945.0,
          665795.0,
          655372.0,
          645424.0,
          639433.0,
          627201.0,
          614767.0,
          602327.0,
          591293.0,
          579213.0,
          566451.0,
          557479.0,
          547073.0,
          533280.0,
          523340.0,
          515325.0,
          511673.0,
          504566.0,
          508530.0,
          494938.0,
          492462.0,
          479182.0,
          465011.0,
          463625.0,
          454141.0,
          440298.0,
          431173.0,
          423813.0,
          407454.0,
          397521.0,
          396428.0,
          389402.0,
          375071.0,
          365501.0,
          357070.0,
          342621.0,
          321047.0,
          310120.0,
          298079.0,
          288082.0,
          280671.0,
          271712.0,
          264389.0,
          256222.0,
          253436.0,
          244267.0,
          238193.0,
          237266.0,
          239706.0,
          272145.0,
          248624.0,
          249227.0,
          259765.0,
          274079.0,
          380205.0,
          439152.0,
          1164895.0
         ],
         "type": "bar"
        },
        {
         "marker": {
          "color": "blue"
         },
         "name": "Blue Channel",
         "opacity": 0.6,
         "x": [
          0,
          1,
          2,
          3,
          4,
          5,
          6,
          7,
          8,
          9,
          10,
          11,
          12,
          13,
          14,
          15,
          16,
          17,
          18,
          19,
          20,
          21,
          22,
          23,
          24,
          25,
          26,
          27,
          28,
          29,
          30,
          31,
          32,
          33,
          34,
          35,
          36,
          37,
          38,
          39,
          40,
          41,
          42,
          43,
          44,
          45,
          46,
          47,
          48,
          49,
          50,
          51,
          52,
          53,
          54,
          55,
          56,
          57,
          58,
          59,
          60,
          61,
          62,
          63,
          64,
          65,
          66,
          67,
          68,
          69,
          70,
          71,
          72,
          73,
          74,
          75,
          76,
          77,
          78,
          79,
          80,
          81,
          82,
          83,
          84,
          85,
          86,
          87,
          88,
          89,
          90,
          91,
          92,
          93,
          94,
          95,
          96,
          97,
          98,
          99,
          100,
          101,
          102,
          103,
          104,
          105,
          106,
          107,
          108,
          109,
          110,
          111,
          112,
          113,
          114,
          115,
          116,
          117,
          118,
          119,
          120,
          121,
          122,
          123,
          124,
          125,
          126,
          127,
          128,
          129,
          130,
          131,
          132,
          133,
          134,
          135,
          136,
          137,
          138,
          139,
          140,
          141,
          142,
          143,
          144,
          145,
          146,
          147,
          148,
          149,
          150,
          151,
          152,
          153,
          154,
          155,
          156,
          157,
          158,
          159,
          160,
          161,
          162,
          163,
          164,
          165,
          166,
          167,
          168,
          169,
          170,
          171,
          172,
          173,
          174,
          175,
          176,
          177,
          178,
          179,
          180,
          181,
          182,
          183,
          184,
          185,
          186,
          187,
          188,
          189,
          190,
          191,
          192,
          193,
          194,
          195,
          196,
          197,
          198,
          199,
          200,
          201,
          202,
          203,
          204,
          205,
          206,
          207,
          208,
          209,
          210,
          211,
          212,
          213,
          214,
          215,
          216,
          217,
          218,
          219,
          220,
          221,
          222,
          223,
          224,
          225,
          226,
          227,
          228,
          229,
          230,
          231,
          232,
          233,
          234,
          235,
          236,
          237,
          238,
          239,
          240,
          241,
          242,
          243,
          244,
          245,
          246,
          247,
          248,
          249,
          250,
          251,
          252,
          253,
          254,
          255
         ],
         "y": [
          1.4970926E7,
          4827694.0,
          4756166.0,
          4564378.0,
          4436618.0,
          4294448.0,
          4195636.0,
          4124484.0,
          4065904.0,
          3963872.0,
          3908399.0,
          3882844.0,
          3892556.0,
          3792501.0,
          3690034.0,
          3597934.0,
          3609984.0,
          3430470.0,
          3363173.0,
          3308096.0,
          3206159.0,
          3127019.0,
          3077823.0,
          3010266.0,
          2955847.0,
          2908591.0,
          2855033.0,
          2807182.0,
          2767908.0,
          2719513.0,
          2667367.0,
          2632801.0,
          2560576.0,
          2502007.0,
          2443524.0,
          2405209.0,
          2357553.0,
          2311497.0,
          2269040.0,
          2220376.0,
          2184829.0,
          2146193.0,
          2109879.0,
          2082461.0,
          2048530.0,
          2018587.0,
          1980699.0,
          1947295.0,
          1923368.0,
          1887718.0,
          1853360.0,
          1826759.0,
          1793687.0,
          1769526.0,
          1738580.0,
          1714658.0,
          1686375.0,
          1662985.0,
          1641638.0,
          1617038.0,
          1594115.0,
          1570572.0,
          1547735.0,
          1527431.0,
          1511685.0,
          1485804.0,
          1465715.0,
          1446719.0,
          1430059.0,
          1412029.0,
          1397143.0,
          1383731.0,
          1361692.0,
          1347266.0,
          1331152.0,
          1314788.0,
          1298400.0,
          1282907.0,
          1264694.0,
          1251541.0,
          1236077.0,
          1219164.0,
          1206587.0,
          1190712.0,
          1181240.0,
          1164749.0,
          1152896.0,
          1142995.0,
          1130599.0,
          1117775.0,
          1110659.0,
          1099803.0,
          1086254.0,
          1075150.0,
          1060127.0,
          1044902.0,
          1028161.0,
          1012211.0,
          1001679.0,
          989020.0,
          976791.0,
          967729.0,
          960187.0,
          947575.0,
          941792.0,
          931172.0,
          927188.0,
          914557.0,
          905412.0,
          893602.0,
          885437.0,
          874992.0,
          870057.0,
          857116.0,
          850976.0,
          838162.0,
          830748.0,
          820036.0,
          811866.0,
          806191.0,
          798520.0,
          791721.0,
          786862.0,
          782387.0,
          772661.0,
          769454.0,
          765949.0,
          757013.0,
          753843.0,
          752421.0,
          749515.0,
          745488.0,
          745882.0,
          736446.0,
          735355.0,
          737009.0,
          731780.0,
          727520.0,
          728162.0,
          722248.0,
          714898.0,
          712941.0,
          708963.0,
          707545.0,
          704237.0,
          703194.0,
          699367.0,
          699021.0,
          695159.0,
          692251.0,
          690162.0,
          691868.0,
          688934.0,
          697727.0,
          695958.0,
          701403.0,
          708071.0,
          715529.0,
          717060.0,
          707072.0,
          706991.0,
          705781.0,
          698467.0,
          695558.0,
          694885.0,
          692473.0,
          689832.0,
          688638.0,
          683233.0,
          683918.0,
          681799.0,
          678486.0,
          676129.0,
          673471.0,
          670786.0,
          672276.0,
          666153.0,
          664654.0,
          664413.0,
          666282.0,
          667355.0,
          663224.0,
          661995.0,
          664657.0,
          659918.0,
          654083.0,
          649270.0,
          640939.0,
          634410.0,
          630692.0,
          625982.0,
          619634.0,
          616150.0,
          614238.0,
          604242.0,
          598986.0,
          590545.0,
          580207.0,
          571298.0,
          566570.0,
          560378.0,
          551553.0,
          546754.0,
          540537.0,
          536831.0,
          530598.0,
          523564.0,
          517374.0,
          512775.0,
          505122.0,
          502999.0,
          496130.0,
          490596.0,
          486349.0,
          476315.0,
          470923.0,
          466884.0,
          465872.0,
          460711.0,
          460463.0,
          447852.0,
          440206.0,
          437553.0,
          434166.0,
          429048.0,
          425131.0,
          420613.0,
          415172.0,
          416605.0,
          408405.0,
          409381.0,
          401872.0,
          401191.0,
          392093.0,
          392921.0,
          382435.0,
          390043.0,
          388482.0,
          365834.0,
          363373.0,
          341805.0,
          339087.0,
          333043.0,
          334212.0,
          327100.0,
          330687.0,
          333544.0,
          336533.0,
          381325.0,
          365934.0,
          381906.0,
          384394.0,
          393031.0,
          486743.0,
          500625.0,
          1933015.0
         ],
         "type": "bar"
        }
       ],
       "layout": {
        "template": {
         "data": {
          "histogram2dcontour": [
           {
            "type": "histogram2dcontour",
            "colorbar": {
             "outlinewidth": 0,
             "ticks": ""
            },
            "colorscale": [
             [
              0.0,
              "#0d0887"
             ],
             [
              0.1111111111111111,
              "#46039f"
             ],
             [
              0.2222222222222222,
              "#7201a8"
             ],
             [
              0.3333333333333333,
              "#9c179e"
             ],
             [
              0.4444444444444444,
              "#bd3786"
             ],
             [
              0.5555555555555556,
              "#d8576b"
             ],
             [
              0.6666666666666666,
              "#ed7953"
             ],
             [
              0.7777777777777778,
              "#fb9f3a"
             ],
             [
              0.8888888888888888,
              "#fdca26"
             ],
             [
              1.0,
              "#f0f921"
             ]
            ]
           }
          ],
          "choropleth": [
           {
            "type": "choropleth",
            "colorbar": {
             "outlinewidth": 0,
             "ticks": ""
            }
           }
          ],
          "histogram2d": [
           {
            "type": "histogram2d",
            "colorbar": {
             "outlinewidth": 0,
             "ticks": ""
            },
            "colorscale": [
             [
              0.0,
              "#0d0887"
             ],
             [
              0.1111111111111111,
              "#46039f"
             ],
             [
              0.2222222222222222,
              "#7201a8"
             ],
             [
              0.3333333333333333,
              "#9c179e"
             ],
             [
              0.4444444444444444,
              "#bd3786"
             ],
             [
              0.5555555555555556,
              "#d8576b"
             ],
             [
              0.6666666666666666,
              "#ed7953"
             ],
             [
              0.7777777777777778,
              "#fb9f3a"
             ],
             [
              0.8888888888888888,
              "#fdca26"
             ],
             [
              1.0,
              "#f0f921"
             ]
            ]
           }
          ],
          "heatmap": [
           {
            "type": "heatmap",
            "colorbar": {
             "outlinewidth": 0,
             "ticks": ""
            },
            "colorscale": [
             [
              0.0,
              "#0d0887"
             ],
             [
              0.1111111111111111,
              "#46039f"
             ],
             [
              0.2222222222222222,
              "#7201a8"
             ],
             [
              0.3333333333333333,
              "#9c179e"
             ],
             [
              0.4444444444444444,
              "#bd3786"
             ],
             [
              0.5555555555555556,
              "#d8576b"
             ],
             [
              0.6666666666666666,
              "#ed7953"
             ],
             [
              0.7777777777777778,
              "#fb9f3a"
             ],
             [
              0.8888888888888888,
              "#fdca26"
             ],
             [
              1.0,
              "#f0f921"
             ]
            ]
           }
          ],
          "heatmapgl": [
           {
            "type": "heatmapgl",
            "colorbar": {
             "outlinewidth": 0,
             "ticks": ""
            },
            "colorscale": [
             [
              0.0,
              "#0d0887"
             ],
             [
              0.1111111111111111,
              "#46039f"
             ],
             [
              0.2222222222222222,
              "#7201a8"
             ],
             [
              0.3333333333333333,
              "#9c179e"
             ],
             [
              0.4444444444444444,
              "#bd3786"
             ],
             [
              0.5555555555555556,
              "#d8576b"
             ],
             [
              0.6666666666666666,
              "#ed7953"
             ],
             [
              0.7777777777777778,
              "#fb9f3a"
             ],
             [
              0.8888888888888888,
              "#fdca26"
             ],
             [
              1.0,
              "#f0f921"
             ]
            ]
           }
          ],
          "contourcarpet": [
           {
            "type": "contourcarpet",
            "colorbar": {
             "outlinewidth": 0,
             "ticks": ""
            }
           }
          ],
          "contour": [
           {
            "type": "contour",
            "colorbar": {
             "outlinewidth": 0,
             "ticks": ""
            },
            "colorscale": [
             [
              0.0,
              "#0d0887"
             ],
             [
              0.1111111111111111,
              "#46039f"
             ],
             [
              0.2222222222222222,
              "#7201a8"
             ],
             [
              0.3333333333333333,
              "#9c179e"
             ],
             [
              0.4444444444444444,
              "#bd3786"
             ],
             [
              0.5555555555555556,
              "#d8576b"
             ],
             [
              0.6666666666666666,
              "#ed7953"
             ],
             [
              0.7777777777777778,
              "#fb9f3a"
             ],
             [
              0.8888888888888888,
              "#fdca26"
             ],
             [
              1.0,
              "#f0f921"
             ]
            ]
           }
          ],
          "surface": [
           {
            "type": "surface",
            "colorbar": {
             "outlinewidth": 0,
             "ticks": ""
            },
            "colorscale": [
             [
              0.0,
              "#0d0887"
             ],
             [
              0.1111111111111111,
              "#46039f"
             ],
             [
              0.2222222222222222,
              "#7201a8"
             ],
             [
              0.3333333333333333,
              "#9c179e"
             ],
             [
              0.4444444444444444,
              "#bd3786"
             ],
             [
              0.5555555555555556,
              "#d8576b"
             ],
             [
              0.6666666666666666,
              "#ed7953"
             ],
             [
              0.7777777777777778,
              "#fb9f3a"
             ],
             [
              0.8888888888888888,
              "#fdca26"
             ],
             [
              1.0,
              "#f0f921"
             ]
            ]
           }
          ],
          "mesh3d": [
           {
            "type": "mesh3d",
            "colorbar": {
             "outlinewidth": 0,
             "ticks": ""
            }
           }
          ],
          "scatter": [
           {
            "marker": {
             "line": {
              "color": "#283442"
             }
            },
            "type": "scatter"
           }
          ],
          "parcoords": [
           {
            "type": "parcoords",
            "line": {
             "colorbar": {
              "outlinewidth": 0,
              "ticks": ""
             }
            }
           }
          ],
          "scatterpolargl": [
           {
            "type": "scatterpolargl",
            "marker": {
             "colorbar": {
              "outlinewidth": 0,
              "ticks": ""
             }
            }
           }
          ],
          "bar": [
           {
            "error_x": {
             "color": "#f2f5fa"
            },
            "error_y": {
             "color": "#f2f5fa"
            },
            "marker": {
             "line": {
              "color": "rgb(17,17,17)",
              "width": 0.5
             },
             "pattern": {
              "fillmode": "overlay",
              "size": 10,
              "solidity": 0.2
             }
            },
            "type": "bar"
           }
          ],
          "scattergeo": [
           {
            "type": "scattergeo",
            "marker": {
             "colorbar": {
              "outlinewidth": 0,
              "ticks": ""
             }
            }
           }
          ],
          "scatterpolar": [
           {
            "type": "scatterpolar",
            "marker": {
             "colorbar": {
              "outlinewidth": 0,
              "ticks": ""
             }
            }
           }
          ],
          "histogram": [
           {
            "marker": {
             "pattern": {
              "fillmode": "overlay",
              "size": 10,
              "solidity": 0.2
             }
            },
            "type": "histogram"
           }
          ],
          "scattergl": [
           {
            "marker": {
             "line": {
              "color": "#283442"
             }
            },
            "type": "scattergl"
           }
          ],
          "scatter3d": [
           {
            "type": "scatter3d",
            "line": {
             "colorbar": {
              "outlinewidth": 0,
              "ticks": ""
             }
            },
            "marker": {
             "colorbar": {
              "outlinewidth": 0,
              "ticks": ""
             }
            }
           }
          ],
          "scattermapbox": [
           {
            "type": "scattermapbox",
            "marker": {
             "colorbar": {
              "outlinewidth": 0,
              "ticks": ""
             }
            }
           }
          ],
          "scatterternary": [
           {
            "type": "scatterternary",
            "marker": {
             "colorbar": {
              "outlinewidth": 0,
              "ticks": ""
             }
            }
           }
          ],
          "scattercarpet": [
           {
            "type": "scattercarpet",
            "marker": {
             "colorbar": {
              "outlinewidth": 0,
              "ticks": ""
             }
            }
           }
          ],
          "carpet": [
           {
            "aaxis": {
             "endlinecolor": "#A2B1C6",
             "gridcolor": "#506784",
             "linecolor": "#506784",
             "minorgridcolor": "#506784",
             "startlinecolor": "#A2B1C6"
            },
            "baxis": {
             "endlinecolor": "#A2B1C6",
             "gridcolor": "#506784",
             "linecolor": "#506784",
             "minorgridcolor": "#506784",
             "startlinecolor": "#A2B1C6"
            },
            "type": "carpet"
           }
          ],
          "table": [
           {
            "cells": {
             "fill": {
              "color": "#506784"
             },
             "line": {
              "color": "rgb(17,17,17)"
             }
            },
            "header": {
             "fill": {
              "color": "#2a3f5f"
             },
             "line": {
              "color": "rgb(17,17,17)"
             }
            },
            "type": "table"
           }
          ],
          "barpolar": [
           {
            "marker": {
             "line": {
              "color": "rgb(17,17,17)",
              "width": 0.5
             },
             "pattern": {
              "fillmode": "overlay",
              "size": 10,
              "solidity": 0.2
             }
            },
            "type": "barpolar"
           }
          ],
          "pie": [
           {
            "automargin": true,
            "type": "pie"
           }
          ]
         },
         "layout": {
          "autotypenumbers": "strict",
          "colorway": [
           "#636efa",
           "#EF553B",
           "#00cc96",
           "#ab63fa",
           "#FFA15A",
           "#19d3f3",
           "#FF6692",
           "#B6E880",
           "#FF97FF",
           "#FECB52"
          ],
          "font": {
           "color": "#f2f5fa"
          },
          "hovermode": "closest",
          "hoverlabel": {
           "align": "left"
          },
          "paper_bgcolor": "rgb(17,17,17)",
          "plot_bgcolor": "rgb(17,17,17)",
          "polar": {
           "bgcolor": "rgb(17,17,17)",
           "angularaxis": {
            "gridcolor": "#506784",
            "linecolor": "#506784",
            "ticks": ""
           },
           "radialaxis": {
            "gridcolor": "#506784",
            "linecolor": "#506784",
            "ticks": ""
           }
          },
          "ternary": {
           "bgcolor": "rgb(17,17,17)",
           "aaxis": {
            "gridcolor": "#506784",
            "linecolor": "#506784",
            "ticks": ""
           },
           "baxis": {
            "gridcolor": "#506784",
            "linecolor": "#506784",
            "ticks": ""
           },
           "caxis": {
            "gridcolor": "#506784",
            "linecolor": "#506784",
            "ticks": ""
           }
          },
          "coloraxis": {
           "colorbar": {
            "outlinewidth": 0,
            "ticks": ""
           }
          },
          "colorscale": {
           "sequential": [
            [
             0.0,
             "#0d0887"
            ],
            [
             0.1111111111111111,
             "#46039f"
            ],
            [
             0.2222222222222222,
             "#7201a8"
            ],
            [
             0.3333333333333333,
             "#9c179e"
            ],
            [
             0.4444444444444444,
             "#bd3786"
            ],
            [
             0.5555555555555556,
             "#d8576b"
            ],
            [
             0.6666666666666666,
             "#ed7953"
            ],
            [
             0.7777777777777778,
             "#fb9f3a"
            ],
            [
             0.8888888888888888,
             "#fdca26"
            ],
            [
             1.0,
             "#f0f921"
            ]
           ],
           "sequentialminus": [
            [
             0.0,
             "#0d0887"
            ],
            [
             0.1111111111111111,
             "#46039f"
            ],
            [
             0.2222222222222222,
             "#7201a8"
            ],
            [
             0.3333333333333333,
             "#9c179e"
            ],
            [
             0.4444444444444444,
             "#bd3786"
            ],
            [
             0.5555555555555556,
             "#d8576b"
            ],
            [
             0.6666666666666666,
             "#ed7953"
            ],
            [
             0.7777777777777778,
             "#fb9f3a"
            ],
            [
             0.8888888888888888,
             "#fdca26"
            ],
            [
             1.0,
             "#f0f921"
            ]
           ],
           "diverging": [
            [
             0,
             "#8e0152"
            ],
            [
             0.1,
             "#c51b7d"
            ],
            [
             0.2,
             "#de77ae"
            ],
            [
             0.3,
             "#f1b6da"
            ],
            [
             0.4,
             "#fde0ef"
            ],
            [
             0.5,
             "#f7f7f7"
            ],
            [
             0.6,
             "#e6f5d0"
            ],
            [
             0.7,
             "#b8e186"
            ],
            [
             0.8,
             "#7fbc41"
            ],
            [
             0.9,
             "#4d9221"
            ],
            [
             1,
             "#276419"
            ]
           ]
          },
          "xaxis": {
           "gridcolor": "#283442",
           "linecolor": "#506784",
           "ticks": "",
           "title": {
            "standoff": 15
           },
           "zerolinecolor": "#283442",
           "automargin": true,
           "zerolinewidth": 2
          },
          "yaxis": {
           "gridcolor": "#283442",
           "linecolor": "#506784",
           "ticks": "",
           "title": {
            "standoff": 15
           },
           "zerolinecolor": "#283442",
           "automargin": true,
           "zerolinewidth": 2
          },
          "scene": {
           "xaxis": {
            "backgroundcolor": "rgb(17,17,17)",
            "gridcolor": "#506784",
            "linecolor": "#506784",
            "showbackground": true,
            "ticks": "",
            "zerolinecolor": "#C8D4E3",
            "gridwidth": 2
           },
           "yaxis": {
            "backgroundcolor": "rgb(17,17,17)",
            "gridcolor": "#506784",
            "linecolor": "#506784",
            "showbackground": true,
            "ticks": "",
            "zerolinecolor": "#C8D4E3",
            "gridwidth": 2
           },
           "zaxis": {
            "backgroundcolor": "rgb(17,17,17)",
            "gridcolor": "#506784",
            "linecolor": "#506784",
            "showbackground": true,
            "ticks": "",
            "zerolinecolor": "#C8D4E3",
            "gridwidth": 2
           }
          },
          "shapedefaults": {
           "line": {
            "color": "#f2f5fa"
           }
          },
          "annotationdefaults": {
           "arrowcolor": "#f2f5fa",
           "arrowhead": 0,
           "arrowwidth": 1
          },
          "geo": {
           "bgcolor": "rgb(17,17,17)",
           "landcolor": "rgb(17,17,17)",
           "subunitcolor": "#506784",
           "showland": true,
           "showlakes": true,
           "lakecolor": "rgb(17,17,17)"
          },
          "title": {
           "x": 0.05
          },
          "updatemenudefaults": {
           "bgcolor": "#506784",
           "borderwidth": 0
          },
          "sliderdefaults": {
           "bgcolor": "#C8D4E3",
           "borderwidth": 1,
           "bordercolor": "rgb(17,17,17)",
           "tickwidth": 0
          },
          "mapbox": {
           "style": "dark"
          }
         }
        },
        "title": {
         "text": "Aggregated Color Histogram for Dataset"
        },
        "xaxis": {
         "title": {
          "text": "Pixel Intensity"
         }
        },
        "yaxis": {
         "title": {
          "text": "Frequency"
         }
        },
        "barmode": "overlay",
        "legend": {
         "title": {
          "text": "Color Channels"
         }
        }
       },
       "config": {
        "plotlyServerURL": "https://plot.ly"
       }
      },
      "text/html": [
       "<div>                            <div id=\"1710cdbe-3d85-4afb-a3d2-1796d2b482ae\" class=\"plotly-graph-div\" style=\"height:525px; width:100%;\"></div>            <script type=\"text/javascript\">                require([\"plotly\"], function(Plotly) {                    window.PLOTLYENV=window.PLOTLYENV || {};                                    if (document.getElementById(\"1710cdbe-3d85-4afb-a3d2-1796d2b482ae\")) {                    Plotly.newPlot(                        \"1710cdbe-3d85-4afb-a3d2-1796d2b482ae\",                        [{\"marker\":{\"color\":\"red\"},\"name\":\"Red Channel\",\"opacity\":0.6,\"x\":[0,1,2,3,4,5,6,7,8,9,10,11,12,13,14,15,16,17,18,19,20,21,22,23,24,25,26,27,28,29,30,31,32,33,34,35,36,37,38,39,40,41,42,43,44,45,46,47,48,49,50,51,52,53,54,55,56,57,58,59,60,61,62,63,64,65,66,67,68,69,70,71,72,73,74,75,76,77,78,79,80,81,82,83,84,85,86,87,88,89,90,91,92,93,94,95,96,97,98,99,100,101,102,103,104,105,106,107,108,109,110,111,112,113,114,115,116,117,118,119,120,121,122,123,124,125,126,127,128,129,130,131,132,133,134,135,136,137,138,139,140,141,142,143,144,145,146,147,148,149,150,151,152,153,154,155,156,157,158,159,160,161,162,163,164,165,166,167,168,169,170,171,172,173,174,175,176,177,178,179,180,181,182,183,184,185,186,187,188,189,190,191,192,193,194,195,196,197,198,199,200,201,202,203,204,205,206,207,208,209,210,211,212,213,214,215,216,217,218,219,220,221,222,223,224,225,226,227,228,229,230,231,232,233,234,235,236,237,238,239,240,241,242,243,244,245,246,247,248,249,250,251,252,253,254,255],\"y\":[3569881.0,1508614.0,1299792.0,1295189.0,1293369.0,1333462.0,1401540.0,1466478.0,1498520.0,1510925.0,1631129.0,1691551.0,1707374.0,1771658.0,1778497.0,1797425.0,1852753.0,1981852.0,1956154.0,2014710.0,1982026.0,1964987.0,2029871.0,1973569.0,1983362.0,1987139.0,1962258.0,1936100.0,1924127.0,1954685.0,1941429.0,1934216.0,1918725.0,1896815.0,1887931.0,1890145.0,1876888.0,1881818.0,1870544.0,1863036.0,1865653.0,1860336.0,1858816.0,1857307.0,1850750.0,1836701.0,1813750.0,1801447.0,1785832.0,1781563.0,1772382.0,1766573.0,1756375.0,1740076.0,1737658.0,1725474.0,1707565.0,1701759.0,1684932.0,1674998.0,1662599.0,1654145.0,1641849.0,1630288.0,1623884.0,1613584.0,1590032.0,1578926.0,1569904.0,1563833.0,1554313.0,1544352.0,1524777.0,1514430.0,1500866.0,1495790.0,1489434.0,1489141.0,1482015.0,1478640.0,1468585.0,1462870.0,1457733.0,1447454.0,1443779.0,1426131.0,1409644.0,1393465.0,1383981.0,1372395.0,1359041.0,1343682.0,1325673.0,1310083.0,1295435.0,1282593.0,1271578.0,1267061.0,1256808.0,1247338.0,1234479.0,1226291.0,1216840.0,1204216.0,1191047.0,1181804.0,1170211.0,1158373.0,1152314.0,1144132.0,1141417.0,1127539.0,1126629.0,1113659.0,1106291.0,1099518.0,1092672.0,1086906.0,1081333.0,1083524.0,1074968.0,1062071.0,1054932.0,1047036.0,1042030.0,1036395.0,1030480.0,1024487.0,1014878.0,1011733.0,1006290.0,1005041.0,1000797.0,1001965.0,996695.0,991503.0,991807.0,984680.0,981403.0,981376.0,974594.0,977920.0,978214.0,974049.0,975863.0,974708.0,976030.0,973343.0,979140.0,978538.0,981889.0,979767.0,977614.0,984972.0,972737.0,982037.0,984787.0,986251.0,991143.0,991926.0,996320.0,1000714.0,1004013.0,1010893.0,1016828.0,1021240.0,1020586.0,1018250.0,1028179.0,1034888.0,1040375.0,1042867.0,1054431.0,1071166.0,1085760.0,1084241.0,1087101.0,1082531.0,1095377.0,1097655.0,1108641.0,1104066.0,1108994.0,1111527.0,1119689.0,1120476.0,1122674.0,1121133.0,1126994.0,1127369.0,1120703.0,1115051.0,1116343.0,1108454.0,1109889.0,1103474.0,1096052.0,1087359.0,1085151.0,1079107.0,1075872.0,1067186.0,1062777.0,1064476.0,1058249.0,1047104.0,1038207.0,1030447.0,1029068.0,1022216.0,1019094.0,1010284.0,1004143.0,1002199.0,988608.0,977715.0,964366.0,948088.0,938566.0,931370.0,917052.0,909219.0,902597.0,894683.0,890267.0,886928.0,877608.0,874773.0,870341.0,865559.0,864995.0,860614.0,859255.0,859554.0,861667.0,847541.0,844096.0,833565.0,830057.0,830824.0,822564.0,825558.0,829336.0,840758.0,849647.0,874304.0,887491.0,926711.0,1003355.0,1038066.0,1107898.0,1205334.0,1300081.0,1438849.0,1507138.0,5372614.0],\"type\":\"bar\"},{\"marker\":{\"color\":\"green\"},\"name\":\"Green Channel\",\"opacity\":0.6,\"x\":[0,1,2,3,4,5,6,7,8,9,10,11,12,13,14,15,16,17,18,19,20,21,22,23,24,25,26,27,28,29,30,31,32,33,34,35,36,37,38,39,40,41,42,43,44,45,46,47,48,49,50,51,52,53,54,55,56,57,58,59,60,61,62,63,64,65,66,67,68,69,70,71,72,73,74,75,76,77,78,79,80,81,82,83,84,85,86,87,88,89,90,91,92,93,94,95,96,97,98,99,100,101,102,103,104,105,106,107,108,109,110,111,112,113,114,115,116,117,118,119,120,121,122,123,124,125,126,127,128,129,130,131,132,133,134,135,136,137,138,139,140,141,142,143,144,145,146,147,148,149,150,151,152,153,154,155,156,157,158,159,160,161,162,163,164,165,166,167,168,169,170,171,172,173,174,175,176,177,178,179,180,181,182,183,184,185,186,187,188,189,190,191,192,193,194,195,196,197,198,199,200,201,202,203,204,205,206,207,208,209,210,211,212,213,214,215,216,217,218,219,220,221,222,223,224,225,226,227,228,229,230,231,232,233,234,235,236,237,238,239,240,241,242,243,244,245,246,247,248,249,250,251,252,253,254,255],\"y\":[4956046.0,1922741.0,1613463.0,1556227.0,1354622.0,1328373.0,1355872.0,1382603.0,1458951.0,1481393.0,1585921.0,1524715.0,1573647.0,1619137.0,1620699.0,1618982.0,1641336.0,1662547.0,1688607.0,1774847.0,1718866.0,1745229.0,1742256.0,1748419.0,1782938.0,1796086.0,1815789.0,1828198.0,1854392.0,1865768.0,1868100.0,1894718.0,1902929.0,1901805.0,1910194.0,1908008.0,1906803.0,1915564.0,1921720.0,1927026.0,1927305.0,1937100.0,1944957.0,1957152.0,1968337.0,1962876.0,1954756.0,1947654.0,1942738.0,1941135.0,1933952.0,1926024.0,1916243.0,1911874.0,1907833.0,1909083.0,1908740.0,1911365.0,1912822.0,1911078.0,1916770.0,1914457.0,1915836.0,1913155.0,1907826.0,1906381.0,1902654.0,1903915.0,1906376.0,1914634.0,1918923.0,1913091.0,1910617.0,1906816.0,1909343.0,1911652.0,1908003.0,1907329.0,1909264.0,1909756.0,1913262.0,1910275.0,1912040.0,1908341.0,1895949.0,1889348.0,1880878.0,1870381.0,1860588.0,1856703.0,1846669.0,1831683.0,1817310.0,1793307.0,1776705.0,1763458.0,1751974.0,1745720.0,1741307.0,1734473.0,1728714.0,1714047.0,1699253.0,1689021.0,1678624.0,1659866.0,1641127.0,1630281.0,1618284.0,1607345.0,1598368.0,1583438.0,1573849.0,1564151.0,1551915.0,1543349.0,1536899.0,1530628.0,1529416.0,1527565.0,1519305.0,1510000.0,1502343.0,1492635.0,1477326.0,1467000.0,1454277.0,1444427.0,1431540.0,1417967.0,1406256.0,1398348.0,1383684.0,1379807.0,1366481.0,1358861.0,1339830.0,1335663.0,1317704.0,1309900.0,1312956.0,1300494.0,1295616.0,1289939.0,1274287.0,1266235.0,1258756.0,1252872.0,1247612.0,1243981.0,1243779.0,1237254.0,1232136.0,1221039.0,1215820.0,1211642.0,1209221.0,1195192.0,1179196.0,1169548.0,1159412.0,1143270.0,1123499.0,1108904.0,1097504.0,1088202.0,1077548.0,1063181.0,1050909.0,1033379.0,1019960.0,1010863.0,1003975.0,995838.0,987529.0,975249.0,963273.0,945746.0,930694.0,915218.0,901031.0,888895.0,879517.0,870686.0,860531.0,849189.0,834855.0,820132.0,807861.0,794965.0,786446.0,777735.0,767608.0,757305.0,740175.0,730589.0,715247.0,698067.0,683135.0,674945.0,665795.0,655372.0,645424.0,639433.0,627201.0,614767.0,602327.0,591293.0,579213.0,566451.0,557479.0,547073.0,533280.0,523340.0,515325.0,511673.0,504566.0,508530.0,494938.0,492462.0,479182.0,465011.0,463625.0,454141.0,440298.0,431173.0,423813.0,407454.0,397521.0,396428.0,389402.0,375071.0,365501.0,357070.0,342621.0,321047.0,310120.0,298079.0,288082.0,280671.0,271712.0,264389.0,256222.0,253436.0,244267.0,238193.0,237266.0,239706.0,272145.0,248624.0,249227.0,259765.0,274079.0,380205.0,439152.0,1164895.0],\"type\":\"bar\"},{\"marker\":{\"color\":\"blue\"},\"name\":\"Blue Channel\",\"opacity\":0.6,\"x\":[0,1,2,3,4,5,6,7,8,9,10,11,12,13,14,15,16,17,18,19,20,21,22,23,24,25,26,27,28,29,30,31,32,33,34,35,36,37,38,39,40,41,42,43,44,45,46,47,48,49,50,51,52,53,54,55,56,57,58,59,60,61,62,63,64,65,66,67,68,69,70,71,72,73,74,75,76,77,78,79,80,81,82,83,84,85,86,87,88,89,90,91,92,93,94,95,96,97,98,99,100,101,102,103,104,105,106,107,108,109,110,111,112,113,114,115,116,117,118,119,120,121,122,123,124,125,126,127,128,129,130,131,132,133,134,135,136,137,138,139,140,141,142,143,144,145,146,147,148,149,150,151,152,153,154,155,156,157,158,159,160,161,162,163,164,165,166,167,168,169,170,171,172,173,174,175,176,177,178,179,180,181,182,183,184,185,186,187,188,189,190,191,192,193,194,195,196,197,198,199,200,201,202,203,204,205,206,207,208,209,210,211,212,213,214,215,216,217,218,219,220,221,222,223,224,225,226,227,228,229,230,231,232,233,234,235,236,237,238,239,240,241,242,243,244,245,246,247,248,249,250,251,252,253,254,255],\"y\":[14970926.0,4827694.0,4756166.0,4564378.0,4436618.0,4294448.0,4195636.0,4124484.0,4065904.0,3963872.0,3908399.0,3882844.0,3892556.0,3792501.0,3690034.0,3597934.0,3609984.0,3430470.0,3363173.0,3308096.0,3206159.0,3127019.0,3077823.0,3010266.0,2955847.0,2908591.0,2855033.0,2807182.0,2767908.0,2719513.0,2667367.0,2632801.0,2560576.0,2502007.0,2443524.0,2405209.0,2357553.0,2311497.0,2269040.0,2220376.0,2184829.0,2146193.0,2109879.0,2082461.0,2048530.0,2018587.0,1980699.0,1947295.0,1923368.0,1887718.0,1853360.0,1826759.0,1793687.0,1769526.0,1738580.0,1714658.0,1686375.0,1662985.0,1641638.0,1617038.0,1594115.0,1570572.0,1547735.0,1527431.0,1511685.0,1485804.0,1465715.0,1446719.0,1430059.0,1412029.0,1397143.0,1383731.0,1361692.0,1347266.0,1331152.0,1314788.0,1298400.0,1282907.0,1264694.0,1251541.0,1236077.0,1219164.0,1206587.0,1190712.0,1181240.0,1164749.0,1152896.0,1142995.0,1130599.0,1117775.0,1110659.0,1099803.0,1086254.0,1075150.0,1060127.0,1044902.0,1028161.0,1012211.0,1001679.0,989020.0,976791.0,967729.0,960187.0,947575.0,941792.0,931172.0,927188.0,914557.0,905412.0,893602.0,885437.0,874992.0,870057.0,857116.0,850976.0,838162.0,830748.0,820036.0,811866.0,806191.0,798520.0,791721.0,786862.0,782387.0,772661.0,769454.0,765949.0,757013.0,753843.0,752421.0,749515.0,745488.0,745882.0,736446.0,735355.0,737009.0,731780.0,727520.0,728162.0,722248.0,714898.0,712941.0,708963.0,707545.0,704237.0,703194.0,699367.0,699021.0,695159.0,692251.0,690162.0,691868.0,688934.0,697727.0,695958.0,701403.0,708071.0,715529.0,717060.0,707072.0,706991.0,705781.0,698467.0,695558.0,694885.0,692473.0,689832.0,688638.0,683233.0,683918.0,681799.0,678486.0,676129.0,673471.0,670786.0,672276.0,666153.0,664654.0,664413.0,666282.0,667355.0,663224.0,661995.0,664657.0,659918.0,654083.0,649270.0,640939.0,634410.0,630692.0,625982.0,619634.0,616150.0,614238.0,604242.0,598986.0,590545.0,580207.0,571298.0,566570.0,560378.0,551553.0,546754.0,540537.0,536831.0,530598.0,523564.0,517374.0,512775.0,505122.0,502999.0,496130.0,490596.0,486349.0,476315.0,470923.0,466884.0,465872.0,460711.0,460463.0,447852.0,440206.0,437553.0,434166.0,429048.0,425131.0,420613.0,415172.0,416605.0,408405.0,409381.0,401872.0,401191.0,392093.0,392921.0,382435.0,390043.0,388482.0,365834.0,363373.0,341805.0,339087.0,333043.0,334212.0,327100.0,330687.0,333544.0,336533.0,381325.0,365934.0,381906.0,384394.0,393031.0,486743.0,500625.0,1933015.0],\"type\":\"bar\"}],                        {\"template\":{\"data\":{\"histogram2dcontour\":[{\"type\":\"histogram2dcontour\",\"colorbar\":{\"outlinewidth\":0,\"ticks\":\"\"},\"colorscale\":[[0.0,\"#0d0887\"],[0.1111111111111111,\"#46039f\"],[0.2222222222222222,\"#7201a8\"],[0.3333333333333333,\"#9c179e\"],[0.4444444444444444,\"#bd3786\"],[0.5555555555555556,\"#d8576b\"],[0.6666666666666666,\"#ed7953\"],[0.7777777777777778,\"#fb9f3a\"],[0.8888888888888888,\"#fdca26\"],[1.0,\"#f0f921\"]]}],\"choropleth\":[{\"type\":\"choropleth\",\"colorbar\":{\"outlinewidth\":0,\"ticks\":\"\"}}],\"histogram2d\":[{\"type\":\"histogram2d\",\"colorbar\":{\"outlinewidth\":0,\"ticks\":\"\"},\"colorscale\":[[0.0,\"#0d0887\"],[0.1111111111111111,\"#46039f\"],[0.2222222222222222,\"#7201a8\"],[0.3333333333333333,\"#9c179e\"],[0.4444444444444444,\"#bd3786\"],[0.5555555555555556,\"#d8576b\"],[0.6666666666666666,\"#ed7953\"],[0.7777777777777778,\"#fb9f3a\"],[0.8888888888888888,\"#fdca26\"],[1.0,\"#f0f921\"]]}],\"heatmap\":[{\"type\":\"heatmap\",\"colorbar\":{\"outlinewidth\":0,\"ticks\":\"\"},\"colorscale\":[[0.0,\"#0d0887\"],[0.1111111111111111,\"#46039f\"],[0.2222222222222222,\"#7201a8\"],[0.3333333333333333,\"#9c179e\"],[0.4444444444444444,\"#bd3786\"],[0.5555555555555556,\"#d8576b\"],[0.6666666666666666,\"#ed7953\"],[0.7777777777777778,\"#fb9f3a\"],[0.8888888888888888,\"#fdca26\"],[1.0,\"#f0f921\"]]}],\"heatmapgl\":[{\"type\":\"heatmapgl\",\"colorbar\":{\"outlinewidth\":0,\"ticks\":\"\"},\"colorscale\":[[0.0,\"#0d0887\"],[0.1111111111111111,\"#46039f\"],[0.2222222222222222,\"#7201a8\"],[0.3333333333333333,\"#9c179e\"],[0.4444444444444444,\"#bd3786\"],[0.5555555555555556,\"#d8576b\"],[0.6666666666666666,\"#ed7953\"],[0.7777777777777778,\"#fb9f3a\"],[0.8888888888888888,\"#fdca26\"],[1.0,\"#f0f921\"]]}],\"contourcarpet\":[{\"type\":\"contourcarpet\",\"colorbar\":{\"outlinewidth\":0,\"ticks\":\"\"}}],\"contour\":[{\"type\":\"contour\",\"colorbar\":{\"outlinewidth\":0,\"ticks\":\"\"},\"colorscale\":[[0.0,\"#0d0887\"],[0.1111111111111111,\"#46039f\"],[0.2222222222222222,\"#7201a8\"],[0.3333333333333333,\"#9c179e\"],[0.4444444444444444,\"#bd3786\"],[0.5555555555555556,\"#d8576b\"],[0.6666666666666666,\"#ed7953\"],[0.7777777777777778,\"#fb9f3a\"],[0.8888888888888888,\"#fdca26\"],[1.0,\"#f0f921\"]]}],\"surface\":[{\"type\":\"surface\",\"colorbar\":{\"outlinewidth\":0,\"ticks\":\"\"},\"colorscale\":[[0.0,\"#0d0887\"],[0.1111111111111111,\"#46039f\"],[0.2222222222222222,\"#7201a8\"],[0.3333333333333333,\"#9c179e\"],[0.4444444444444444,\"#bd3786\"],[0.5555555555555556,\"#d8576b\"],[0.6666666666666666,\"#ed7953\"],[0.7777777777777778,\"#fb9f3a\"],[0.8888888888888888,\"#fdca26\"],[1.0,\"#f0f921\"]]}],\"mesh3d\":[{\"type\":\"mesh3d\",\"colorbar\":{\"outlinewidth\":0,\"ticks\":\"\"}}],\"scatter\":[{\"marker\":{\"line\":{\"color\":\"#283442\"}},\"type\":\"scatter\"}],\"parcoords\":[{\"type\":\"parcoords\",\"line\":{\"colorbar\":{\"outlinewidth\":0,\"ticks\":\"\"}}}],\"scatterpolargl\":[{\"type\":\"scatterpolargl\",\"marker\":{\"colorbar\":{\"outlinewidth\":0,\"ticks\":\"\"}}}],\"bar\":[{\"error_x\":{\"color\":\"#f2f5fa\"},\"error_y\":{\"color\":\"#f2f5fa\"},\"marker\":{\"line\":{\"color\":\"rgb(17,17,17)\",\"width\":0.5},\"pattern\":{\"fillmode\":\"overlay\",\"size\":10,\"solidity\":0.2}},\"type\":\"bar\"}],\"scattergeo\":[{\"type\":\"scattergeo\",\"marker\":{\"colorbar\":{\"outlinewidth\":0,\"ticks\":\"\"}}}],\"scatterpolar\":[{\"type\":\"scatterpolar\",\"marker\":{\"colorbar\":{\"outlinewidth\":0,\"ticks\":\"\"}}}],\"histogram\":[{\"marker\":{\"pattern\":{\"fillmode\":\"overlay\",\"size\":10,\"solidity\":0.2}},\"type\":\"histogram\"}],\"scattergl\":[{\"marker\":{\"line\":{\"color\":\"#283442\"}},\"type\":\"scattergl\"}],\"scatter3d\":[{\"type\":\"scatter3d\",\"line\":{\"colorbar\":{\"outlinewidth\":0,\"ticks\":\"\"}},\"marker\":{\"colorbar\":{\"outlinewidth\":0,\"ticks\":\"\"}}}],\"scattermapbox\":[{\"type\":\"scattermapbox\",\"marker\":{\"colorbar\":{\"outlinewidth\":0,\"ticks\":\"\"}}}],\"scatterternary\":[{\"type\":\"scatterternary\",\"marker\":{\"colorbar\":{\"outlinewidth\":0,\"ticks\":\"\"}}}],\"scattercarpet\":[{\"type\":\"scattercarpet\",\"marker\":{\"colorbar\":{\"outlinewidth\":0,\"ticks\":\"\"}}}],\"carpet\":[{\"aaxis\":{\"endlinecolor\":\"#A2B1C6\",\"gridcolor\":\"#506784\",\"linecolor\":\"#506784\",\"minorgridcolor\":\"#506784\",\"startlinecolor\":\"#A2B1C6\"},\"baxis\":{\"endlinecolor\":\"#A2B1C6\",\"gridcolor\":\"#506784\",\"linecolor\":\"#506784\",\"minorgridcolor\":\"#506784\",\"startlinecolor\":\"#A2B1C6\"},\"type\":\"carpet\"}],\"table\":[{\"cells\":{\"fill\":{\"color\":\"#506784\"},\"line\":{\"color\":\"rgb(17,17,17)\"}},\"header\":{\"fill\":{\"color\":\"#2a3f5f\"},\"line\":{\"color\":\"rgb(17,17,17)\"}},\"type\":\"table\"}],\"barpolar\":[{\"marker\":{\"line\":{\"color\":\"rgb(17,17,17)\",\"width\":0.5},\"pattern\":{\"fillmode\":\"overlay\",\"size\":10,\"solidity\":0.2}},\"type\":\"barpolar\"}],\"pie\":[{\"automargin\":true,\"type\":\"pie\"}]},\"layout\":{\"autotypenumbers\":\"strict\",\"colorway\":[\"#636efa\",\"#EF553B\",\"#00cc96\",\"#ab63fa\",\"#FFA15A\",\"#19d3f3\",\"#FF6692\",\"#B6E880\",\"#FF97FF\",\"#FECB52\"],\"font\":{\"color\":\"#f2f5fa\"},\"hovermode\":\"closest\",\"hoverlabel\":{\"align\":\"left\"},\"paper_bgcolor\":\"rgb(17,17,17)\",\"plot_bgcolor\":\"rgb(17,17,17)\",\"polar\":{\"bgcolor\":\"rgb(17,17,17)\",\"angularaxis\":{\"gridcolor\":\"#506784\",\"linecolor\":\"#506784\",\"ticks\":\"\"},\"radialaxis\":{\"gridcolor\":\"#506784\",\"linecolor\":\"#506784\",\"ticks\":\"\"}},\"ternary\":{\"bgcolor\":\"rgb(17,17,17)\",\"aaxis\":{\"gridcolor\":\"#506784\",\"linecolor\":\"#506784\",\"ticks\":\"\"},\"baxis\":{\"gridcolor\":\"#506784\",\"linecolor\":\"#506784\",\"ticks\":\"\"},\"caxis\":{\"gridcolor\":\"#506784\",\"linecolor\":\"#506784\",\"ticks\":\"\"}},\"coloraxis\":{\"colorbar\":{\"outlinewidth\":0,\"ticks\":\"\"}},\"colorscale\":{\"sequential\":[[0.0,\"#0d0887\"],[0.1111111111111111,\"#46039f\"],[0.2222222222222222,\"#7201a8\"],[0.3333333333333333,\"#9c179e\"],[0.4444444444444444,\"#bd3786\"],[0.5555555555555556,\"#d8576b\"],[0.6666666666666666,\"#ed7953\"],[0.7777777777777778,\"#fb9f3a\"],[0.8888888888888888,\"#fdca26\"],[1.0,\"#f0f921\"]],\"sequentialminus\":[[0.0,\"#0d0887\"],[0.1111111111111111,\"#46039f\"],[0.2222222222222222,\"#7201a8\"],[0.3333333333333333,\"#9c179e\"],[0.4444444444444444,\"#bd3786\"],[0.5555555555555556,\"#d8576b\"],[0.6666666666666666,\"#ed7953\"],[0.7777777777777778,\"#fb9f3a\"],[0.8888888888888888,\"#fdca26\"],[1.0,\"#f0f921\"]],\"diverging\":[[0,\"#8e0152\"],[0.1,\"#c51b7d\"],[0.2,\"#de77ae\"],[0.3,\"#f1b6da\"],[0.4,\"#fde0ef\"],[0.5,\"#f7f7f7\"],[0.6,\"#e6f5d0\"],[0.7,\"#b8e186\"],[0.8,\"#7fbc41\"],[0.9,\"#4d9221\"],[1,\"#276419\"]]},\"xaxis\":{\"gridcolor\":\"#283442\",\"linecolor\":\"#506784\",\"ticks\":\"\",\"title\":{\"standoff\":15},\"zerolinecolor\":\"#283442\",\"automargin\":true,\"zerolinewidth\":2},\"yaxis\":{\"gridcolor\":\"#283442\",\"linecolor\":\"#506784\",\"ticks\":\"\",\"title\":{\"standoff\":15},\"zerolinecolor\":\"#283442\",\"automargin\":true,\"zerolinewidth\":2},\"scene\":{\"xaxis\":{\"backgroundcolor\":\"rgb(17,17,17)\",\"gridcolor\":\"#506784\",\"linecolor\":\"#506784\",\"showbackground\":true,\"ticks\":\"\",\"zerolinecolor\":\"#C8D4E3\",\"gridwidth\":2},\"yaxis\":{\"backgroundcolor\":\"rgb(17,17,17)\",\"gridcolor\":\"#506784\",\"linecolor\":\"#506784\",\"showbackground\":true,\"ticks\":\"\",\"zerolinecolor\":\"#C8D4E3\",\"gridwidth\":2},\"zaxis\":{\"backgroundcolor\":\"rgb(17,17,17)\",\"gridcolor\":\"#506784\",\"linecolor\":\"#506784\",\"showbackground\":true,\"ticks\":\"\",\"zerolinecolor\":\"#C8D4E3\",\"gridwidth\":2}},\"shapedefaults\":{\"line\":{\"color\":\"#f2f5fa\"}},\"annotationdefaults\":{\"arrowcolor\":\"#f2f5fa\",\"arrowhead\":0,\"arrowwidth\":1},\"geo\":{\"bgcolor\":\"rgb(17,17,17)\",\"landcolor\":\"rgb(17,17,17)\",\"subunitcolor\":\"#506784\",\"showland\":true,\"showlakes\":true,\"lakecolor\":\"rgb(17,17,17)\"},\"title\":{\"x\":0.05},\"updatemenudefaults\":{\"bgcolor\":\"#506784\",\"borderwidth\":0},\"sliderdefaults\":{\"bgcolor\":\"#C8D4E3\",\"borderwidth\":1,\"bordercolor\":\"rgb(17,17,17)\",\"tickwidth\":0},\"mapbox\":{\"style\":\"dark\"}}},\"title\":{\"text\":\"Aggregated Color Histogram for Dataset\"},\"xaxis\":{\"title\":{\"text\":\"Pixel Intensity\"}},\"yaxis\":{\"title\":{\"text\":\"Frequency\"}},\"barmode\":\"overlay\",\"legend\":{\"title\":{\"text\":\"Color Channels\"}}},                        {\"responsive\": true}                    ).then(function(){\n",
       "                            \n",
       "var gd = document.getElementById('1710cdbe-3d85-4afb-a3d2-1796d2b482ae');\n",
       "var x = new MutationObserver(function (mutations, observer) {{\n",
       "        var display = window.getComputedStyle(gd).display;\n",
       "        if (!display || display === 'none') {{\n",
       "            console.log([gd, 'removed!']);\n",
       "            Plotly.purge(gd);\n",
       "            observer.disconnect();\n",
       "        }}\n",
       "}});\n",
       "\n",
       "// Listen for the removal of the full notebook cells\n",
       "var notebookContainer = gd.closest('#notebook-container');\n",
       "if (notebookContainer) {{\n",
       "    x.observe(notebookContainer, {childList: true});\n",
       "}}\n",
       "\n",
       "// Listen for the clearing of the current output cell\n",
       "var outputEl = gd.closest('.output');\n",
       "if (outputEl) {{\n",
       "    x.observe(outputEl, {childList: true});\n",
       "}}\n",
       "\n",
       "                        })                };                });            </script>        </div>"
      ]
     },
     "metadata": {},
     "output_type": "display_data"
    }
   ],
   "execution_count": 31
  },
  {
   "metadata": {},
   "cell_type": "markdown",
   "source": [
    "![Aggregated Color Histogram for Dataset](plots/Aggregated_Color_Histogram_for_Flowers_Dataset.png )\n",
    "*The following chart was originally created as an interactive diagram. However, due to GitHub's current limitations, it is displayed here as a static PNG.*\n",
    "\n",
    "\n",
    "\n",
    "\n",
    "\n"
   ],
   "id": "f5b9361260647c84"
  },
  {
   "metadata": {},
   "cell_type": "markdown",
   "source": [
    "**Aggregated Color Histogram for Flowers Dataset**\n",
    "\n",
    "The histogram visualizes the pixel intensity distribution for the Flowers dataset across the Red, Green, and Blue channels:\n",
    "\n",
    "- **Low Intensities (<50)**: The highest frequency is observed in the Blue channel, likely representing darker regions or shadows in the images.\n",
    "- **Mid-range Intensities (50-150)**: The Red channel dominates, consistent with the prevalence of red-colored flowers.\n",
    "- **High Intensities (255)**: Peaks in the Red and Blue channels suggest areas of high brightness or color saturation, possibly due to sunlight or vivid flower colors.\n",
    "\n",
    "This visualization provides insights into the dataset's color characteristics, which can help tailor preprocessing steps and influence model training strategies.\n"
   ],
   "id": "9ddb62eabbda816f"
  }
 ],
 "metadata": {
  "kernelspec": {
   "display_name": "Python 3",
   "language": "python",
   "name": "python3"
  },
  "language_info": {
   "codemirror_mode": {
    "name": "ipython",
    "version": 2
   },
   "file_extension": ".py",
   "mimetype": "text/x-python",
   "name": "python",
   "nbconvert_exporter": "python",
   "pygments_lexer": "ipython2",
   "version": "2.7.6"
  }
 },
 "nbformat": 4,
 "nbformat_minor": 5
}
