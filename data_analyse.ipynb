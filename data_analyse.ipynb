{
 "cells": [
  {
   "cell_type": "markdown",
   "metadata": {},
   "source": [
    "# Interactive Clustering of CelebA/Flowers102 Images with PyTorch and Plotly\n",
    "\n",
    "In this notebook, we will:\n",
    "\n",
    "- Use **PyTorch** to extract features from the CelebA dataset using a pre-trained VGG16 model.\n",
    "- Perform dimensionality reduction using **PCA**.\n",
    "- Apply **K-Means** clustering to group similar images.\n",
    "- Use **t-SNE** for visualization.\n",
    "- Create an interactive plot within the Jupyter Notebook where clicking on a point displays the corresponding image."
   ],
   "id": "3641ce0b1abf2495"
  },
  {
   "metadata": {},
   "cell_type": "markdown",
   "source": "# TODO: Use data_modules instead",
   "id": "6b043ca5b1312b1c"
  },
  {
   "cell_type": "markdown",
   "metadata": {},
   "source": [
    "## Prerequisites\n",
    "\n",
    "Ensure you have the following libraries installed:\n",
    "\n",
    "```bash\n",
    "pip install numpy pandas tqdm pillow torch torchvision scikit-learn plotly ipywidgets\n",
    "```"
   ],
   "id": "463c438a3ea53f18"
  },
  {
   "cell_type": "markdown",
   "metadata": {},
   "source": [
    "## 1. Import Necessary Libraries\n",
    "\n",
    "First, we import all the necessary libraries.\n"
   ],
   "id": "cbff38ac035bebce"
  },
  {
   "cell_type": "code",
   "metadata": {
    "ExecuteTime": {
     "end_time": "2024-10-13T21:10:43.391581Z",
     "start_time": "2024-10-13T21:10:22.583210Z"
    }
   },
   "source": [
    "# Import necessary libraries\n",
    "import os\n",
    "import numpy as np\n",
    "import pandas as pd\n",
    "import plotly.graph_objects as go\n",
    "from PIL import Image\n",
    "from tqdm import tqdm\n",
    "\n",
    "# PyTorch libraries\n",
    "import torch\n",
    "from torchvision import models, transforms\n",
    "from torchvision.models import VGG16_Weights\n",
    "\n",
    "# Dimensionality reduction and clustering\n",
    "from sklearn.decomposition import PCA\n",
    "from sklearn.cluster import KMeans\n",
    "from sklearn.manifold import TSNE\n",
    "\n",
    "# Widgets for interactive display\n",
    "import ipywidgets as widgets\n",
    "from IPython.display import display"
   ],
   "id": "d99f4d27e4caeb16",
   "outputs": [],
   "execution_count": 1
  },
  {
   "cell_type": "markdown",
   "metadata": {},
   "source": [
    "## 2. Check for GPU Availability\n",
    "\n",
    "We check if a GPU is available and set the device accordingly. "
   ],
   "id": "8553a9715c31c285"
  },
  {
   "cell_type": "code",
   "metadata": {
    "ExecuteTime": {
     "end_time": "2024-10-13T21:11:45.875057Z",
     "start_time": "2024-10-13T21:11:45.871133Z"
    }
   },
   "source": [
    "# Check if GPU is available\n",
    "device = torch.device(\"cuda\" if torch.cuda.is_available() else \"cpu\")\n",
    "print(\"Using device:\", device)"
   ],
   "id": "f84d52a422f2d8ad",
   "outputs": [
    {
     "name": "stdout",
     "output_type": "stream",
     "text": [
      "Using device: cuda\n"
     ]
    }
   ],
   "execution_count": 2
  },
  {
   "cell_type": "markdown",
   "metadata": {},
   "source": [
    "## 3. Set Up Image Path and Variables\n",
    "\n",
    "We set the path to the CelebA dataset and list the image files. "
   ],
   "id": "2586db42ca04f753"
  },
  {
   "cell_type": "code",
   "metadata": {
    "ExecuteTime": {
     "end_time": "2024-10-13T21:13:37.529570Z",
     "start_time": "2024-10-13T21:13:37.468059Z"
    }
   },
   "source": [
    "# Set the path to the CelebA or Flowers dataset directory\n",
    "current_dir = os.getcwd()\n",
    "#image_folder = os.path.join(current_dir, 'datasets', 'celeba', 'img_align_celeba')\n",
    "image_folder = os.path.join(current_dir, 'datasets', 'flowers-102', 'jpg')\n",
    "\n",
    "print(f\"Image folder path: {image_folder}\")\n",
    "\n",
    "# List image files\n",
    "image_files = [f for f in os.listdir(image_folder) if f.endswith('.jpg')]\n",
    "\n",
    "# Limit the number of images to manage memory usage\n",
    "max_images = 1000  # Set to desired limit\n",
    "image_files = np.random.choice(image_files, max_images, replace=False)\n",
    "\n",
    "# Number of n_clusters=20\n",
    "clusters=20\n",
    "\n",
    "# Display the number of images\n",
    "print(f\"Number of images: {len(image_files)}\")"
   ],
   "id": "48789d5eeed3ce70",
   "outputs": [
    {
     "name": "stdout",
     "output_type": "stream",
     "text": [
      "Image folder path: D:\\Egyetem\\Mester\\deep_learning\\hf\\CtrlAltDiffuse\\datasets\\flowers-102\\jpg\n",
      "Number of images: 1000\n"
     ]
    }
   ],
   "execution_count": 5
  },
  {
   "cell_type": "markdown",
   "metadata": {},
   "source": "> **Note**: Ensure that the `image_folder` path points to the correct location of your CelebA or Flowers dataset. ",
   "id": "c882cca8acdbfb0d"
  },
  {
   "cell_type": "markdown",
   "metadata": {},
   "source": [
    "## 4. Define Image Transformations\n",
    "\n",
    "We define the image transformations to preprocess the images. Since not all images are size 256x256, we resize them."
   ],
   "id": "77f538c5d66fae97"
  },
  {
   "cell_type": "code",
   "metadata": {
    "ExecuteTime": {
     "end_time": "2024-10-13T21:39:05.278143Z",
     "start_time": "2024-10-13T21:39:05.274936Z"
    }
   },
   "source": [
    "# Define image transformations (no resizing)\n",
    "transform = transforms.Compose([\n",
    "    transforms.Resize((256, 256), antialias=True),\n",
    "    transforms.ToTensor(),\n",
    "    transforms.Normalize(mean=0.5, std=0.5)\n",
    "])"
   ],
   "id": "911d9c94f3e5aabd",
   "outputs": [],
   "execution_count": 23
  },
  {
   "cell_type": "markdown",
   "metadata": {},
   "source": [
    "## 5. Load Pre-trained VGG16 Model\n",
    "\n",
    "We load the pre-trained VGG16 model from PyTorch, setting it to evaluation mode. "
   ],
   "id": "a0bdbfd93c873f8c"
  },
  {
   "cell_type": "code",
   "metadata": {
    "ExecuteTime": {
     "end_time": "2024-10-13T21:14:38.265717Z",
     "start_time": "2024-10-13T21:14:28.629205Z"
    }
   },
   "source": [
    "# Load the pre-trained VGG16 model\n",
    "model = models.vgg16(weights=VGG16_Weights.DEFAULT)\n",
    "model = model.to(device)\n",
    "model.eval()  # Set model to evaluation mode\n",
    "print(\"Model loaded.\")"
   ],
   "id": "9044cbcdd18a7078",
   "outputs": [
    {
     "name": "stderr",
     "output_type": "stream",
     "text": [
      "Downloading: \"https://download.pytorch.org/models/vgg16-397923af.pth\" to C:\\Users\\szasz/.cache\\torch\\hub\\checkpoints\\vgg16-397923af.pth\n",
      "100%|██████████| 528M/528M [00:05<00:00, 97.1MB/s] \n"
     ]
    },
    {
     "name": "stdout",
     "output_type": "stream",
     "text": [
      "Model loaded.\n"
     ]
    }
   ],
   "execution_count": 8
  },
  {
   "cell_type": "markdown",
   "metadata": {},
   "source": [
    "## 6. Create Feature Extractor\n",
    "\n",
    "We create a feature extractor by removing the classification layers from the VGG16 model. "
   ],
   "id": "b474815e3fbaa026"
  },
  {
   "cell_type": "code",
   "metadata": {
    "ExecuteTime": {
     "end_time": "2024-10-13T21:14:45.272758Z",
     "start_time": "2024-10-13T21:14:45.267176Z"
    }
   },
   "source": [
    "# Create a feature extractor by removing the classification layers\n",
    "class FeatureExtractor(torch.nn.Module):\n",
    "    def __init__(self, model):\n",
    "        super(FeatureExtractor, self).__init__()\n",
    "        # Use all layers except the last classifier layers\n",
    "        self.features = model.features\n",
    "        # Add adaptive pooling to ensure consistent output size\n",
    "        self.avgpool = torch.nn.AdaptiveAvgPool2d((7, 7))\n",
    "\n",
    "    def forward(self, x):\n",
    "        x = self.features(x)\n",
    "        x = self.avgpool(x)\n",
    "        x = torch.flatten(x, 1)\n",
    "        return x\n",
    "\n",
    "feature_extractor = FeatureExtractor(model).to(device)"
   ],
   "id": "adb6aec6a3d0c1f2",
   "outputs": [],
   "execution_count": 9
  },
  {
   "cell_type": "markdown",
   "metadata": {},
   "source": [
    "## 7. Extract Features from Images\n",
    "\n",
    "We loop through the images, preprocess them, and extract features using the feature extractor. "
   ],
   "id": "5d95082c9076e9f2"
  },
  {
   "cell_type": "code",
   "metadata": {
    "ExecuteTime": {
     "end_time": "2024-10-13T21:15:35.118867Z",
     "start_time": "2024-10-13T21:14:53.483466Z"
    }
   },
   "source": [
    "# Extract features from images\n",
    "print(\"Extracting features...\")\n",
    "features_list = []\n",
    "\n",
    "for image_file in tqdm(image_files):\n",
    "    img_path = os.path.join(image_folder, image_file)\n",
    "    image = Image.open(img_path).convert('RGB')\n",
    "    image = transform(image)\n",
    "    image = image.unsqueeze(0).to(device)\n",
    "\n",
    "    with torch.no_grad():\n",
    "        feature = feature_extractor(image)\n",
    "    feature = feature.cpu().numpy().flatten()\n",
    "    features_list.append(feature)\n",
    "\n",
    "features_array = np.array(features_list)\n",
    "print(f\"Shape of extracted features: {features_array.shape}\")"
   ],
   "id": "19dfbcf09ba9a7dd",
   "outputs": [
    {
     "name": "stdout",
     "output_type": "stream",
     "text": [
      "Extracting features...\n"
     ]
    },
    {
     "name": "stderr",
     "output_type": "stream",
     "text": [
      "100%|██████████| 1000/1000 [00:41<00:00, 24.03it/s]"
     ]
    },
    {
     "name": "stdout",
     "output_type": "stream",
     "text": [
      "Shape of extracted features: (1000, 25088)\n"
     ]
    },
    {
     "name": "stderr",
     "output_type": "stream",
     "text": [
      "\n"
     ]
    }
   ],
   "execution_count": 10
  },
  {
   "cell_type": "markdown",
   "metadata": {},
   "source": "> **Note**: This step may take some time depending on the number of images and your hardware. ",
   "id": "16a5327870e252f1"
  },
  {
   "cell_type": "markdown",
   "metadata": {},
   "source": [
    "## 8. Apply PCA for Dimensionality Reduction\n",
    "\n",
    "We reduce the dimensionality of the features using PCA. "
   ],
   "id": "716ab5265f8a5044"
  },
  {
   "cell_type": "code",
   "metadata": {
    "ExecuteTime": {
     "end_time": "2024-10-13T21:16:46.254734Z",
     "start_time": "2024-10-13T21:16:43.577364Z"
    }
   },
   "source": [
    "# Apply PCA for dimensionality reduction\n",
    "pca = PCA(n_components=100)\n",
    "features_pca = pca.fit_transform(features_array)\n",
    "print(f\"Shape after PCA: {features_pca.shape}\")"
   ],
   "id": "56776079770b5ede",
   "outputs": [
    {
     "name": "stdout",
     "output_type": "stream",
     "text": [
      "Shape after PCA: (1000, 100)\n"
     ]
    }
   ],
   "execution_count": 11
  },
  {
   "cell_type": "markdown",
   "metadata": {},
   "source": [
    "## 9. Perform K-Means Clustering\n",
    " \n",
    "We cluster the images using K-Means clustering."
   ],
   "id": "5eb36cc1a1072e3c"
  },
  {
   "cell_type": "code",
   "metadata": {
    "ExecuteTime": {
     "end_time": "2024-10-13T21:17:34.637476Z",
     "start_time": "2024-10-13T21:17:33.764117Z"
    }
   },
   "source": [
    "# Perform K-Means clustering\n",
    "kmeans = KMeans(n_clusters=clusters, random_state=42)\n",
    "kmeans_labels = kmeans.fit_predict(features_pca)\n",
    "print(\"Clustering completed.\")"
   ],
   "id": "82e61bb6ba873490",
   "outputs": [
    {
     "name": "stderr",
     "output_type": "stream",
     "text": [
      "D:\\Python\\Anaconda\\envs\\Diffusion\\Lib\\site-packages\\sklearn\\cluster\\_kmeans.py:1429: UserWarning: KMeans is known to have a memory leak on Windows with MKL, when there are less chunks than available threads. You can avoid it by setting the environment variable OMP_NUM_THREADS=4.\n",
      "  warnings.warn(\n"
     ]
    },
    {
     "name": "stdout",
     "output_type": "stream",
     "text": [
      "Clustering completed.\n"
     ]
    }
   ],
   "execution_count": 12
  },
  {
   "cell_type": "markdown",
   "metadata": {},
   "source": [
    "## 10. Use t-SNE for Visualization\n",
    "\n",
    "We use t-SNE to reduce the data to two dimensions for visualization. "
   ],
   "id": "78e4a7654e800ede"
  },
  {
   "cell_type": "code",
   "metadata": {
    "ExecuteTime": {
     "end_time": "2024-10-13T21:17:51.880706Z",
     "start_time": "2024-10-13T21:17:48.465508Z"
    }
   },
   "source": [
    "# Use t-SNE for visualization\n",
    "tsne = TSNE(n_components=2, random_state=42, perplexity=30, max_iter=1000)\n",
    "features_tsne = tsne.fit_transform(features_pca)\n",
    "print(\"t-SNE transformation completed.\")"
   ],
   "id": "5bdec71708485e7d",
   "outputs": [
    {
     "name": "stdout",
     "output_type": "stream",
     "text": [
      "t-SNE transformation completed.\n"
     ]
    }
   ],
   "execution_count": 13
  },
  {
   "cell_type": "markdown",
   "metadata": {},
   "source": [
    "## 11. Prepare DataFrame for Visualization \n",
    "\n",
    "We create a DataFrame containing the t-SNE results and other relevant data."
   ],
   "id": "6f5d2f1a713f11fb"
  },
  {
   "cell_type": "code",
   "metadata": {
    "ExecuteTime": {
     "end_time": "2024-10-13T21:17:54.974488Z",
     "start_time": "2024-10-13T21:17:54.671743Z"
    }
   },
   "source": [
    "# Prepare DataFrame for visualization\n",
    "tsne_df = pd.DataFrame({\n",
    "    'TSNE1': features_tsne[:, 0],\n",
    "    'TSNE2': features_tsne[:, 1],\n",
    "    'Cluster': kmeans_labels.astype(str),\n",
    "    'Image File': image_files\n",
    "})"
   ],
   "id": "14c0a3c46edcb351",
   "outputs": [],
   "execution_count": 14
  },
  {
   "cell_type": "markdown",
   "metadata": {},
   "source": [
    "## 12. Create Interactive Plot and Image Display\n",
    "\n",
    "We create an interactive plot using Plotly's `FigureWidget` and display the image corresponding to the selected point. "
   ],
   "id": "259076b40ac16e3b"
  },
  {
   "cell_type": "code",
   "metadata": {
    "ExecuteTime": {
     "end_time": "2024-10-13T21:17:57.845543Z",
     "start_time": "2024-10-13T21:17:57.273027Z"
    }
   },
   "source": [
    "# Create a FigureWidget\n",
    "scatter = go.FigureWidget(\n",
    "    data=go.Scattergl(\n",
    "        x=tsne_df['TSNE1'],\n",
    "        y=tsne_df['TSNE2'],\n",
    "        mode='markers',\n",
    "        marker=dict(\n",
    "            color=tsne_df['Cluster'].astype(int),\n",
    "            colorscale='Viridis',\n",
    "            showscale=True,\n",
    "            size=5\n",
    "        ),\n",
    "        customdata=tsne_df['Image File'],\n",
    "        hovertemplate='<b>Image File:</b> %{customdata}<br>' +\n",
    "                      '<b>Cluster:</b> %{marker.color}<br>' +\n",
    "                      '<extra></extra>'\n",
    "    )\n",
    ")\n",
    "\n",
    "scatter.update_layout(\n",
    "    title='t-SNE Visualization of CelebA Images',\n",
    "    xaxis_title='t-SNE Dimension 1',\n",
    "    yaxis_title='t-SNE Dimension 2',\n",
    "    width=800,\n",
    "    height=600\n",
    ")\n",
    "\n",
    "# Create an Image widget to display the selected image\n",
    "image_widget = widgets.Image(\n",
    "    format='jpg',\n",
    "    width=256,\n",
    "    height=256\n",
    ")\n",
    "\n",
    "# Create a function to handle click events\n",
    "def update_image(trace, points, selector):\n",
    "    if points.point_inds:\n",
    "        ind = points.point_inds[0]\n",
    "        image_file = tsne_df.iloc[ind]['Image File']\n",
    "        img_path = os.path.join(image_folder, image_file)\n",
    "        with open(img_path, 'rb') as f:\n",
    "            img_data = f.read()\n",
    "            image_widget.value = img_data\n",
    "\n",
    "# Attach the click event handler\n",
    "scatter.data[0].on_click(update_image)\n",
    "\n",
    "# Display the plot and the image widget\n",
    "container = widgets.VBox([scatter, image_widget])\n",
    "display(container)"
   ],
   "id": "1a126fcf928525bc",
   "outputs": [
    {
     "data": {
      "text/plain": [
       "VBox(children=(FigureWidget({\n",
       "    'data': [{'customdata': array(['image_05977.jpg', 'image_04179.jpg', 'image_…"
      ],
      "application/vnd.jupyter.widget-view+json": {
       "version_major": 2,
       "version_minor": 0,
       "model_id": "07f091b743b548549fa23df5a3013ce3"
      }
     },
     "metadata": {},
     "output_type": "display_data"
    }
   ],
   "execution_count": 15
  },
  {
   "metadata": {},
   "cell_type": "markdown",
   "source": "## 13. Color analysis ",
   "id": "9bf411b36a7b4b7c"
  },
  {
   "metadata": {
    "ExecuteTime": {
     "end_time": "2024-10-13T21:40:05.407295Z",
     "start_time": "2024-10-13T21:39:49.779497Z"
    }
   },
   "cell_type": "code",
   "source": [
    "rgb_sum = torch.zeros(3)\n",
    "pixel_count = 0\n",
    "\n",
    "transform_image = transforms.ToTensor()\n",
    "\n",
    "# Initialize histograms for RGB channels (256 bins for pixel intensities 0-255)\n",
    "hist_r = np.zeros(256)\n",
    "hist_g = np.zeros(256)\n",
    "hist_b = np.zeros(256)\n",
    "\n",
    "for image_file in image_files:\n",
    "    image_path = os.path.join(image_folder, image_file)\n",
    "    image = Image.open(image_path)\n",
    "    \n",
    "    image_tensor = transform_image(image)\n",
    "    rgb_sum += image_tensor.sum(dim=[1, 2])\n",
    "    \n",
    "    # Count the number of pixels (height * width)\n",
    "    pixel_count += image_tensor.size(1) * image_tensor.size(2)\n",
    "    \n",
    "    # Convert tensor to numpy array and rescale to 0-255 range\n",
    "    image_np = image_tensor.numpy() * 255\n",
    "    \n",
    "    # Flatten the image for each channel\n",
    "    red_channel = image_np[0, :, :].flatten()\n",
    "    green_channel = image_np[1, :, :].flatten()\n",
    "    blue_channel = image_np[2, :, :].flatten()\n",
    "    \n",
    "    # Update histograms for each color channel\n",
    "    hist_r += np.histogram(red_channel, bins=256, range=(0, 256))[0]\n",
    "    hist_g += np.histogram(green_channel, bins=256, range=(0, 256))[0]\n",
    "    hist_b += np.histogram(blue_channel, bins=256, range=(0, 256))[0]\n",
    "\n",
    "mean_rgb = rgb_sum / pixel_count\n",
    "mean_rgb_np = mean_rgb.numpy()\n"
   ],
   "id": "ad8f1da6b147343d",
   "outputs": [],
   "execution_count": 27
  },
  {
   "metadata": {
    "ExecuteTime": {
     "end_time": "2024-10-13T21:41:06.272733Z",
     "start_time": "2024-10-13T21:41:06.263196Z"
    }
   },
   "cell_type": "code",
   "source": [
    "# Plotly Bar Chart for Mean RGB\n",
    "fig_rgb = go.Figure()\n",
    "\n",
    "fig_rgb.add_trace(go.Bar(\n",
    "    x=['Red', 'Green', 'Blue'],\n",
    "    y=mean_rgb_np,\n",
    "    marker=dict(color=['red', 'green', 'blue']),\n",
    "    name='Mean Color Intensity'\n",
    "))\n",
    "\n",
    "fig_rgb.update_layout(\n",
    "    title=\"Average Color Distribution in Training Set\",\n",
    "    xaxis_title=\"Color Channels\",\n",
    "    yaxis_title=\"Mean Pixel Intensity\",\n",
    "    showlegend=False\n",
    ")\n",
    "\n",
    "fig_rgb.show()"
   ],
   "id": "e498e57a88401ca3",
   "outputs": [
    {
     "data": {
      "application/vnd.plotly.v1+json": {
       "data": [
        {
         "marker": {
          "color": [
           "red",
           "green",
           "blue"
          ]
         },
         "name": "Mean Color Intensity",
         "x": [
          "Red",
          "Green",
          "Blue"
         ],
         "y": [
          0.42707589268684387,
          0.3705061078071594,
          0.28470268845558167
         ],
         "type": "bar"
        }
       ],
       "layout": {
        "template": {
         "data": {
          "histogram2dcontour": [
           {
            "type": "histogram2dcontour",
            "colorbar": {
             "outlinewidth": 0,
             "ticks": ""
            },
            "colorscale": [
             [
              0.0,
              "#0d0887"
             ],
             [
              0.1111111111111111,
              "#46039f"
             ],
             [
              0.2222222222222222,
              "#7201a8"
             ],
             [
              0.3333333333333333,
              "#9c179e"
             ],
             [
              0.4444444444444444,
              "#bd3786"
             ],
             [
              0.5555555555555556,
              "#d8576b"
             ],
             [
              0.6666666666666666,
              "#ed7953"
             ],
             [
              0.7777777777777778,
              "#fb9f3a"
             ],
             [
              0.8888888888888888,
              "#fdca26"
             ],
             [
              1.0,
              "#f0f921"
             ]
            ]
           }
          ],
          "choropleth": [
           {
            "type": "choropleth",
            "colorbar": {
             "outlinewidth": 0,
             "ticks": ""
            }
           }
          ],
          "histogram2d": [
           {
            "type": "histogram2d",
            "colorbar": {
             "outlinewidth": 0,
             "ticks": ""
            },
            "colorscale": [
             [
              0.0,
              "#0d0887"
             ],
             [
              0.1111111111111111,
              "#46039f"
             ],
             [
              0.2222222222222222,
              "#7201a8"
             ],
             [
              0.3333333333333333,
              "#9c179e"
             ],
             [
              0.4444444444444444,
              "#bd3786"
             ],
             [
              0.5555555555555556,
              "#d8576b"
             ],
             [
              0.6666666666666666,
              "#ed7953"
             ],
             [
              0.7777777777777778,
              "#fb9f3a"
             ],
             [
              0.8888888888888888,
              "#fdca26"
             ],
             [
              1.0,
              "#f0f921"
             ]
            ]
           }
          ],
          "heatmap": [
           {
            "type": "heatmap",
            "colorbar": {
             "outlinewidth": 0,
             "ticks": ""
            },
            "colorscale": [
             [
              0.0,
              "#0d0887"
             ],
             [
              0.1111111111111111,
              "#46039f"
             ],
             [
              0.2222222222222222,
              "#7201a8"
             ],
             [
              0.3333333333333333,
              "#9c179e"
             ],
             [
              0.4444444444444444,
              "#bd3786"
             ],
             [
              0.5555555555555556,
              "#d8576b"
             ],
             [
              0.6666666666666666,
              "#ed7953"
             ],
             [
              0.7777777777777778,
              "#fb9f3a"
             ],
             [
              0.8888888888888888,
              "#fdca26"
             ],
             [
              1.0,
              "#f0f921"
             ]
            ]
           }
          ],
          "heatmapgl": [
           {
            "type": "heatmapgl",
            "colorbar": {
             "outlinewidth": 0,
             "ticks": ""
            },
            "colorscale": [
             [
              0.0,
              "#0d0887"
             ],
             [
              0.1111111111111111,
              "#46039f"
             ],
             [
              0.2222222222222222,
              "#7201a8"
             ],
             [
              0.3333333333333333,
              "#9c179e"
             ],
             [
              0.4444444444444444,
              "#bd3786"
             ],
             [
              0.5555555555555556,
              "#d8576b"
             ],
             [
              0.6666666666666666,
              "#ed7953"
             ],
             [
              0.7777777777777778,
              "#fb9f3a"
             ],
             [
              0.8888888888888888,
              "#fdca26"
             ],
             [
              1.0,
              "#f0f921"
             ]
            ]
           }
          ],
          "contourcarpet": [
           {
            "type": "contourcarpet",
            "colorbar": {
             "outlinewidth": 0,
             "ticks": ""
            }
           }
          ],
          "contour": [
           {
            "type": "contour",
            "colorbar": {
             "outlinewidth": 0,
             "ticks": ""
            },
            "colorscale": [
             [
              0.0,
              "#0d0887"
             ],
             [
              0.1111111111111111,
              "#46039f"
             ],
             [
              0.2222222222222222,
              "#7201a8"
             ],
             [
              0.3333333333333333,
              "#9c179e"
             ],
             [
              0.4444444444444444,
              "#bd3786"
             ],
             [
              0.5555555555555556,
              "#d8576b"
             ],
             [
              0.6666666666666666,
              "#ed7953"
             ],
             [
              0.7777777777777778,
              "#fb9f3a"
             ],
             [
              0.8888888888888888,
              "#fdca26"
             ],
             [
              1.0,
              "#f0f921"
             ]
            ]
           }
          ],
          "surface": [
           {
            "type": "surface",
            "colorbar": {
             "outlinewidth": 0,
             "ticks": ""
            },
            "colorscale": [
             [
              0.0,
              "#0d0887"
             ],
             [
              0.1111111111111111,
              "#46039f"
             ],
             [
              0.2222222222222222,
              "#7201a8"
             ],
             [
              0.3333333333333333,
              "#9c179e"
             ],
             [
              0.4444444444444444,
              "#bd3786"
             ],
             [
              0.5555555555555556,
              "#d8576b"
             ],
             [
              0.6666666666666666,
              "#ed7953"
             ],
             [
              0.7777777777777778,
              "#fb9f3a"
             ],
             [
              0.8888888888888888,
              "#fdca26"
             ],
             [
              1.0,
              "#f0f921"
             ]
            ]
           }
          ],
          "mesh3d": [
           {
            "type": "mesh3d",
            "colorbar": {
             "outlinewidth": 0,
             "ticks": ""
            }
           }
          ],
          "scatter": [
           {
            "marker": {
             "line": {
              "color": "#283442"
             }
            },
            "type": "scatter"
           }
          ],
          "parcoords": [
           {
            "type": "parcoords",
            "line": {
             "colorbar": {
              "outlinewidth": 0,
              "ticks": ""
             }
            }
           }
          ],
          "scatterpolargl": [
           {
            "type": "scatterpolargl",
            "marker": {
             "colorbar": {
              "outlinewidth": 0,
              "ticks": ""
             }
            }
           }
          ],
          "bar": [
           {
            "error_x": {
             "color": "#f2f5fa"
            },
            "error_y": {
             "color": "#f2f5fa"
            },
            "marker": {
             "line": {
              "color": "rgb(17,17,17)",
              "width": 0.5
             },
             "pattern": {
              "fillmode": "overlay",
              "size": 10,
              "solidity": 0.2
             }
            },
            "type": "bar"
           }
          ],
          "scattergeo": [
           {
            "type": "scattergeo",
            "marker": {
             "colorbar": {
              "outlinewidth": 0,
              "ticks": ""
             }
            }
           }
          ],
          "scatterpolar": [
           {
            "type": "scatterpolar",
            "marker": {
             "colorbar": {
              "outlinewidth": 0,
              "ticks": ""
             }
            }
           }
          ],
          "histogram": [
           {
            "marker": {
             "pattern": {
              "fillmode": "overlay",
              "size": 10,
              "solidity": 0.2
             }
            },
            "type": "histogram"
           }
          ],
          "scattergl": [
           {
            "marker": {
             "line": {
              "color": "#283442"
             }
            },
            "type": "scattergl"
           }
          ],
          "scatter3d": [
           {
            "type": "scatter3d",
            "line": {
             "colorbar": {
              "outlinewidth": 0,
              "ticks": ""
             }
            },
            "marker": {
             "colorbar": {
              "outlinewidth": 0,
              "ticks": ""
             }
            }
           }
          ],
          "scattermapbox": [
           {
            "type": "scattermapbox",
            "marker": {
             "colorbar": {
              "outlinewidth": 0,
              "ticks": ""
             }
            }
           }
          ],
          "scatterternary": [
           {
            "type": "scatterternary",
            "marker": {
             "colorbar": {
              "outlinewidth": 0,
              "ticks": ""
             }
            }
           }
          ],
          "scattercarpet": [
           {
            "type": "scattercarpet",
            "marker": {
             "colorbar": {
              "outlinewidth": 0,
              "ticks": ""
             }
            }
           }
          ],
          "carpet": [
           {
            "aaxis": {
             "endlinecolor": "#A2B1C6",
             "gridcolor": "#506784",
             "linecolor": "#506784",
             "minorgridcolor": "#506784",
             "startlinecolor": "#A2B1C6"
            },
            "baxis": {
             "endlinecolor": "#A2B1C6",
             "gridcolor": "#506784",
             "linecolor": "#506784",
             "minorgridcolor": "#506784",
             "startlinecolor": "#A2B1C6"
            },
            "type": "carpet"
           }
          ],
          "table": [
           {
            "cells": {
             "fill": {
              "color": "#506784"
             },
             "line": {
              "color": "rgb(17,17,17)"
             }
            },
            "header": {
             "fill": {
              "color": "#2a3f5f"
             },
             "line": {
              "color": "rgb(17,17,17)"
             }
            },
            "type": "table"
           }
          ],
          "barpolar": [
           {
            "marker": {
             "line": {
              "color": "rgb(17,17,17)",
              "width": 0.5
             },
             "pattern": {
              "fillmode": "overlay",
              "size": 10,
              "solidity": 0.2
             }
            },
            "type": "barpolar"
           }
          ],
          "pie": [
           {
            "automargin": true,
            "type": "pie"
           }
          ]
         },
         "layout": {
          "autotypenumbers": "strict",
          "colorway": [
           "#636efa",
           "#EF553B",
           "#00cc96",
           "#ab63fa",
           "#FFA15A",
           "#19d3f3",
           "#FF6692",
           "#B6E880",
           "#FF97FF",
           "#FECB52"
          ],
          "font": {
           "color": "#f2f5fa"
          },
          "hovermode": "closest",
          "hoverlabel": {
           "align": "left"
          },
          "paper_bgcolor": "rgb(17,17,17)",
          "plot_bgcolor": "rgb(17,17,17)",
          "polar": {
           "bgcolor": "rgb(17,17,17)",
           "angularaxis": {
            "gridcolor": "#506784",
            "linecolor": "#506784",
            "ticks": ""
           },
           "radialaxis": {
            "gridcolor": "#506784",
            "linecolor": "#506784",
            "ticks": ""
           }
          },
          "ternary": {
           "bgcolor": "rgb(17,17,17)",
           "aaxis": {
            "gridcolor": "#506784",
            "linecolor": "#506784",
            "ticks": ""
           },
           "baxis": {
            "gridcolor": "#506784",
            "linecolor": "#506784",
            "ticks": ""
           },
           "caxis": {
            "gridcolor": "#506784",
            "linecolor": "#506784",
            "ticks": ""
           }
          },
          "coloraxis": {
           "colorbar": {
            "outlinewidth": 0,
            "ticks": ""
           }
          },
          "colorscale": {
           "sequential": [
            [
             0.0,
             "#0d0887"
            ],
            [
             0.1111111111111111,
             "#46039f"
            ],
            [
             0.2222222222222222,
             "#7201a8"
            ],
            [
             0.3333333333333333,
             "#9c179e"
            ],
            [
             0.4444444444444444,
             "#bd3786"
            ],
            [
             0.5555555555555556,
             "#d8576b"
            ],
            [
             0.6666666666666666,
             "#ed7953"
            ],
            [
             0.7777777777777778,
             "#fb9f3a"
            ],
            [
             0.8888888888888888,
             "#fdca26"
            ],
            [
             1.0,
             "#f0f921"
            ]
           ],
           "sequentialminus": [
            [
             0.0,
             "#0d0887"
            ],
            [
             0.1111111111111111,
             "#46039f"
            ],
            [
             0.2222222222222222,
             "#7201a8"
            ],
            [
             0.3333333333333333,
             "#9c179e"
            ],
            [
             0.4444444444444444,
             "#bd3786"
            ],
            [
             0.5555555555555556,
             "#d8576b"
            ],
            [
             0.6666666666666666,
             "#ed7953"
            ],
            [
             0.7777777777777778,
             "#fb9f3a"
            ],
            [
             0.8888888888888888,
             "#fdca26"
            ],
            [
             1.0,
             "#f0f921"
            ]
           ],
           "diverging": [
            [
             0,
             "#8e0152"
            ],
            [
             0.1,
             "#c51b7d"
            ],
            [
             0.2,
             "#de77ae"
            ],
            [
             0.3,
             "#f1b6da"
            ],
            [
             0.4,
             "#fde0ef"
            ],
            [
             0.5,
             "#f7f7f7"
            ],
            [
             0.6,
             "#e6f5d0"
            ],
            [
             0.7,
             "#b8e186"
            ],
            [
             0.8,
             "#7fbc41"
            ],
            [
             0.9,
             "#4d9221"
            ],
            [
             1,
             "#276419"
            ]
           ]
          },
          "xaxis": {
           "gridcolor": "#283442",
           "linecolor": "#506784",
           "ticks": "",
           "title": {
            "standoff": 15
           },
           "zerolinecolor": "#283442",
           "automargin": true,
           "zerolinewidth": 2
          },
          "yaxis": {
           "gridcolor": "#283442",
           "linecolor": "#506784",
           "ticks": "",
           "title": {
            "standoff": 15
           },
           "zerolinecolor": "#283442",
           "automargin": true,
           "zerolinewidth": 2
          },
          "scene": {
           "xaxis": {
            "backgroundcolor": "rgb(17,17,17)",
            "gridcolor": "#506784",
            "linecolor": "#506784",
            "showbackground": true,
            "ticks": "",
            "zerolinecolor": "#C8D4E3",
            "gridwidth": 2
           },
           "yaxis": {
            "backgroundcolor": "rgb(17,17,17)",
            "gridcolor": "#506784",
            "linecolor": "#506784",
            "showbackground": true,
            "ticks": "",
            "zerolinecolor": "#C8D4E3",
            "gridwidth": 2
           },
           "zaxis": {
            "backgroundcolor": "rgb(17,17,17)",
            "gridcolor": "#506784",
            "linecolor": "#506784",
            "showbackground": true,
            "ticks": "",
            "zerolinecolor": "#C8D4E3",
            "gridwidth": 2
           }
          },
          "shapedefaults": {
           "line": {
            "color": "#f2f5fa"
           }
          },
          "annotationdefaults": {
           "arrowcolor": "#f2f5fa",
           "arrowhead": 0,
           "arrowwidth": 1
          },
          "geo": {
           "bgcolor": "rgb(17,17,17)",
           "landcolor": "rgb(17,17,17)",
           "subunitcolor": "#506784",
           "showland": true,
           "showlakes": true,
           "lakecolor": "rgb(17,17,17)"
          },
          "title": {
           "x": 0.05
          },
          "updatemenudefaults": {
           "bgcolor": "#506784",
           "borderwidth": 0
          },
          "sliderdefaults": {
           "bgcolor": "#C8D4E3",
           "borderwidth": 1,
           "bordercolor": "rgb(17,17,17)",
           "tickwidth": 0
          },
          "mapbox": {
           "style": "dark"
          }
         }
        },
        "title": {
         "text": "Average Color Distribution in Training Set"
        },
        "xaxis": {
         "title": {
          "text": "Color Channels"
         }
        },
        "yaxis": {
         "title": {
          "text": "Mean Pixel Intensity"
         }
        },
        "showlegend": false
       },
       "config": {
        "plotlyServerURL": "https://plot.ly"
       }
      },
      "text/html": [
       "<div>                            <div id=\"d22ea518-9704-4706-85c9-d6821101215d\" class=\"plotly-graph-div\" style=\"height:525px; width:100%;\"></div>            <script type=\"text/javascript\">                require([\"plotly\"], function(Plotly) {                    window.PLOTLYENV=window.PLOTLYENV || {};                                    if (document.getElementById(\"d22ea518-9704-4706-85c9-d6821101215d\")) {                    Plotly.newPlot(                        \"d22ea518-9704-4706-85c9-d6821101215d\",                        [{\"marker\":{\"color\":[\"red\",\"green\",\"blue\"]},\"name\":\"Mean Color Intensity\",\"x\":[\"Red\",\"Green\",\"Blue\"],\"y\":[0.42707589268684387,0.3705061078071594,0.28470268845558167],\"type\":\"bar\"}],                        {\"template\":{\"data\":{\"histogram2dcontour\":[{\"type\":\"histogram2dcontour\",\"colorbar\":{\"outlinewidth\":0,\"ticks\":\"\"},\"colorscale\":[[0.0,\"#0d0887\"],[0.1111111111111111,\"#46039f\"],[0.2222222222222222,\"#7201a8\"],[0.3333333333333333,\"#9c179e\"],[0.4444444444444444,\"#bd3786\"],[0.5555555555555556,\"#d8576b\"],[0.6666666666666666,\"#ed7953\"],[0.7777777777777778,\"#fb9f3a\"],[0.8888888888888888,\"#fdca26\"],[1.0,\"#f0f921\"]]}],\"choropleth\":[{\"type\":\"choropleth\",\"colorbar\":{\"outlinewidth\":0,\"ticks\":\"\"}}],\"histogram2d\":[{\"type\":\"histogram2d\",\"colorbar\":{\"outlinewidth\":0,\"ticks\":\"\"},\"colorscale\":[[0.0,\"#0d0887\"],[0.1111111111111111,\"#46039f\"],[0.2222222222222222,\"#7201a8\"],[0.3333333333333333,\"#9c179e\"],[0.4444444444444444,\"#bd3786\"],[0.5555555555555556,\"#d8576b\"],[0.6666666666666666,\"#ed7953\"],[0.7777777777777778,\"#fb9f3a\"],[0.8888888888888888,\"#fdca26\"],[1.0,\"#f0f921\"]]}],\"heatmap\":[{\"type\":\"heatmap\",\"colorbar\":{\"outlinewidth\":0,\"ticks\":\"\"},\"colorscale\":[[0.0,\"#0d0887\"],[0.1111111111111111,\"#46039f\"],[0.2222222222222222,\"#7201a8\"],[0.3333333333333333,\"#9c179e\"],[0.4444444444444444,\"#bd3786\"],[0.5555555555555556,\"#d8576b\"],[0.6666666666666666,\"#ed7953\"],[0.7777777777777778,\"#fb9f3a\"],[0.8888888888888888,\"#fdca26\"],[1.0,\"#f0f921\"]]}],\"heatmapgl\":[{\"type\":\"heatmapgl\",\"colorbar\":{\"outlinewidth\":0,\"ticks\":\"\"},\"colorscale\":[[0.0,\"#0d0887\"],[0.1111111111111111,\"#46039f\"],[0.2222222222222222,\"#7201a8\"],[0.3333333333333333,\"#9c179e\"],[0.4444444444444444,\"#bd3786\"],[0.5555555555555556,\"#d8576b\"],[0.6666666666666666,\"#ed7953\"],[0.7777777777777778,\"#fb9f3a\"],[0.8888888888888888,\"#fdca26\"],[1.0,\"#f0f921\"]]}],\"contourcarpet\":[{\"type\":\"contourcarpet\",\"colorbar\":{\"outlinewidth\":0,\"ticks\":\"\"}}],\"contour\":[{\"type\":\"contour\",\"colorbar\":{\"outlinewidth\":0,\"ticks\":\"\"},\"colorscale\":[[0.0,\"#0d0887\"],[0.1111111111111111,\"#46039f\"],[0.2222222222222222,\"#7201a8\"],[0.3333333333333333,\"#9c179e\"],[0.4444444444444444,\"#bd3786\"],[0.5555555555555556,\"#d8576b\"],[0.6666666666666666,\"#ed7953\"],[0.7777777777777778,\"#fb9f3a\"],[0.8888888888888888,\"#fdca26\"],[1.0,\"#f0f921\"]]}],\"surface\":[{\"type\":\"surface\",\"colorbar\":{\"outlinewidth\":0,\"ticks\":\"\"},\"colorscale\":[[0.0,\"#0d0887\"],[0.1111111111111111,\"#46039f\"],[0.2222222222222222,\"#7201a8\"],[0.3333333333333333,\"#9c179e\"],[0.4444444444444444,\"#bd3786\"],[0.5555555555555556,\"#d8576b\"],[0.6666666666666666,\"#ed7953\"],[0.7777777777777778,\"#fb9f3a\"],[0.8888888888888888,\"#fdca26\"],[1.0,\"#f0f921\"]]}],\"mesh3d\":[{\"type\":\"mesh3d\",\"colorbar\":{\"outlinewidth\":0,\"ticks\":\"\"}}],\"scatter\":[{\"marker\":{\"line\":{\"color\":\"#283442\"}},\"type\":\"scatter\"}],\"parcoords\":[{\"type\":\"parcoords\",\"line\":{\"colorbar\":{\"outlinewidth\":0,\"ticks\":\"\"}}}],\"scatterpolargl\":[{\"type\":\"scatterpolargl\",\"marker\":{\"colorbar\":{\"outlinewidth\":0,\"ticks\":\"\"}}}],\"bar\":[{\"error_x\":{\"color\":\"#f2f5fa\"},\"error_y\":{\"color\":\"#f2f5fa\"},\"marker\":{\"line\":{\"color\":\"rgb(17,17,17)\",\"width\":0.5},\"pattern\":{\"fillmode\":\"overlay\",\"size\":10,\"solidity\":0.2}},\"type\":\"bar\"}],\"scattergeo\":[{\"type\":\"scattergeo\",\"marker\":{\"colorbar\":{\"outlinewidth\":0,\"ticks\":\"\"}}}],\"scatterpolar\":[{\"type\":\"scatterpolar\",\"marker\":{\"colorbar\":{\"outlinewidth\":0,\"ticks\":\"\"}}}],\"histogram\":[{\"marker\":{\"pattern\":{\"fillmode\":\"overlay\",\"size\":10,\"solidity\":0.2}},\"type\":\"histogram\"}],\"scattergl\":[{\"marker\":{\"line\":{\"color\":\"#283442\"}},\"type\":\"scattergl\"}],\"scatter3d\":[{\"type\":\"scatter3d\",\"line\":{\"colorbar\":{\"outlinewidth\":0,\"ticks\":\"\"}},\"marker\":{\"colorbar\":{\"outlinewidth\":0,\"ticks\":\"\"}}}],\"scattermapbox\":[{\"type\":\"scattermapbox\",\"marker\":{\"colorbar\":{\"outlinewidth\":0,\"ticks\":\"\"}}}],\"scatterternary\":[{\"type\":\"scatterternary\",\"marker\":{\"colorbar\":{\"outlinewidth\":0,\"ticks\":\"\"}}}],\"scattercarpet\":[{\"type\":\"scattercarpet\",\"marker\":{\"colorbar\":{\"outlinewidth\":0,\"ticks\":\"\"}}}],\"carpet\":[{\"aaxis\":{\"endlinecolor\":\"#A2B1C6\",\"gridcolor\":\"#506784\",\"linecolor\":\"#506784\",\"minorgridcolor\":\"#506784\",\"startlinecolor\":\"#A2B1C6\"},\"baxis\":{\"endlinecolor\":\"#A2B1C6\",\"gridcolor\":\"#506784\",\"linecolor\":\"#506784\",\"minorgridcolor\":\"#506784\",\"startlinecolor\":\"#A2B1C6\"},\"type\":\"carpet\"}],\"table\":[{\"cells\":{\"fill\":{\"color\":\"#506784\"},\"line\":{\"color\":\"rgb(17,17,17)\"}},\"header\":{\"fill\":{\"color\":\"#2a3f5f\"},\"line\":{\"color\":\"rgb(17,17,17)\"}},\"type\":\"table\"}],\"barpolar\":[{\"marker\":{\"line\":{\"color\":\"rgb(17,17,17)\",\"width\":0.5},\"pattern\":{\"fillmode\":\"overlay\",\"size\":10,\"solidity\":0.2}},\"type\":\"barpolar\"}],\"pie\":[{\"automargin\":true,\"type\":\"pie\"}]},\"layout\":{\"autotypenumbers\":\"strict\",\"colorway\":[\"#636efa\",\"#EF553B\",\"#00cc96\",\"#ab63fa\",\"#FFA15A\",\"#19d3f3\",\"#FF6692\",\"#B6E880\",\"#FF97FF\",\"#FECB52\"],\"font\":{\"color\":\"#f2f5fa\"},\"hovermode\":\"closest\",\"hoverlabel\":{\"align\":\"left\"},\"paper_bgcolor\":\"rgb(17,17,17)\",\"plot_bgcolor\":\"rgb(17,17,17)\",\"polar\":{\"bgcolor\":\"rgb(17,17,17)\",\"angularaxis\":{\"gridcolor\":\"#506784\",\"linecolor\":\"#506784\",\"ticks\":\"\"},\"radialaxis\":{\"gridcolor\":\"#506784\",\"linecolor\":\"#506784\",\"ticks\":\"\"}},\"ternary\":{\"bgcolor\":\"rgb(17,17,17)\",\"aaxis\":{\"gridcolor\":\"#506784\",\"linecolor\":\"#506784\",\"ticks\":\"\"},\"baxis\":{\"gridcolor\":\"#506784\",\"linecolor\":\"#506784\",\"ticks\":\"\"},\"caxis\":{\"gridcolor\":\"#506784\",\"linecolor\":\"#506784\",\"ticks\":\"\"}},\"coloraxis\":{\"colorbar\":{\"outlinewidth\":0,\"ticks\":\"\"}},\"colorscale\":{\"sequential\":[[0.0,\"#0d0887\"],[0.1111111111111111,\"#46039f\"],[0.2222222222222222,\"#7201a8\"],[0.3333333333333333,\"#9c179e\"],[0.4444444444444444,\"#bd3786\"],[0.5555555555555556,\"#d8576b\"],[0.6666666666666666,\"#ed7953\"],[0.7777777777777778,\"#fb9f3a\"],[0.8888888888888888,\"#fdca26\"],[1.0,\"#f0f921\"]],\"sequentialminus\":[[0.0,\"#0d0887\"],[0.1111111111111111,\"#46039f\"],[0.2222222222222222,\"#7201a8\"],[0.3333333333333333,\"#9c179e\"],[0.4444444444444444,\"#bd3786\"],[0.5555555555555556,\"#d8576b\"],[0.6666666666666666,\"#ed7953\"],[0.7777777777777778,\"#fb9f3a\"],[0.8888888888888888,\"#fdca26\"],[1.0,\"#f0f921\"]],\"diverging\":[[0,\"#8e0152\"],[0.1,\"#c51b7d\"],[0.2,\"#de77ae\"],[0.3,\"#f1b6da\"],[0.4,\"#fde0ef\"],[0.5,\"#f7f7f7\"],[0.6,\"#e6f5d0\"],[0.7,\"#b8e186\"],[0.8,\"#7fbc41\"],[0.9,\"#4d9221\"],[1,\"#276419\"]]},\"xaxis\":{\"gridcolor\":\"#283442\",\"linecolor\":\"#506784\",\"ticks\":\"\",\"title\":{\"standoff\":15},\"zerolinecolor\":\"#283442\",\"automargin\":true,\"zerolinewidth\":2},\"yaxis\":{\"gridcolor\":\"#283442\",\"linecolor\":\"#506784\",\"ticks\":\"\",\"title\":{\"standoff\":15},\"zerolinecolor\":\"#283442\",\"automargin\":true,\"zerolinewidth\":2},\"scene\":{\"xaxis\":{\"backgroundcolor\":\"rgb(17,17,17)\",\"gridcolor\":\"#506784\",\"linecolor\":\"#506784\",\"showbackground\":true,\"ticks\":\"\",\"zerolinecolor\":\"#C8D4E3\",\"gridwidth\":2},\"yaxis\":{\"backgroundcolor\":\"rgb(17,17,17)\",\"gridcolor\":\"#506784\",\"linecolor\":\"#506784\",\"showbackground\":true,\"ticks\":\"\",\"zerolinecolor\":\"#C8D4E3\",\"gridwidth\":2},\"zaxis\":{\"backgroundcolor\":\"rgb(17,17,17)\",\"gridcolor\":\"#506784\",\"linecolor\":\"#506784\",\"showbackground\":true,\"ticks\":\"\",\"zerolinecolor\":\"#C8D4E3\",\"gridwidth\":2}},\"shapedefaults\":{\"line\":{\"color\":\"#f2f5fa\"}},\"annotationdefaults\":{\"arrowcolor\":\"#f2f5fa\",\"arrowhead\":0,\"arrowwidth\":1},\"geo\":{\"bgcolor\":\"rgb(17,17,17)\",\"landcolor\":\"rgb(17,17,17)\",\"subunitcolor\":\"#506784\",\"showland\":true,\"showlakes\":true,\"lakecolor\":\"rgb(17,17,17)\"},\"title\":{\"x\":0.05},\"updatemenudefaults\":{\"bgcolor\":\"#506784\",\"borderwidth\":0},\"sliderdefaults\":{\"bgcolor\":\"#C8D4E3\",\"borderwidth\":1,\"bordercolor\":\"rgb(17,17,17)\",\"tickwidth\":0},\"mapbox\":{\"style\":\"dark\"}}},\"title\":{\"text\":\"Average Color Distribution in Training Set\"},\"xaxis\":{\"title\":{\"text\":\"Color Channels\"}},\"yaxis\":{\"title\":{\"text\":\"Mean Pixel Intensity\"}},\"showlegend\":false},                        {\"responsive\": true}                    ).then(function(){\n",
       "                            \n",
       "var gd = document.getElementById('d22ea518-9704-4706-85c9-d6821101215d');\n",
       "var x = new MutationObserver(function (mutations, observer) {{\n",
       "        var display = window.getComputedStyle(gd).display;\n",
       "        if (!display || display === 'none') {{\n",
       "            console.log([gd, 'removed!']);\n",
       "            Plotly.purge(gd);\n",
       "            observer.disconnect();\n",
       "        }}\n",
       "}});\n",
       "\n",
       "// Listen for the removal of the full notebook cells\n",
       "var notebookContainer = gd.closest('#notebook-container');\n",
       "if (notebookContainer) {{\n",
       "    x.observe(notebookContainer, {childList: true});\n",
       "}}\n",
       "\n",
       "// Listen for the clearing of the current output cell\n",
       "var outputEl = gd.closest('.output');\n",
       "if (outputEl) {{\n",
       "    x.observe(outputEl, {childList: true});\n",
       "}}\n",
       "\n",
       "                        })                };                });            </script>        </div>"
      ]
     },
     "metadata": {},
     "output_type": "display_data"
    }
   ],
   "execution_count": 28
  },
  {
   "metadata": {
    "ExecuteTime": {
     "end_time": "2024-10-13T21:42:25.357969Z",
     "start_time": "2024-10-13T21:42:25.251029Z"
    }
   },
   "cell_type": "code",
   "source": [
    "# Histogram\n",
    "\n",
    "fig_histogram = go.Figure()\n",
    "\n",
    "fig_histogram.add_trace(go.Bar(\n",
    "    x=np.arange(256), \n",
    "    y=hist_r, \n",
    "    name='Red Channel',\n",
    "    marker_color='red',\n",
    "    opacity=0.6\n",
    "))\n",
    "\n",
    "fig_histogram.add_trace(go.Bar(\n",
    "    x=np.arange(256), \n",
    "    y=hist_g, \n",
    "    name='Green Channel',\n",
    "    marker_color='green',\n",
    "    opacity=0.6\n",
    "))\n",
    "\n",
    "fig_histogram.add_trace(go.Bar(\n",
    "    x=np.arange(256), \n",
    "    y=hist_b, \n",
    "    name='Blue Channel',\n",
    "    marker_color='blue',\n",
    "    opacity=0.6\n",
    "))\n",
    "\n",
    "fig_histogram.update_layout(\n",
    "    title=\"Aggregated Color Histogram for Dataset\",\n",
    "    xaxis_title=\"Pixel Intensity\",\n",
    "    yaxis_title=\"Frequency\",\n",
    "    barmode='overlay',\n",
    "    legend_title=\"Color Channels\"\n",
    ")\n",
    "\n",
    "fig_histogram.show()"
   ],
   "id": "3658edb025b1fed3",
   "outputs": [
    {
     "data": {
      "application/vnd.plotly.v1+json": {
       "data": [
        {
         "marker": {
          "color": "red"
         },
         "name": "Red Channel",
         "opacity": 0.6,
         "x": [
          0,
          1,
          2,
          3,
          4,
          5,
          6,
          7,
          8,
          9,
          10,
          11,
          12,
          13,
          14,
          15,
          16,
          17,
          18,
          19,
          20,
          21,
          22,
          23,
          24,
          25,
          26,
          27,
          28,
          29,
          30,
          31,
          32,
          33,
          34,
          35,
          36,
          37,
          38,
          39,
          40,
          41,
          42,
          43,
          44,
          45,
          46,
          47,
          48,
          49,
          50,
          51,
          52,
          53,
          54,
          55,
          56,
          57,
          58,
          59,
          60,
          61,
          62,
          63,
          64,
          65,
          66,
          67,
          68,
          69,
          70,
          71,
          72,
          73,
          74,
          75,
          76,
          77,
          78,
          79,
          80,
          81,
          82,
          83,
          84,
          85,
          86,
          87,
          88,
          89,
          90,
          91,
          92,
          93,
          94,
          95,
          96,
          97,
          98,
          99,
          100,
          101,
          102,
          103,
          104,
          105,
          106,
          107,
          108,
          109,
          110,
          111,
          112,
          113,
          114,
          115,
          116,
          117,
          118,
          119,
          120,
          121,
          122,
          123,
          124,
          125,
          126,
          127,
          128,
          129,
          130,
          131,
          132,
          133,
          134,
          135,
          136,
          137,
          138,
          139,
          140,
          141,
          142,
          143,
          144,
          145,
          146,
          147,
          148,
          149,
          150,
          151,
          152,
          153,
          154,
          155,
          156,
          157,
          158,
          159,
          160,
          161,
          162,
          163,
          164,
          165,
          166,
          167,
          168,
          169,
          170,
          171,
          172,
          173,
          174,
          175,
          176,
          177,
          178,
          179,
          180,
          181,
          182,
          183,
          184,
          185,
          186,
          187,
          188,
          189,
          190,
          191,
          192,
          193,
          194,
          195,
          196,
          197,
          198,
          199,
          200,
          201,
          202,
          203,
          204,
          205,
          206,
          207,
          208,
          209,
          210,
          211,
          212,
          213,
          214,
          215,
          216,
          217,
          218,
          219,
          220,
          221,
          222,
          223,
          224,
          225,
          226,
          227,
          228,
          229,
          230,
          231,
          232,
          233,
          234,
          235,
          236,
          237,
          238,
          239,
          240,
          241,
          242,
          243,
          244,
          245,
          246,
          247,
          248,
          249,
          250,
          251,
          252,
          253,
          254,
          255
         ],
         "y": [
          3031372.0,
          2098540.0,
          1491047.0,
          1242594.0,
          1411294.0,
          1689557.0,
          1660899.0,
          1583048.0,
          1643670.0,
          1691661.0,
          1848036.0,
          1829557.0,
          1895827.0,
          1892024.0,
          1876067.0,
          1906012.0,
          1962061.0,
          1951191.0,
          1955656.0,
          1973044.0,
          1963272.0,
          1987079.0,
          1995429.0,
          2010470.0,
          2035048.0,
          2037221.0,
          2021393.0,
          2033525.0,
          2025170.0,
          2020361.0,
          2019309.0,
          2024312.0,
          2026604.0,
          2037189.0,
          2059351.0,
          2048197.0,
          2061222.0,
          1986570.0,
          1977980.0,
          1961710.0,
          1956807.0,
          1943779.0,
          1925658.0,
          1912911.0,
          1897285.0,
          1890607.0,
          1876987.0,
          1872441.0,
          1850153.0,
          1849319.0,
          1829930.0,
          1826074.0,
          1819991.0,
          1815632.0,
          1810013.0,
          1803501.0,
          1795857.0,
          1790136.0,
          1783064.0,
          1767254.0,
          1753406.0,
          1740583.0,
          1721366.0,
          1706305.0,
          1691215.0,
          1673388.0,
          1658995.0,
          1644799.0,
          1630001.0,
          1614027.0,
          1594952.0,
          1579657.0,
          1563868.0,
          1545327.0,
          1528407.0,
          1516219.0,
          1498923.0,
          1485462.0,
          1476152.0,
          1460414.0,
          1451350.0,
          1438870.0,
          1432449.0,
          1422931.0,
          1405397.0,
          1394829.0,
          1379651.0,
          1367269.0,
          1355991.0,
          1341737.0,
          1331923.0,
          1322226.0,
          1312848.0,
          1297829.0,
          1288174.0,
          1281009.0,
          1267771.0,
          1261725.0,
          1247807.0,
          1235698.0,
          1215721.0,
          1199499.0,
          1180119.0,
          1169459.0,
          1157022.0,
          1148636.0,
          1139574.0,
          1314680.0,
          1119870.0,
          1108564.0,
          1095192.0,
          1085404.0,
          1071760.0,
          1060600.0,
          1048443.0,
          1040014.0,
          1034446.0,
          1025252.0,
          1014170.0,
          1006725.0,
          1001876.0,
          996356.0,
          988983.0,
          993741.0,
          990972.0,
          989593.0,
          988311.0,
          984121.0,
          978590.0,
          974584.0,
          967914.0,
          968622.0,
          964612.0,
          974945.0,
          974394.0,
          979750.0,
          979992.0,
          975380.0,
          973316.0,
          971170.0,
          976655.0,
          982301.0,
          981739.0,
          981226.0,
          985450.0,
          992516.0,
          993147.0,
          994337.0,
          989054.0,
          989857.0,
          992668.0,
          988735.0,
          985636.0,
          986535.0,
          988697.0,
          992384.0,
          994898.0,
          995846.0,
          994506.0,
          996345.0,
          993773.0,
          988311.0,
          994206.0,
          999730.0,
          1003220.0,
          1003719.0,
          1000419.0,
          1001305.0,
          1007501.0,
          1013653.0,
          1019802.0,
          1026430.0,
          1032848.0,
          1045474.0,
          1057373.0,
          1068908.0,
          1084620.0,
          1094751.0,
          1100467.0,
          1096021.0,
          1102667.0,
          1088360.0,
          1083252.0,
          1086800.0,
          1085641.0,
          1077707.0,
          1069090.0,
          1066040.0,
          1069139.0,
          1071304.0,
          1068775.0,
          1055432.0,
          1059363.0,
          1058914.0,
          1065886.0,
          1064970.0,
          1057222.0,
          1046157.0,
          1044886.0,
          1047777.0,
          1046015.0,
          1032950.0,
          1037935.0,
          1038384.0,
          1039585.0,
          1027502.0,
          1017654.0,
          1003880.0,
          1001988.0,
          994532.0,
          985962.0,
          976816.0,
          968507.0,
          962155.0,
          958516.0,
          942564.0,
          985797.0,
          917282.0,
          903652.0,
          900633.0,
          886096.0,
          867515.0,
          855389.0,
          846034.0,
          838202.0,
          829744.0,
          822859.0,
          819898.0,
          817076.0,
          819208.0,
          816515.0,
          848748.0,
          819057.0,
          810177.0,
          809450.0,
          804723.0,
          804264.0,
          797541.0,
          797822.0,
          800287.0,
          793351.0,
          794154.0,
          802299.0,
          806530.0,
          816306.0,
          831322.0,
          842520.0,
          874304.0,
          908310.0,
          962224.0,
          1018154.0,
          1089244.0,
          1166131.0,
          1240704.0,
          1303579.0,
          4890546.0
         ],
         "type": "bar"
        },
        {
         "marker": {
          "color": "green"
         },
         "name": "Green Channel",
         "opacity": 0.6,
         "x": [
          0,
          1,
          2,
          3,
          4,
          5,
          6,
          7,
          8,
          9,
          10,
          11,
          12,
          13,
          14,
          15,
          16,
          17,
          18,
          19,
          20,
          21,
          22,
          23,
          24,
          25,
          26,
          27,
          28,
          29,
          30,
          31,
          32,
          33,
          34,
          35,
          36,
          37,
          38,
          39,
          40,
          41,
          42,
          43,
          44,
          45,
          46,
          47,
          48,
          49,
          50,
          51,
          52,
          53,
          54,
          55,
          56,
          57,
          58,
          59,
          60,
          61,
          62,
          63,
          64,
          65,
          66,
          67,
          68,
          69,
          70,
          71,
          72,
          73,
          74,
          75,
          76,
          77,
          78,
          79,
          80,
          81,
          82,
          83,
          84,
          85,
          86,
          87,
          88,
          89,
          90,
          91,
          92,
          93,
          94,
          95,
          96,
          97,
          98,
          99,
          100,
          101,
          102,
          103,
          104,
          105,
          106,
          107,
          108,
          109,
          110,
          111,
          112,
          113,
          114,
          115,
          116,
          117,
          118,
          119,
          120,
          121,
          122,
          123,
          124,
          125,
          126,
          127,
          128,
          129,
          130,
          131,
          132,
          133,
          134,
          135,
          136,
          137,
          138,
          139,
          140,
          141,
          142,
          143,
          144,
          145,
          146,
          147,
          148,
          149,
          150,
          151,
          152,
          153,
          154,
          155,
          156,
          157,
          158,
          159,
          160,
          161,
          162,
          163,
          164,
          165,
          166,
          167,
          168,
          169,
          170,
          171,
          172,
          173,
          174,
          175,
          176,
          177,
          178,
          179,
          180,
          181,
          182,
          183,
          184,
          185,
          186,
          187,
          188,
          189,
          190,
          191,
          192,
          193,
          194,
          195,
          196,
          197,
          198,
          199,
          200,
          201,
          202,
          203,
          204,
          205,
          206,
          207,
          208,
          209,
          210,
          211,
          212,
          213,
          214,
          215,
          216,
          217,
          218,
          219,
          220,
          221,
          222,
          223,
          224,
          225,
          226,
          227,
          228,
          229,
          230,
          231,
          232,
          233,
          234,
          235,
          236,
          237,
          238,
          239,
          240,
          241,
          242,
          243,
          244,
          245,
          246,
          247,
          248,
          249,
          250,
          251,
          252,
          253,
          254,
          255
         ],
         "y": [
          4424499.0,
          2324852.0,
          1754627.0,
          1455695.0,
          1412941.0,
          1667355.0,
          1536159.0,
          1567315.0,
          1624022.0,
          1668771.0,
          1662146.0,
          1662974.0,
          1689495.0,
          1701670.0,
          1768211.0,
          1733831.0,
          1770969.0,
          1771625.0,
          1800573.0,
          1851210.0,
          1853218.0,
          1844680.0,
          1856271.0,
          1869193.0,
          1900317.0,
          1931100.0,
          1898222.0,
          1899388.0,
          1905666.0,
          1927880.0,
          1987298.0,
          2008963.0,
          1958128.0,
          1952855.0,
          1948178.0,
          1948388.0,
          1950462.0,
          1952155.0,
          1963215.0,
          1971095.0,
          1969736.0,
          1984429.0,
          1996856.0,
          1999003.0,
          2011749.0,
          2003537.0,
          2008574.0,
          1996506.0,
          2000114.0,
          1993311.0,
          1986044.0,
          1992848.0,
          1993575.0,
          1996197.0,
          1994365.0,
          1995746.0,
          1996443.0,
          1991384.0,
          1987837.0,
          1981069.0,
          1980480.0,
          1971057.0,
          1963923.0,
          1961317.0,
          1951859.0,
          1944614.0,
          1935110.0,
          1926415.0,
          1918205.0,
          1916026.0,
          1912811.0,
          1910137.0,
          1909892.0,
          1904420.0,
          1899659.0,
          1898651.0,
          1893514.0,
          1891649.0,
          1889135.0,
          1887548.0,
          1883528.0,
          1873428.0,
          1870508.0,
          1861490.0,
          1860614.0,
          1852788.0,
          1854202.0,
          1850226.0,
          1848252.0,
          1838006.0,
          1833464.0,
          1820041.0,
          1811635.0,
          1806850.0,
          1796744.0,
          1785639.0,
          1780150.0,
          1768636.0,
          1762535.0,
          1756253.0,
          1746519.0,
          1736278.0,
          1717800.0,
          1701420.0,
          1686571.0,
          1671980.0,
          1655797.0,
          1819731.0,
          1625825.0,
          1607009.0,
          1589087.0,
          1573321.0,
          1562852.0,
          1550934.0,
          1536532.0,
          1532015.0,
          1525358.0,
          1515197.0,
          1508097.0,
          1503333.0,
          1492153.0,
          1480229.0,
          1465398.0,
          1455033.0,
          1443966.0,
          1438655.0,
          1428667.0,
          1416822.0,
          1404357.0,
          1393761.0,
          1383407.0,
          1370610.0,
          1353039.0,
          1332770.0,
          1317019.0,
          1301216.0,
          1283470.0,
          1269766.0,
          1258086.0,
          1245680.0,
          1233822.0,
          1226988.0,
          1216297.0,
          1212679.0,
          1208708.0,
          1204252.0,
          1198147.0,
          1185088.0,
          1178699.0,
          1174876.0,
          1171936.0,
          1171114.0,
          1167910.0,
          1152049.0,
          1142745.0,
          1134684.0,
          1125833.0,
          1119946.0,
          1109934.0,
          1094128.0,
          1086831.0,
          1073822.0,
          1060045.0,
          1051084.0,
          1044052.0,
          1035922.0,
          1034694.0,
          1022408.0,
          1008007.0,
          997347.0,
          989631.0,
          983407.0,
          977574.0,
          962767.0,
          949116.0,
          946769.0,
          952988.0,
          954389.0,
          949236.0,
          933215.0,
          922560.0,
          902662.0,
          885940.0,
          876071.0,
          866457.0,
          855178.0,
          835617.0,
          825426.0,
          814424.0,
          803112.0,
          793437.0,
          785617.0,
          777911.0,
          764731.0,
          747840.0,
          734480.0,
          715691.0,
          699257.0,
          682578.0,
          668144.0,
          656838.0,
          647170.0,
          636651.0,
          629833.0,
          625266.0,
          606458.0,
          593066.0,
          582789.0,
          572017.0,
          562258.0,
          551257.0,
          540317.0,
          525596.0,
          517539.0,
          505716.0,
          497905.0,
          532817.0,
          467440.0,
          453504.0,
          438612.0,
          424587.0,
          412236.0,
          403872.0,
          397124.0,
          389998.0,
          378511.0,
          370314.0,
          355908.0,
          343554.0,
          330365.0,
          318594.0,
          308481.0,
          300287.0,
          292151.0,
          284952.0,
          276323.0,
          269768.0,
          265855.0,
          261042.0,
          254811.0,
          251509.0,
          246410.0,
          237499.0,
          232943.0,
          230733.0,
          224799.0,
          215843.0,
          208270.0,
          234402.0,
          214424.0,
          206765.0,
          205108.0,
          221237.0,
          273718.0,
          338202.0,
          1072305.0
         ],
         "type": "bar"
        },
        {
         "marker": {
          "color": "blue"
         },
         "name": "Blue Channel",
         "opacity": 0.6,
         "x": [
          0,
          1,
          2,
          3,
          4,
          5,
          6,
          7,
          8,
          9,
          10,
          11,
          12,
          13,
          14,
          15,
          16,
          17,
          18,
          19,
          20,
          21,
          22,
          23,
          24,
          25,
          26,
          27,
          28,
          29,
          30,
          31,
          32,
          33,
          34,
          35,
          36,
          37,
          38,
          39,
          40,
          41,
          42,
          43,
          44,
          45,
          46,
          47,
          48,
          49,
          50,
          51,
          52,
          53,
          54,
          55,
          56,
          57,
          58,
          59,
          60,
          61,
          62,
          63,
          64,
          65,
          66,
          67,
          68,
          69,
          70,
          71,
          72,
          73,
          74,
          75,
          76,
          77,
          78,
          79,
          80,
          81,
          82,
          83,
          84,
          85,
          86,
          87,
          88,
          89,
          90,
          91,
          92,
          93,
          94,
          95,
          96,
          97,
          98,
          99,
          100,
          101,
          102,
          103,
          104,
          105,
          106,
          107,
          108,
          109,
          110,
          111,
          112,
          113,
          114,
          115,
          116,
          117,
          118,
          119,
          120,
          121,
          122,
          123,
          124,
          125,
          126,
          127,
          128,
          129,
          130,
          131,
          132,
          133,
          134,
          135,
          136,
          137,
          138,
          139,
          140,
          141,
          142,
          143,
          144,
          145,
          146,
          147,
          148,
          149,
          150,
          151,
          152,
          153,
          154,
          155,
          156,
          157,
          158,
          159,
          160,
          161,
          162,
          163,
          164,
          165,
          166,
          167,
          168,
          169,
          170,
          171,
          172,
          173,
          174,
          175,
          176,
          177,
          178,
          179,
          180,
          181,
          182,
          183,
          184,
          185,
          186,
          187,
          188,
          189,
          190,
          191,
          192,
          193,
          194,
          195,
          196,
          197,
          198,
          199,
          200,
          201,
          202,
          203,
          204,
          205,
          206,
          207,
          208,
          209,
          210,
          211,
          212,
          213,
          214,
          215,
          216,
          217,
          218,
          219,
          220,
          221,
          222,
          223,
          224,
          225,
          226,
          227,
          228,
          229,
          230,
          231,
          232,
          233,
          234,
          235,
          236,
          237,
          238,
          239,
          240,
          241,
          242,
          243,
          244,
          245,
          246,
          247,
          248,
          249,
          250,
          251,
          252,
          253,
          254,
          255
         ],
         "y": [
          1.4124267E7,
          5200363.0,
          5017250.0,
          4742453.0,
          4721467.0,
          4823920.0,
          4367152.0,
          4269579.0,
          4136520.0,
          4097365.0,
          3977649.0,
          3900700.0,
          3833773.0,
          3743778.0,
          3691194.0,
          3627723.0,
          3808035.0,
          3526175.0,
          3510708.0,
          3504219.0,
          3368633.0,
          3283276.0,
          3211973.0,
          3121363.0,
          3063038.0,
          3001655.0,
          2943553.0,
          2918635.0,
          2856447.0,
          2744488.0,
          2675242.0,
          2621781.0,
          2561428.0,
          2514077.0,
          2471257.0,
          2437010.0,
          2395768.0,
          2356366.0,
          2307246.0,
          2271478.0,
          2224372.0,
          2192033.0,
          2152715.0,
          2117655.0,
          2119875.0,
          2056020.0,
          2045961.0,
          1991498.0,
          1973529.0,
          1926438.0,
          1913220.0,
          1865542.0,
          1853139.0,
          1797149.0,
          1765295.0,
          1740966.0,
          1703004.0,
          1672069.0,
          1639538.0,
          1610460.0,
          1581678.0,
          1558671.0,
          1535892.0,
          1509192.0,
          1487946.0,
          1479570.0,
          1447310.0,
          1436404.0,
          1414589.0,
          1395741.0,
          1381129.0,
          1361929.0,
          1345838.0,
          1325858.0,
          1312474.0,
          1295030.0,
          1278266.0,
          1262630.0,
          1248908.0,
          1232783.0,
          1218957.0,
          1207497.0,
          1196407.0,
          1180185.0,
          1167002.0,
          1151338.0,
          1135888.0,
          1116084.0,
          1104311.0,
          1088111.0,
          1071554.0,
          1058073.0,
          1045295.0,
          1034070.0,
          1020772.0,
          1006011.0,
          994895.0,
          981005.0,
          969352.0,
          957386.0,
          946956.0,
          937624.0,
          925324.0,
          918325.0,
          910984.0,
          907937.0,
          903670.0,
          1075349.0,
          889306.0,
          882220.0,
          876528.0,
          867777.0,
          862458.0,
          852556.0,
          840029.0,
          829738.0,
          820895.0,
          813825.0,
          806150.0,
          800139.0,
          793573.0,
          782864.0,
          777239.0,
          771379.0,
          767153.0,
          763692.0,
          757113.0,
          752215.0,
          749823.0,
          747827.0,
          742003.0,
          738049.0,
          730548.0,
          723394.0,
          719036.0,
          712767.0,
          708608.0,
          708644.0,
          704733.0,
          703876.0,
          699560.0,
          696285.0,
          689743.0,
          684299.0,
          680688.0,
          674903.0,
          670091.0,
          669684.0,
          670267.0,
          662775.0,
          658334.0,
          658681.0,
          656205.0,
          658699.0,
          657908.0,
          659554.0,
          662988.0,
          663100.0,
          659066.0,
          657001.0,
          650460.0,
          648100.0,
          645982.0,
          648189.0,
          648387.0,
          650894.0,
          649201.0,
          648862.0,
          650937.0,
          651359.0,
          650753.0,
          648286.0,
          651620.0,
          652057.0,
          660710.0,
          667724.0,
          668583.0,
          669861.0,
          675320.0,
          667569.0,
          664962.0,
          653543.0,
          655995.0,
          650493.0,
          641159.0,
          635393.0,
          629352.0,
          625551.0,
          626036.0,
          623984.0,
          620409.0,
          613212.0,
          609958.0,
          602452.0,
          596993.0,
          593756.0,
          585792.0,
          576074.0,
          567570.0,
          561202.0,
          550515.0,
          543922.0,
          539966.0,
          537578.0,
          535686.0,
          529740.0,
          523647.0,
          517893.0,
          516958.0,
          517315.0,
          518381.0,
          515688.0,
          514126.0,
          508908.0,
          506543.0,
          496570.0,
          535795.0,
          476279.0,
          463378.0,
          448691.0,
          438089.0,
          428560.0,
          418930.0,
          412578.0,
          407889.0,
          401477.0,
          397361.0,
          393527.0,
          388651.0,
          380443.0,
          373929.0,
          368244.0,
          368627.0,
          364350.0,
          361488.0,
          358643.0,
          351022.0,
          345941.0,
          336514.0,
          335927.0,
          325475.0,
          321464.0,
          345124.0,
          320509.0,
          315974.0,
          308146.0,
          316292.0,
          315747.0,
          328847.0,
          341823.0,
          356953.0,
          363618.0,
          366777.0,
          442376.0,
          410952.0,
          1766071.0
         ],
         "type": "bar"
        }
       ],
       "layout": {
        "template": {
         "data": {
          "histogram2dcontour": [
           {
            "type": "histogram2dcontour",
            "colorbar": {
             "outlinewidth": 0,
             "ticks": ""
            },
            "colorscale": [
             [
              0.0,
              "#0d0887"
             ],
             [
              0.1111111111111111,
              "#46039f"
             ],
             [
              0.2222222222222222,
              "#7201a8"
             ],
             [
              0.3333333333333333,
              "#9c179e"
             ],
             [
              0.4444444444444444,
              "#bd3786"
             ],
             [
              0.5555555555555556,
              "#d8576b"
             ],
             [
              0.6666666666666666,
              "#ed7953"
             ],
             [
              0.7777777777777778,
              "#fb9f3a"
             ],
             [
              0.8888888888888888,
              "#fdca26"
             ],
             [
              1.0,
              "#f0f921"
             ]
            ]
           }
          ],
          "choropleth": [
           {
            "type": "choropleth",
            "colorbar": {
             "outlinewidth": 0,
             "ticks": ""
            }
           }
          ],
          "histogram2d": [
           {
            "type": "histogram2d",
            "colorbar": {
             "outlinewidth": 0,
             "ticks": ""
            },
            "colorscale": [
             [
              0.0,
              "#0d0887"
             ],
             [
              0.1111111111111111,
              "#46039f"
             ],
             [
              0.2222222222222222,
              "#7201a8"
             ],
             [
              0.3333333333333333,
              "#9c179e"
             ],
             [
              0.4444444444444444,
              "#bd3786"
             ],
             [
              0.5555555555555556,
              "#d8576b"
             ],
             [
              0.6666666666666666,
              "#ed7953"
             ],
             [
              0.7777777777777778,
              "#fb9f3a"
             ],
             [
              0.8888888888888888,
              "#fdca26"
             ],
             [
              1.0,
              "#f0f921"
             ]
            ]
           }
          ],
          "heatmap": [
           {
            "type": "heatmap",
            "colorbar": {
             "outlinewidth": 0,
             "ticks": ""
            },
            "colorscale": [
             [
              0.0,
              "#0d0887"
             ],
             [
              0.1111111111111111,
              "#46039f"
             ],
             [
              0.2222222222222222,
              "#7201a8"
             ],
             [
              0.3333333333333333,
              "#9c179e"
             ],
             [
              0.4444444444444444,
              "#bd3786"
             ],
             [
              0.5555555555555556,
              "#d8576b"
             ],
             [
              0.6666666666666666,
              "#ed7953"
             ],
             [
              0.7777777777777778,
              "#fb9f3a"
             ],
             [
              0.8888888888888888,
              "#fdca26"
             ],
             [
              1.0,
              "#f0f921"
             ]
            ]
           }
          ],
          "heatmapgl": [
           {
            "type": "heatmapgl",
            "colorbar": {
             "outlinewidth": 0,
             "ticks": ""
            },
            "colorscale": [
             [
              0.0,
              "#0d0887"
             ],
             [
              0.1111111111111111,
              "#46039f"
             ],
             [
              0.2222222222222222,
              "#7201a8"
             ],
             [
              0.3333333333333333,
              "#9c179e"
             ],
             [
              0.4444444444444444,
              "#bd3786"
             ],
             [
              0.5555555555555556,
              "#d8576b"
             ],
             [
              0.6666666666666666,
              "#ed7953"
             ],
             [
              0.7777777777777778,
              "#fb9f3a"
             ],
             [
              0.8888888888888888,
              "#fdca26"
             ],
             [
              1.0,
              "#f0f921"
             ]
            ]
           }
          ],
          "contourcarpet": [
           {
            "type": "contourcarpet",
            "colorbar": {
             "outlinewidth": 0,
             "ticks": ""
            }
           }
          ],
          "contour": [
           {
            "type": "contour",
            "colorbar": {
             "outlinewidth": 0,
             "ticks": ""
            },
            "colorscale": [
             [
              0.0,
              "#0d0887"
             ],
             [
              0.1111111111111111,
              "#46039f"
             ],
             [
              0.2222222222222222,
              "#7201a8"
             ],
             [
              0.3333333333333333,
              "#9c179e"
             ],
             [
              0.4444444444444444,
              "#bd3786"
             ],
             [
              0.5555555555555556,
              "#d8576b"
             ],
             [
              0.6666666666666666,
              "#ed7953"
             ],
             [
              0.7777777777777778,
              "#fb9f3a"
             ],
             [
              0.8888888888888888,
              "#fdca26"
             ],
             [
              1.0,
              "#f0f921"
             ]
            ]
           }
          ],
          "surface": [
           {
            "type": "surface",
            "colorbar": {
             "outlinewidth": 0,
             "ticks": ""
            },
            "colorscale": [
             [
              0.0,
              "#0d0887"
             ],
             [
              0.1111111111111111,
              "#46039f"
             ],
             [
              0.2222222222222222,
              "#7201a8"
             ],
             [
              0.3333333333333333,
              "#9c179e"
             ],
             [
              0.4444444444444444,
              "#bd3786"
             ],
             [
              0.5555555555555556,
              "#d8576b"
             ],
             [
              0.6666666666666666,
              "#ed7953"
             ],
             [
              0.7777777777777778,
              "#fb9f3a"
             ],
             [
              0.8888888888888888,
              "#fdca26"
             ],
             [
              1.0,
              "#f0f921"
             ]
            ]
           }
          ],
          "mesh3d": [
           {
            "type": "mesh3d",
            "colorbar": {
             "outlinewidth": 0,
             "ticks": ""
            }
           }
          ],
          "scatter": [
           {
            "marker": {
             "line": {
              "color": "#283442"
             }
            },
            "type": "scatter"
           }
          ],
          "parcoords": [
           {
            "type": "parcoords",
            "line": {
             "colorbar": {
              "outlinewidth": 0,
              "ticks": ""
             }
            }
           }
          ],
          "scatterpolargl": [
           {
            "type": "scatterpolargl",
            "marker": {
             "colorbar": {
              "outlinewidth": 0,
              "ticks": ""
             }
            }
           }
          ],
          "bar": [
           {
            "error_x": {
             "color": "#f2f5fa"
            },
            "error_y": {
             "color": "#f2f5fa"
            },
            "marker": {
             "line": {
              "color": "rgb(17,17,17)",
              "width": 0.5
             },
             "pattern": {
              "fillmode": "overlay",
              "size": 10,
              "solidity": 0.2
             }
            },
            "type": "bar"
           }
          ],
          "scattergeo": [
           {
            "type": "scattergeo",
            "marker": {
             "colorbar": {
              "outlinewidth": 0,
              "ticks": ""
             }
            }
           }
          ],
          "scatterpolar": [
           {
            "type": "scatterpolar",
            "marker": {
             "colorbar": {
              "outlinewidth": 0,
              "ticks": ""
             }
            }
           }
          ],
          "histogram": [
           {
            "marker": {
             "pattern": {
              "fillmode": "overlay",
              "size": 10,
              "solidity": 0.2
             }
            },
            "type": "histogram"
           }
          ],
          "scattergl": [
           {
            "marker": {
             "line": {
              "color": "#283442"
             }
            },
            "type": "scattergl"
           }
          ],
          "scatter3d": [
           {
            "type": "scatter3d",
            "line": {
             "colorbar": {
              "outlinewidth": 0,
              "ticks": ""
             }
            },
            "marker": {
             "colorbar": {
              "outlinewidth": 0,
              "ticks": ""
             }
            }
           }
          ],
          "scattermapbox": [
           {
            "type": "scattermapbox",
            "marker": {
             "colorbar": {
              "outlinewidth": 0,
              "ticks": ""
             }
            }
           }
          ],
          "scatterternary": [
           {
            "type": "scatterternary",
            "marker": {
             "colorbar": {
              "outlinewidth": 0,
              "ticks": ""
             }
            }
           }
          ],
          "scattercarpet": [
           {
            "type": "scattercarpet",
            "marker": {
             "colorbar": {
              "outlinewidth": 0,
              "ticks": ""
             }
            }
           }
          ],
          "carpet": [
           {
            "aaxis": {
             "endlinecolor": "#A2B1C6",
             "gridcolor": "#506784",
             "linecolor": "#506784",
             "minorgridcolor": "#506784",
             "startlinecolor": "#A2B1C6"
            },
            "baxis": {
             "endlinecolor": "#A2B1C6",
             "gridcolor": "#506784",
             "linecolor": "#506784",
             "minorgridcolor": "#506784",
             "startlinecolor": "#A2B1C6"
            },
            "type": "carpet"
           }
          ],
          "table": [
           {
            "cells": {
             "fill": {
              "color": "#506784"
             },
             "line": {
              "color": "rgb(17,17,17)"
             }
            },
            "header": {
             "fill": {
              "color": "#2a3f5f"
             },
             "line": {
              "color": "rgb(17,17,17)"
             }
            },
            "type": "table"
           }
          ],
          "barpolar": [
           {
            "marker": {
             "line": {
              "color": "rgb(17,17,17)",
              "width": 0.5
             },
             "pattern": {
              "fillmode": "overlay",
              "size": 10,
              "solidity": 0.2
             }
            },
            "type": "barpolar"
           }
          ],
          "pie": [
           {
            "automargin": true,
            "type": "pie"
           }
          ]
         },
         "layout": {
          "autotypenumbers": "strict",
          "colorway": [
           "#636efa",
           "#EF553B",
           "#00cc96",
           "#ab63fa",
           "#FFA15A",
           "#19d3f3",
           "#FF6692",
           "#B6E880",
           "#FF97FF",
           "#FECB52"
          ],
          "font": {
           "color": "#f2f5fa"
          },
          "hovermode": "closest",
          "hoverlabel": {
           "align": "left"
          },
          "paper_bgcolor": "rgb(17,17,17)",
          "plot_bgcolor": "rgb(17,17,17)",
          "polar": {
           "bgcolor": "rgb(17,17,17)",
           "angularaxis": {
            "gridcolor": "#506784",
            "linecolor": "#506784",
            "ticks": ""
           },
           "radialaxis": {
            "gridcolor": "#506784",
            "linecolor": "#506784",
            "ticks": ""
           }
          },
          "ternary": {
           "bgcolor": "rgb(17,17,17)",
           "aaxis": {
            "gridcolor": "#506784",
            "linecolor": "#506784",
            "ticks": ""
           },
           "baxis": {
            "gridcolor": "#506784",
            "linecolor": "#506784",
            "ticks": ""
           },
           "caxis": {
            "gridcolor": "#506784",
            "linecolor": "#506784",
            "ticks": ""
           }
          },
          "coloraxis": {
           "colorbar": {
            "outlinewidth": 0,
            "ticks": ""
           }
          },
          "colorscale": {
           "sequential": [
            [
             0.0,
             "#0d0887"
            ],
            [
             0.1111111111111111,
             "#46039f"
            ],
            [
             0.2222222222222222,
             "#7201a8"
            ],
            [
             0.3333333333333333,
             "#9c179e"
            ],
            [
             0.4444444444444444,
             "#bd3786"
            ],
            [
             0.5555555555555556,
             "#d8576b"
            ],
            [
             0.6666666666666666,
             "#ed7953"
            ],
            [
             0.7777777777777778,
             "#fb9f3a"
            ],
            [
             0.8888888888888888,
             "#fdca26"
            ],
            [
             1.0,
             "#f0f921"
            ]
           ],
           "sequentialminus": [
            [
             0.0,
             "#0d0887"
            ],
            [
             0.1111111111111111,
             "#46039f"
            ],
            [
             0.2222222222222222,
             "#7201a8"
            ],
            [
             0.3333333333333333,
             "#9c179e"
            ],
            [
             0.4444444444444444,
             "#bd3786"
            ],
            [
             0.5555555555555556,
             "#d8576b"
            ],
            [
             0.6666666666666666,
             "#ed7953"
            ],
            [
             0.7777777777777778,
             "#fb9f3a"
            ],
            [
             0.8888888888888888,
             "#fdca26"
            ],
            [
             1.0,
             "#f0f921"
            ]
           ],
           "diverging": [
            [
             0,
             "#8e0152"
            ],
            [
             0.1,
             "#c51b7d"
            ],
            [
             0.2,
             "#de77ae"
            ],
            [
             0.3,
             "#f1b6da"
            ],
            [
             0.4,
             "#fde0ef"
            ],
            [
             0.5,
             "#f7f7f7"
            ],
            [
             0.6,
             "#e6f5d0"
            ],
            [
             0.7,
             "#b8e186"
            ],
            [
             0.8,
             "#7fbc41"
            ],
            [
             0.9,
             "#4d9221"
            ],
            [
             1,
             "#276419"
            ]
           ]
          },
          "xaxis": {
           "gridcolor": "#283442",
           "linecolor": "#506784",
           "ticks": "",
           "title": {
            "standoff": 15
           },
           "zerolinecolor": "#283442",
           "automargin": true,
           "zerolinewidth": 2
          },
          "yaxis": {
           "gridcolor": "#283442",
           "linecolor": "#506784",
           "ticks": "",
           "title": {
            "standoff": 15
           },
           "zerolinecolor": "#283442",
           "automargin": true,
           "zerolinewidth": 2
          },
          "scene": {
           "xaxis": {
            "backgroundcolor": "rgb(17,17,17)",
            "gridcolor": "#506784",
            "linecolor": "#506784",
            "showbackground": true,
            "ticks": "",
            "zerolinecolor": "#C8D4E3",
            "gridwidth": 2
           },
           "yaxis": {
            "backgroundcolor": "rgb(17,17,17)",
            "gridcolor": "#506784",
            "linecolor": "#506784",
            "showbackground": true,
            "ticks": "",
            "zerolinecolor": "#C8D4E3",
            "gridwidth": 2
           },
           "zaxis": {
            "backgroundcolor": "rgb(17,17,17)",
            "gridcolor": "#506784",
            "linecolor": "#506784",
            "showbackground": true,
            "ticks": "",
            "zerolinecolor": "#C8D4E3",
            "gridwidth": 2
           }
          },
          "shapedefaults": {
           "line": {
            "color": "#f2f5fa"
           }
          },
          "annotationdefaults": {
           "arrowcolor": "#f2f5fa",
           "arrowhead": 0,
           "arrowwidth": 1
          },
          "geo": {
           "bgcolor": "rgb(17,17,17)",
           "landcolor": "rgb(17,17,17)",
           "subunitcolor": "#506784",
           "showland": true,
           "showlakes": true,
           "lakecolor": "rgb(17,17,17)"
          },
          "title": {
           "x": 0.05
          },
          "updatemenudefaults": {
           "bgcolor": "#506784",
           "borderwidth": 0
          },
          "sliderdefaults": {
           "bgcolor": "#C8D4E3",
           "borderwidth": 1,
           "bordercolor": "rgb(17,17,17)",
           "tickwidth": 0
          },
          "mapbox": {
           "style": "dark"
          }
         }
        },
        "title": {
         "text": "Aggregated Color Histogram for Dataset"
        },
        "xaxis": {
         "title": {
          "text": "Pixel Intensity"
         }
        },
        "yaxis": {
         "title": {
          "text": "Frequency"
         }
        },
        "barmode": "overlay",
        "legend": {
         "title": {
          "text": "Color Channels"
         }
        }
       },
       "config": {
        "plotlyServerURL": "https://plot.ly"
       }
      },
      "text/html": [
       "<div>                            <div id=\"25f351ea-0518-463e-87c8-12be5922f61d\" class=\"plotly-graph-div\" style=\"height:525px; width:100%;\"></div>            <script type=\"text/javascript\">                require([\"plotly\"], function(Plotly) {                    window.PLOTLYENV=window.PLOTLYENV || {};                                    if (document.getElementById(\"25f351ea-0518-463e-87c8-12be5922f61d\")) {                    Plotly.newPlot(                        \"25f351ea-0518-463e-87c8-12be5922f61d\",                        [{\"marker\":{\"color\":\"red\"},\"name\":\"Red Channel\",\"opacity\":0.6,\"x\":[0,1,2,3,4,5,6,7,8,9,10,11,12,13,14,15,16,17,18,19,20,21,22,23,24,25,26,27,28,29,30,31,32,33,34,35,36,37,38,39,40,41,42,43,44,45,46,47,48,49,50,51,52,53,54,55,56,57,58,59,60,61,62,63,64,65,66,67,68,69,70,71,72,73,74,75,76,77,78,79,80,81,82,83,84,85,86,87,88,89,90,91,92,93,94,95,96,97,98,99,100,101,102,103,104,105,106,107,108,109,110,111,112,113,114,115,116,117,118,119,120,121,122,123,124,125,126,127,128,129,130,131,132,133,134,135,136,137,138,139,140,141,142,143,144,145,146,147,148,149,150,151,152,153,154,155,156,157,158,159,160,161,162,163,164,165,166,167,168,169,170,171,172,173,174,175,176,177,178,179,180,181,182,183,184,185,186,187,188,189,190,191,192,193,194,195,196,197,198,199,200,201,202,203,204,205,206,207,208,209,210,211,212,213,214,215,216,217,218,219,220,221,222,223,224,225,226,227,228,229,230,231,232,233,234,235,236,237,238,239,240,241,242,243,244,245,246,247,248,249,250,251,252,253,254,255],\"y\":[3031372.0,2098540.0,1491047.0,1242594.0,1411294.0,1689557.0,1660899.0,1583048.0,1643670.0,1691661.0,1848036.0,1829557.0,1895827.0,1892024.0,1876067.0,1906012.0,1962061.0,1951191.0,1955656.0,1973044.0,1963272.0,1987079.0,1995429.0,2010470.0,2035048.0,2037221.0,2021393.0,2033525.0,2025170.0,2020361.0,2019309.0,2024312.0,2026604.0,2037189.0,2059351.0,2048197.0,2061222.0,1986570.0,1977980.0,1961710.0,1956807.0,1943779.0,1925658.0,1912911.0,1897285.0,1890607.0,1876987.0,1872441.0,1850153.0,1849319.0,1829930.0,1826074.0,1819991.0,1815632.0,1810013.0,1803501.0,1795857.0,1790136.0,1783064.0,1767254.0,1753406.0,1740583.0,1721366.0,1706305.0,1691215.0,1673388.0,1658995.0,1644799.0,1630001.0,1614027.0,1594952.0,1579657.0,1563868.0,1545327.0,1528407.0,1516219.0,1498923.0,1485462.0,1476152.0,1460414.0,1451350.0,1438870.0,1432449.0,1422931.0,1405397.0,1394829.0,1379651.0,1367269.0,1355991.0,1341737.0,1331923.0,1322226.0,1312848.0,1297829.0,1288174.0,1281009.0,1267771.0,1261725.0,1247807.0,1235698.0,1215721.0,1199499.0,1180119.0,1169459.0,1157022.0,1148636.0,1139574.0,1314680.0,1119870.0,1108564.0,1095192.0,1085404.0,1071760.0,1060600.0,1048443.0,1040014.0,1034446.0,1025252.0,1014170.0,1006725.0,1001876.0,996356.0,988983.0,993741.0,990972.0,989593.0,988311.0,984121.0,978590.0,974584.0,967914.0,968622.0,964612.0,974945.0,974394.0,979750.0,979992.0,975380.0,973316.0,971170.0,976655.0,982301.0,981739.0,981226.0,985450.0,992516.0,993147.0,994337.0,989054.0,989857.0,992668.0,988735.0,985636.0,986535.0,988697.0,992384.0,994898.0,995846.0,994506.0,996345.0,993773.0,988311.0,994206.0,999730.0,1003220.0,1003719.0,1000419.0,1001305.0,1007501.0,1013653.0,1019802.0,1026430.0,1032848.0,1045474.0,1057373.0,1068908.0,1084620.0,1094751.0,1100467.0,1096021.0,1102667.0,1088360.0,1083252.0,1086800.0,1085641.0,1077707.0,1069090.0,1066040.0,1069139.0,1071304.0,1068775.0,1055432.0,1059363.0,1058914.0,1065886.0,1064970.0,1057222.0,1046157.0,1044886.0,1047777.0,1046015.0,1032950.0,1037935.0,1038384.0,1039585.0,1027502.0,1017654.0,1003880.0,1001988.0,994532.0,985962.0,976816.0,968507.0,962155.0,958516.0,942564.0,985797.0,917282.0,903652.0,900633.0,886096.0,867515.0,855389.0,846034.0,838202.0,829744.0,822859.0,819898.0,817076.0,819208.0,816515.0,848748.0,819057.0,810177.0,809450.0,804723.0,804264.0,797541.0,797822.0,800287.0,793351.0,794154.0,802299.0,806530.0,816306.0,831322.0,842520.0,874304.0,908310.0,962224.0,1018154.0,1089244.0,1166131.0,1240704.0,1303579.0,4890546.0],\"type\":\"bar\"},{\"marker\":{\"color\":\"green\"},\"name\":\"Green Channel\",\"opacity\":0.6,\"x\":[0,1,2,3,4,5,6,7,8,9,10,11,12,13,14,15,16,17,18,19,20,21,22,23,24,25,26,27,28,29,30,31,32,33,34,35,36,37,38,39,40,41,42,43,44,45,46,47,48,49,50,51,52,53,54,55,56,57,58,59,60,61,62,63,64,65,66,67,68,69,70,71,72,73,74,75,76,77,78,79,80,81,82,83,84,85,86,87,88,89,90,91,92,93,94,95,96,97,98,99,100,101,102,103,104,105,106,107,108,109,110,111,112,113,114,115,116,117,118,119,120,121,122,123,124,125,126,127,128,129,130,131,132,133,134,135,136,137,138,139,140,141,142,143,144,145,146,147,148,149,150,151,152,153,154,155,156,157,158,159,160,161,162,163,164,165,166,167,168,169,170,171,172,173,174,175,176,177,178,179,180,181,182,183,184,185,186,187,188,189,190,191,192,193,194,195,196,197,198,199,200,201,202,203,204,205,206,207,208,209,210,211,212,213,214,215,216,217,218,219,220,221,222,223,224,225,226,227,228,229,230,231,232,233,234,235,236,237,238,239,240,241,242,243,244,245,246,247,248,249,250,251,252,253,254,255],\"y\":[4424499.0,2324852.0,1754627.0,1455695.0,1412941.0,1667355.0,1536159.0,1567315.0,1624022.0,1668771.0,1662146.0,1662974.0,1689495.0,1701670.0,1768211.0,1733831.0,1770969.0,1771625.0,1800573.0,1851210.0,1853218.0,1844680.0,1856271.0,1869193.0,1900317.0,1931100.0,1898222.0,1899388.0,1905666.0,1927880.0,1987298.0,2008963.0,1958128.0,1952855.0,1948178.0,1948388.0,1950462.0,1952155.0,1963215.0,1971095.0,1969736.0,1984429.0,1996856.0,1999003.0,2011749.0,2003537.0,2008574.0,1996506.0,2000114.0,1993311.0,1986044.0,1992848.0,1993575.0,1996197.0,1994365.0,1995746.0,1996443.0,1991384.0,1987837.0,1981069.0,1980480.0,1971057.0,1963923.0,1961317.0,1951859.0,1944614.0,1935110.0,1926415.0,1918205.0,1916026.0,1912811.0,1910137.0,1909892.0,1904420.0,1899659.0,1898651.0,1893514.0,1891649.0,1889135.0,1887548.0,1883528.0,1873428.0,1870508.0,1861490.0,1860614.0,1852788.0,1854202.0,1850226.0,1848252.0,1838006.0,1833464.0,1820041.0,1811635.0,1806850.0,1796744.0,1785639.0,1780150.0,1768636.0,1762535.0,1756253.0,1746519.0,1736278.0,1717800.0,1701420.0,1686571.0,1671980.0,1655797.0,1819731.0,1625825.0,1607009.0,1589087.0,1573321.0,1562852.0,1550934.0,1536532.0,1532015.0,1525358.0,1515197.0,1508097.0,1503333.0,1492153.0,1480229.0,1465398.0,1455033.0,1443966.0,1438655.0,1428667.0,1416822.0,1404357.0,1393761.0,1383407.0,1370610.0,1353039.0,1332770.0,1317019.0,1301216.0,1283470.0,1269766.0,1258086.0,1245680.0,1233822.0,1226988.0,1216297.0,1212679.0,1208708.0,1204252.0,1198147.0,1185088.0,1178699.0,1174876.0,1171936.0,1171114.0,1167910.0,1152049.0,1142745.0,1134684.0,1125833.0,1119946.0,1109934.0,1094128.0,1086831.0,1073822.0,1060045.0,1051084.0,1044052.0,1035922.0,1034694.0,1022408.0,1008007.0,997347.0,989631.0,983407.0,977574.0,962767.0,949116.0,946769.0,952988.0,954389.0,949236.0,933215.0,922560.0,902662.0,885940.0,876071.0,866457.0,855178.0,835617.0,825426.0,814424.0,803112.0,793437.0,785617.0,777911.0,764731.0,747840.0,734480.0,715691.0,699257.0,682578.0,668144.0,656838.0,647170.0,636651.0,629833.0,625266.0,606458.0,593066.0,582789.0,572017.0,562258.0,551257.0,540317.0,525596.0,517539.0,505716.0,497905.0,532817.0,467440.0,453504.0,438612.0,424587.0,412236.0,403872.0,397124.0,389998.0,378511.0,370314.0,355908.0,343554.0,330365.0,318594.0,308481.0,300287.0,292151.0,284952.0,276323.0,269768.0,265855.0,261042.0,254811.0,251509.0,246410.0,237499.0,232943.0,230733.0,224799.0,215843.0,208270.0,234402.0,214424.0,206765.0,205108.0,221237.0,273718.0,338202.0,1072305.0],\"type\":\"bar\"},{\"marker\":{\"color\":\"blue\"},\"name\":\"Blue Channel\",\"opacity\":0.6,\"x\":[0,1,2,3,4,5,6,7,8,9,10,11,12,13,14,15,16,17,18,19,20,21,22,23,24,25,26,27,28,29,30,31,32,33,34,35,36,37,38,39,40,41,42,43,44,45,46,47,48,49,50,51,52,53,54,55,56,57,58,59,60,61,62,63,64,65,66,67,68,69,70,71,72,73,74,75,76,77,78,79,80,81,82,83,84,85,86,87,88,89,90,91,92,93,94,95,96,97,98,99,100,101,102,103,104,105,106,107,108,109,110,111,112,113,114,115,116,117,118,119,120,121,122,123,124,125,126,127,128,129,130,131,132,133,134,135,136,137,138,139,140,141,142,143,144,145,146,147,148,149,150,151,152,153,154,155,156,157,158,159,160,161,162,163,164,165,166,167,168,169,170,171,172,173,174,175,176,177,178,179,180,181,182,183,184,185,186,187,188,189,190,191,192,193,194,195,196,197,198,199,200,201,202,203,204,205,206,207,208,209,210,211,212,213,214,215,216,217,218,219,220,221,222,223,224,225,226,227,228,229,230,231,232,233,234,235,236,237,238,239,240,241,242,243,244,245,246,247,248,249,250,251,252,253,254,255],\"y\":[14124267.0,5200363.0,5017250.0,4742453.0,4721467.0,4823920.0,4367152.0,4269579.0,4136520.0,4097365.0,3977649.0,3900700.0,3833773.0,3743778.0,3691194.0,3627723.0,3808035.0,3526175.0,3510708.0,3504219.0,3368633.0,3283276.0,3211973.0,3121363.0,3063038.0,3001655.0,2943553.0,2918635.0,2856447.0,2744488.0,2675242.0,2621781.0,2561428.0,2514077.0,2471257.0,2437010.0,2395768.0,2356366.0,2307246.0,2271478.0,2224372.0,2192033.0,2152715.0,2117655.0,2119875.0,2056020.0,2045961.0,1991498.0,1973529.0,1926438.0,1913220.0,1865542.0,1853139.0,1797149.0,1765295.0,1740966.0,1703004.0,1672069.0,1639538.0,1610460.0,1581678.0,1558671.0,1535892.0,1509192.0,1487946.0,1479570.0,1447310.0,1436404.0,1414589.0,1395741.0,1381129.0,1361929.0,1345838.0,1325858.0,1312474.0,1295030.0,1278266.0,1262630.0,1248908.0,1232783.0,1218957.0,1207497.0,1196407.0,1180185.0,1167002.0,1151338.0,1135888.0,1116084.0,1104311.0,1088111.0,1071554.0,1058073.0,1045295.0,1034070.0,1020772.0,1006011.0,994895.0,981005.0,969352.0,957386.0,946956.0,937624.0,925324.0,918325.0,910984.0,907937.0,903670.0,1075349.0,889306.0,882220.0,876528.0,867777.0,862458.0,852556.0,840029.0,829738.0,820895.0,813825.0,806150.0,800139.0,793573.0,782864.0,777239.0,771379.0,767153.0,763692.0,757113.0,752215.0,749823.0,747827.0,742003.0,738049.0,730548.0,723394.0,719036.0,712767.0,708608.0,708644.0,704733.0,703876.0,699560.0,696285.0,689743.0,684299.0,680688.0,674903.0,670091.0,669684.0,670267.0,662775.0,658334.0,658681.0,656205.0,658699.0,657908.0,659554.0,662988.0,663100.0,659066.0,657001.0,650460.0,648100.0,645982.0,648189.0,648387.0,650894.0,649201.0,648862.0,650937.0,651359.0,650753.0,648286.0,651620.0,652057.0,660710.0,667724.0,668583.0,669861.0,675320.0,667569.0,664962.0,653543.0,655995.0,650493.0,641159.0,635393.0,629352.0,625551.0,626036.0,623984.0,620409.0,613212.0,609958.0,602452.0,596993.0,593756.0,585792.0,576074.0,567570.0,561202.0,550515.0,543922.0,539966.0,537578.0,535686.0,529740.0,523647.0,517893.0,516958.0,517315.0,518381.0,515688.0,514126.0,508908.0,506543.0,496570.0,535795.0,476279.0,463378.0,448691.0,438089.0,428560.0,418930.0,412578.0,407889.0,401477.0,397361.0,393527.0,388651.0,380443.0,373929.0,368244.0,368627.0,364350.0,361488.0,358643.0,351022.0,345941.0,336514.0,335927.0,325475.0,321464.0,345124.0,320509.0,315974.0,308146.0,316292.0,315747.0,328847.0,341823.0,356953.0,363618.0,366777.0,442376.0,410952.0,1766071.0],\"type\":\"bar\"}],                        {\"template\":{\"data\":{\"histogram2dcontour\":[{\"type\":\"histogram2dcontour\",\"colorbar\":{\"outlinewidth\":0,\"ticks\":\"\"},\"colorscale\":[[0.0,\"#0d0887\"],[0.1111111111111111,\"#46039f\"],[0.2222222222222222,\"#7201a8\"],[0.3333333333333333,\"#9c179e\"],[0.4444444444444444,\"#bd3786\"],[0.5555555555555556,\"#d8576b\"],[0.6666666666666666,\"#ed7953\"],[0.7777777777777778,\"#fb9f3a\"],[0.8888888888888888,\"#fdca26\"],[1.0,\"#f0f921\"]]}],\"choropleth\":[{\"type\":\"choropleth\",\"colorbar\":{\"outlinewidth\":0,\"ticks\":\"\"}}],\"histogram2d\":[{\"type\":\"histogram2d\",\"colorbar\":{\"outlinewidth\":0,\"ticks\":\"\"},\"colorscale\":[[0.0,\"#0d0887\"],[0.1111111111111111,\"#46039f\"],[0.2222222222222222,\"#7201a8\"],[0.3333333333333333,\"#9c179e\"],[0.4444444444444444,\"#bd3786\"],[0.5555555555555556,\"#d8576b\"],[0.6666666666666666,\"#ed7953\"],[0.7777777777777778,\"#fb9f3a\"],[0.8888888888888888,\"#fdca26\"],[1.0,\"#f0f921\"]]}],\"heatmap\":[{\"type\":\"heatmap\",\"colorbar\":{\"outlinewidth\":0,\"ticks\":\"\"},\"colorscale\":[[0.0,\"#0d0887\"],[0.1111111111111111,\"#46039f\"],[0.2222222222222222,\"#7201a8\"],[0.3333333333333333,\"#9c179e\"],[0.4444444444444444,\"#bd3786\"],[0.5555555555555556,\"#d8576b\"],[0.6666666666666666,\"#ed7953\"],[0.7777777777777778,\"#fb9f3a\"],[0.8888888888888888,\"#fdca26\"],[1.0,\"#f0f921\"]]}],\"heatmapgl\":[{\"type\":\"heatmapgl\",\"colorbar\":{\"outlinewidth\":0,\"ticks\":\"\"},\"colorscale\":[[0.0,\"#0d0887\"],[0.1111111111111111,\"#46039f\"],[0.2222222222222222,\"#7201a8\"],[0.3333333333333333,\"#9c179e\"],[0.4444444444444444,\"#bd3786\"],[0.5555555555555556,\"#d8576b\"],[0.6666666666666666,\"#ed7953\"],[0.7777777777777778,\"#fb9f3a\"],[0.8888888888888888,\"#fdca26\"],[1.0,\"#f0f921\"]]}],\"contourcarpet\":[{\"type\":\"contourcarpet\",\"colorbar\":{\"outlinewidth\":0,\"ticks\":\"\"}}],\"contour\":[{\"type\":\"contour\",\"colorbar\":{\"outlinewidth\":0,\"ticks\":\"\"},\"colorscale\":[[0.0,\"#0d0887\"],[0.1111111111111111,\"#46039f\"],[0.2222222222222222,\"#7201a8\"],[0.3333333333333333,\"#9c179e\"],[0.4444444444444444,\"#bd3786\"],[0.5555555555555556,\"#d8576b\"],[0.6666666666666666,\"#ed7953\"],[0.7777777777777778,\"#fb9f3a\"],[0.8888888888888888,\"#fdca26\"],[1.0,\"#f0f921\"]]}],\"surface\":[{\"type\":\"surface\",\"colorbar\":{\"outlinewidth\":0,\"ticks\":\"\"},\"colorscale\":[[0.0,\"#0d0887\"],[0.1111111111111111,\"#46039f\"],[0.2222222222222222,\"#7201a8\"],[0.3333333333333333,\"#9c179e\"],[0.4444444444444444,\"#bd3786\"],[0.5555555555555556,\"#d8576b\"],[0.6666666666666666,\"#ed7953\"],[0.7777777777777778,\"#fb9f3a\"],[0.8888888888888888,\"#fdca26\"],[1.0,\"#f0f921\"]]}],\"mesh3d\":[{\"type\":\"mesh3d\",\"colorbar\":{\"outlinewidth\":0,\"ticks\":\"\"}}],\"scatter\":[{\"marker\":{\"line\":{\"color\":\"#283442\"}},\"type\":\"scatter\"}],\"parcoords\":[{\"type\":\"parcoords\",\"line\":{\"colorbar\":{\"outlinewidth\":0,\"ticks\":\"\"}}}],\"scatterpolargl\":[{\"type\":\"scatterpolargl\",\"marker\":{\"colorbar\":{\"outlinewidth\":0,\"ticks\":\"\"}}}],\"bar\":[{\"error_x\":{\"color\":\"#f2f5fa\"},\"error_y\":{\"color\":\"#f2f5fa\"},\"marker\":{\"line\":{\"color\":\"rgb(17,17,17)\",\"width\":0.5},\"pattern\":{\"fillmode\":\"overlay\",\"size\":10,\"solidity\":0.2}},\"type\":\"bar\"}],\"scattergeo\":[{\"type\":\"scattergeo\",\"marker\":{\"colorbar\":{\"outlinewidth\":0,\"ticks\":\"\"}}}],\"scatterpolar\":[{\"type\":\"scatterpolar\",\"marker\":{\"colorbar\":{\"outlinewidth\":0,\"ticks\":\"\"}}}],\"histogram\":[{\"marker\":{\"pattern\":{\"fillmode\":\"overlay\",\"size\":10,\"solidity\":0.2}},\"type\":\"histogram\"}],\"scattergl\":[{\"marker\":{\"line\":{\"color\":\"#283442\"}},\"type\":\"scattergl\"}],\"scatter3d\":[{\"type\":\"scatter3d\",\"line\":{\"colorbar\":{\"outlinewidth\":0,\"ticks\":\"\"}},\"marker\":{\"colorbar\":{\"outlinewidth\":0,\"ticks\":\"\"}}}],\"scattermapbox\":[{\"type\":\"scattermapbox\",\"marker\":{\"colorbar\":{\"outlinewidth\":0,\"ticks\":\"\"}}}],\"scatterternary\":[{\"type\":\"scatterternary\",\"marker\":{\"colorbar\":{\"outlinewidth\":0,\"ticks\":\"\"}}}],\"scattercarpet\":[{\"type\":\"scattercarpet\",\"marker\":{\"colorbar\":{\"outlinewidth\":0,\"ticks\":\"\"}}}],\"carpet\":[{\"aaxis\":{\"endlinecolor\":\"#A2B1C6\",\"gridcolor\":\"#506784\",\"linecolor\":\"#506784\",\"minorgridcolor\":\"#506784\",\"startlinecolor\":\"#A2B1C6\"},\"baxis\":{\"endlinecolor\":\"#A2B1C6\",\"gridcolor\":\"#506784\",\"linecolor\":\"#506784\",\"minorgridcolor\":\"#506784\",\"startlinecolor\":\"#A2B1C6\"},\"type\":\"carpet\"}],\"table\":[{\"cells\":{\"fill\":{\"color\":\"#506784\"},\"line\":{\"color\":\"rgb(17,17,17)\"}},\"header\":{\"fill\":{\"color\":\"#2a3f5f\"},\"line\":{\"color\":\"rgb(17,17,17)\"}},\"type\":\"table\"}],\"barpolar\":[{\"marker\":{\"line\":{\"color\":\"rgb(17,17,17)\",\"width\":0.5},\"pattern\":{\"fillmode\":\"overlay\",\"size\":10,\"solidity\":0.2}},\"type\":\"barpolar\"}],\"pie\":[{\"automargin\":true,\"type\":\"pie\"}]},\"layout\":{\"autotypenumbers\":\"strict\",\"colorway\":[\"#636efa\",\"#EF553B\",\"#00cc96\",\"#ab63fa\",\"#FFA15A\",\"#19d3f3\",\"#FF6692\",\"#B6E880\",\"#FF97FF\",\"#FECB52\"],\"font\":{\"color\":\"#f2f5fa\"},\"hovermode\":\"closest\",\"hoverlabel\":{\"align\":\"left\"},\"paper_bgcolor\":\"rgb(17,17,17)\",\"plot_bgcolor\":\"rgb(17,17,17)\",\"polar\":{\"bgcolor\":\"rgb(17,17,17)\",\"angularaxis\":{\"gridcolor\":\"#506784\",\"linecolor\":\"#506784\",\"ticks\":\"\"},\"radialaxis\":{\"gridcolor\":\"#506784\",\"linecolor\":\"#506784\",\"ticks\":\"\"}},\"ternary\":{\"bgcolor\":\"rgb(17,17,17)\",\"aaxis\":{\"gridcolor\":\"#506784\",\"linecolor\":\"#506784\",\"ticks\":\"\"},\"baxis\":{\"gridcolor\":\"#506784\",\"linecolor\":\"#506784\",\"ticks\":\"\"},\"caxis\":{\"gridcolor\":\"#506784\",\"linecolor\":\"#506784\",\"ticks\":\"\"}},\"coloraxis\":{\"colorbar\":{\"outlinewidth\":0,\"ticks\":\"\"}},\"colorscale\":{\"sequential\":[[0.0,\"#0d0887\"],[0.1111111111111111,\"#46039f\"],[0.2222222222222222,\"#7201a8\"],[0.3333333333333333,\"#9c179e\"],[0.4444444444444444,\"#bd3786\"],[0.5555555555555556,\"#d8576b\"],[0.6666666666666666,\"#ed7953\"],[0.7777777777777778,\"#fb9f3a\"],[0.8888888888888888,\"#fdca26\"],[1.0,\"#f0f921\"]],\"sequentialminus\":[[0.0,\"#0d0887\"],[0.1111111111111111,\"#46039f\"],[0.2222222222222222,\"#7201a8\"],[0.3333333333333333,\"#9c179e\"],[0.4444444444444444,\"#bd3786\"],[0.5555555555555556,\"#d8576b\"],[0.6666666666666666,\"#ed7953\"],[0.7777777777777778,\"#fb9f3a\"],[0.8888888888888888,\"#fdca26\"],[1.0,\"#f0f921\"]],\"diverging\":[[0,\"#8e0152\"],[0.1,\"#c51b7d\"],[0.2,\"#de77ae\"],[0.3,\"#f1b6da\"],[0.4,\"#fde0ef\"],[0.5,\"#f7f7f7\"],[0.6,\"#e6f5d0\"],[0.7,\"#b8e186\"],[0.8,\"#7fbc41\"],[0.9,\"#4d9221\"],[1,\"#276419\"]]},\"xaxis\":{\"gridcolor\":\"#283442\",\"linecolor\":\"#506784\",\"ticks\":\"\",\"title\":{\"standoff\":15},\"zerolinecolor\":\"#283442\",\"automargin\":true,\"zerolinewidth\":2},\"yaxis\":{\"gridcolor\":\"#283442\",\"linecolor\":\"#506784\",\"ticks\":\"\",\"title\":{\"standoff\":15},\"zerolinecolor\":\"#283442\",\"automargin\":true,\"zerolinewidth\":2},\"scene\":{\"xaxis\":{\"backgroundcolor\":\"rgb(17,17,17)\",\"gridcolor\":\"#506784\",\"linecolor\":\"#506784\",\"showbackground\":true,\"ticks\":\"\",\"zerolinecolor\":\"#C8D4E3\",\"gridwidth\":2},\"yaxis\":{\"backgroundcolor\":\"rgb(17,17,17)\",\"gridcolor\":\"#506784\",\"linecolor\":\"#506784\",\"showbackground\":true,\"ticks\":\"\",\"zerolinecolor\":\"#C8D4E3\",\"gridwidth\":2},\"zaxis\":{\"backgroundcolor\":\"rgb(17,17,17)\",\"gridcolor\":\"#506784\",\"linecolor\":\"#506784\",\"showbackground\":true,\"ticks\":\"\",\"zerolinecolor\":\"#C8D4E3\",\"gridwidth\":2}},\"shapedefaults\":{\"line\":{\"color\":\"#f2f5fa\"}},\"annotationdefaults\":{\"arrowcolor\":\"#f2f5fa\",\"arrowhead\":0,\"arrowwidth\":1},\"geo\":{\"bgcolor\":\"rgb(17,17,17)\",\"landcolor\":\"rgb(17,17,17)\",\"subunitcolor\":\"#506784\",\"showland\":true,\"showlakes\":true,\"lakecolor\":\"rgb(17,17,17)\"},\"title\":{\"x\":0.05},\"updatemenudefaults\":{\"bgcolor\":\"#506784\",\"borderwidth\":0},\"sliderdefaults\":{\"bgcolor\":\"#C8D4E3\",\"borderwidth\":1,\"bordercolor\":\"rgb(17,17,17)\",\"tickwidth\":0},\"mapbox\":{\"style\":\"dark\"}}},\"title\":{\"text\":\"Aggregated Color Histogram for Dataset\"},\"xaxis\":{\"title\":{\"text\":\"Pixel Intensity\"}},\"yaxis\":{\"title\":{\"text\":\"Frequency\"}},\"barmode\":\"overlay\",\"legend\":{\"title\":{\"text\":\"Color Channels\"}}},                        {\"responsive\": true}                    ).then(function(){\n",
       "                            \n",
       "var gd = document.getElementById('25f351ea-0518-463e-87c8-12be5922f61d');\n",
       "var x = new MutationObserver(function (mutations, observer) {{\n",
       "        var display = window.getComputedStyle(gd).display;\n",
       "        if (!display || display === 'none') {{\n",
       "            console.log([gd, 'removed!']);\n",
       "            Plotly.purge(gd);\n",
       "            observer.disconnect();\n",
       "        }}\n",
       "}});\n",
       "\n",
       "// Listen for the removal of the full notebook cells\n",
       "var notebookContainer = gd.closest('#notebook-container');\n",
       "if (notebookContainer) {{\n",
       "    x.observe(notebookContainer, {childList: true});\n",
       "}}\n",
       "\n",
       "// Listen for the clearing of the current output cell\n",
       "var outputEl = gd.closest('.output');\n",
       "if (outputEl) {{\n",
       "    x.observe(outputEl, {childList: true});\n",
       "}}\n",
       "\n",
       "                        })                };                });            </script>        </div>"
      ]
     },
     "metadata": {},
     "output_type": "display_data"
    }
   ],
   "execution_count": 30
  }
 ],
 "metadata": {
  "kernelspec": {
   "display_name": "Python 3",
   "language": "python",
   "name": "python3"
  },
  "language_info": {
   "codemirror_mode": {
    "name": "ipython",
    "version": 2
   },
   "file_extension": ".py",
   "mimetype": "text/x-python",
   "name": "python",
   "nbconvert_exporter": "python",
   "pygments_lexer": "ipython2",
   "version": "2.7.6"
  }
 },
 "nbformat": 4,
 "nbformat_minor": 5
}
